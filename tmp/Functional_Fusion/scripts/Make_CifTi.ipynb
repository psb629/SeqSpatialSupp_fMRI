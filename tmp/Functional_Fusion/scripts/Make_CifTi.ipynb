{
 "cells": [
  {
   "cell_type": "markdown",
   "id": "f82b849d-160c-4d09-a329-8eea96b37f7d",
   "metadata": {},
   "source": [
    "# Working with CIFTI files\n",
    "\n",
    "## Types of cifti-files\n",
    "Cifti files can be pretty handy to store imaging data in a flexible way. They can store data in a 2D matrix, with the two axis defining the type of data you are looking at. This allows for a lot of flexibility in how data is stored and displayed.\n",
    "\n",
    "There are 5 different kinds of axis:\n",
    "- BrainModelAxis: each row/column is a voxel or vertex - multiple brainModelAxis can be combined into a single axis\n",
    "- ParcelsAxis: each row/column is a group of voxels and/or vertices\n",
    "- ScalarAxis: each row/column has a unique name (with optional meta-data)\n",
    "- LabelAxis: each row/column has a unique name and label table (with optional meta-data)\n",
    "- SeriesAxis: each row/column is a timepoint, which increases monotonically\n",
    "\n",
    "The two different axes define a set of different type of CIFTI files - each with a different extension. The column axis usually is a BrainModel or Parcels axis - this is the space that is being displayed. The rows is the type of data that is displayed in that space.\n",
    "\n",
    "| File extension | Description | Row Axis | Column Axis |\n",
    "|---------|---------|---------|---------|\n",
    "| .dscalar.nii | Dense scalar data | Scalar | BrainModel |\n",
    "| .pscalar.nii | Parcel scalar data | Scalar | Parcel |\n",
    "| .dtseries.nii | Dense Timeseries | Series | BrainModel |\n",
    "| .ptseries.nii | Parcel Timeseries | Series | Parcel |\n",
    "| .dlabel.nii | Dense label data | Label | BrainModel |\n",
    "| .plabel.nii | Parcel label data | Label | parcel |\n",
    "| .dconn.nii | Dense connectivity | BrainModel | BrainModel |\n",
    "| .pconn.nii | ROI-to-ROI connectivity | Parcel | Parcel |\n",
    "| .dpconn.nii | Dense-to-ROI connectivity | Parcel | BrainModel |\n",
    "| .pdconn.nii | ROI-to-dense connectivity | BrainModel | Parcel |"
   ]
  },
  {
   "cell_type": "code",
   "execution_count": 2,
   "id": "a2fd7e11-c04e-43d1-b2b8-55eabdf2450d",
   "metadata": {},
   "outputs": [],
   "source": [
    "import sys\n",
    "from os import getcwd\n",
    "from os.path import join, exists, abspath\n",
    "from glob import glob\n",
    "\n",
    "import numpy as np\n",
    "import pandas as pd\n",
    "import matplotlib.pyplot as plt\n",
    "from matplotlib import colormaps, cm, colors\n",
    "import scipy\n",
    "import seaborn as sns\n",
    "\n",
    "from tqdm import tqdm\n",
    "\n",
    "import nibabel as nb\n",
    "import nitools as nt"
   ]
  },
  {
   "cell_type": "code",
   "execution_count": 3,
   "id": "e8116620-699e-4ebb-902d-155239310d97",
   "metadata": {},
   "outputs": [
    {
     "data": {
      "text/plain": [
       "'D:/mobaxterm\\\\sungbeenpark\\\\github'"
      ]
     },
     "execution_count": 3,
     "metadata": {},
     "output_type": "execute_result"
    }
   ],
   "source": [
    "dir_current = getcwd()\n",
    "\n",
    "list_ = []\n",
    "for ii, dname in enumerate(dir_current.split('\\\\')[:-3]):\n",
    "    if ii==0:\n",
    "        tmp = dname+'/'\n",
    "    else:\n",
    "        tmp = dname\n",
    "    list_.append(tmp)\n",
    "dir_git = join(*list_)\n",
    "dir_git"
   ]
  },
  {
   "cell_type": "code",
   "execution_count": 4,
   "id": "f5e307f9-c830-4cc7-9b96-5f7151d78a68",
   "metadata": {},
   "outputs": [
    {
     "name": "stdout",
     "output_type": "stream",
     "text": [
      "added the path, D:\\mobaxterm\\sungbeenpark\\github\\Functional_Fusion\n"
     ]
    }
   ],
   "source": [
    "path_module = abspath(join(dir_git,'Functional_Fusion'))\n",
    "if exists(path_module):\n",
    "    print('added the path, %s'%path_module)\n",
    "    if path_module not in sys.path:\n",
    "        sys.path.append(path_module)\n",
    "\n",
    "import Functional_Fusion.atlas_map as am\n",
    "import Functional_Fusion.dataset as ds\n",
    "import Functional_Fusion.util as ut\n",
    "import Functional_Fusion.import_data as id\n",
    "import Functional_Fusion.array_convert as ac"
   ]
  },
  {
   "cell_type": "code",
   "execution_count": 5,
   "id": "5c2f43e2-f269-4932-b97a-473fab604fa1",
   "metadata": {},
   "outputs": [],
   "source": [
    "# path_module = abspath(join(dir_git,'SUITPy'))\n",
    "# if exists(path_module):\n",
    "#     print('added the path, %s'%path_module)\n",
    "#     if path_module not in sys.path:\n",
    "#         sys.path.append(path_module)\n",
    "\n",
    "# import SUITPy as suit"
   ]
  },
  {
   "cell_type": "code",
   "execution_count": 6,
   "id": "14380fd1-79c9-4de4-8d0c-fa95e55d7b74",
   "metadata": {},
   "outputs": [
    {
     "name": "stdout",
     "output_type": "stream",
     "text": [
      "added the path, D:\\mobaxterm\\sungbeenpark\\github\n"
     ]
    }
   ],
   "source": [
    "path_module = abspath(dir_git)\n",
    "if exists(path_module):\n",
    "    print('added the path, %s'%path_module)\n",
    "    if path_module not in sys.path:\n",
    "        sys.path.append(path_module)\n",
    "\n",
    "import surfAnalysisPy as surf"
   ]
  },
  {
   "cell_type": "code",
   "execution_count": 7,
   "id": "292b2bd4-eaac-4925-a11a-ecdf408477e5",
   "metadata": {},
   "outputs": [],
   "source": [
    "dir_work = join('D:/milli/diedrichsenlab/SeqSpatialSupp_fMRI')\n",
    "dir_surf = join(dir_work,'surfaceWB')\n",
    "dir_preproc = join(dir_work,'imaging_data')"
   ]
  },
  {
   "cell_type": "markdown",
   "id": "5e4c5343-c010-4a23-8218-1968eb15c712",
   "metadata": {},
   "source": [
    "---"
   ]
  },
  {
   "cell_type": "markdown",
   "id": "700aac52-66e4-440b-8590-73be28b62048",
   "metadata": {},
   "source": [
    "## Atlas Spaces\n",
    "\n",
    "Each Atlas is defined in a specific space. The atlas space defines how data is being transformed between Native space and the atlas, or between different atlases. `Function_Fusion` follows the convention of atlas space naming used in [Templateflow.org](https://www.templateflow.org/).\n",
    "\n",
    "The following spaces are defined so far:\n",
    "- `MNI152NLin6Asym`: MNI152NLin6Asym space, standard MNI space template in FSL\n",
    "- `MNI152NLin2009cSym`: Symmetric version of the MNI152NLin2009c space\n",
    "- `MNI152NLin2009cAsym`: Asymmetric version of the MNI152NLin2009c space\n",
    "- `SUIT`: SUIT space, a cerebellar template space\n",
    "- `MNI152NLin2009cSymC`: Symmetric Cerebellum-only atlas (aligned to )\n",
    "- `fs32k`: Symmetric surface-based space for left and right hemisphere\n",
    "- `fsaverage6`: Freesurfer fsaverage6 space - needs to be still implemented\n",
    "\n",
    "Templates in different resolutions and the mask images that define the Atlases (see below) can be found in the directory `Functional_Fusion/Atlases/tpl-<space>`."
   ]
  },
  {
   "cell_type": "markdown",
   "id": "0042ef42-56a4-4947-8e91-f45e70ce2ca3",
   "metadata": {},
   "source": [
    "## Standard Atlases\n",
    "\n",
    "Atlases are defined by a specific space and a mask image that defines the resolution and the voxels / vertices that are included in the atlas. Standard atlases are indicated by short strings that indicate the Atlas. The following Atlases are defined so far: * `SUIT3`: Cerebellum in SUIT space (3mm voxels) * `SUIT2`: Cerebellum in SUIT space (2mm voxels) * `SUIT1`: Cerebellum in SUIT space (1mm voxels) * `MNISymC3`: Cerebellum in MNI152NLin2009cSym space (3mm voxels) * `MNISymC2`: Cerebellum in MNI152NLin2009cSym space (2mm voxels) * `fs32k`: Left and Right hemisphere, using symmetric Medial wall mask * `fs32kAsym`: Left and Right hemisphere, using asymmetric medial wall mask from HCP. * `MNIAsymBg1`: Basal Ganglia in MNI152NLin6Asym space (1mm voxels) * `MNIAsymBg2`: Basal Ganglia in MNI152NLin6Asym space (2mm voxels)\n",
    "\n",
    "All these atlases are defined in `Functional_Fusion/Atlases/atlas_description.json`. In this file, each atlas is defined by a dictionary with the following fields: * `type`: Class-name for the atlas object (“AtlasVolumetric”, “AtlasSurface”, …) * `dir`: Directory where the atlas files are stored: Functional_Fusion/Atlases/<dir>) * `mask`: Name(s) of mask niftis/gifti files that define the atlas space. * space: Space in which coordinates are defined (e.g. “MNI152NLin6AsymC”) * `structure`: cifti-structure name - needs to be a valid, predefined cifti structure (e.g. “cerebellum”)\n",
    "\n",
    "Optional fields:\n",
    "- `res`: resolution (not used yet) -voxel locations are defined by mask image\n",
    "- `normspace`: Norm space for suit.vol2surf -"
   ]
  },
  {
   "cell_type": "markdown",
   "id": "e3a6280c-c006-454e-88a2-940a7c9155ae",
   "metadata": {},
   "source": [
    "## Getting Atlases"
   ]
  },
  {
   "cell_type": "code",
   "execution_count": 8,
   "id": "08c9816b-3bcb-47bb-8418-829353d5e253",
   "metadata": {},
   "outputs": [],
   "source": [
    "fs32L = am.get_atlas('fs32k_L')"
   ]
  },
  {
   "cell_type": "code",
   "execution_count": 14,
   "id": "1e16ffb1-cb06-4095-b53a-258f59284374",
   "metadata": {},
   "outputs": [],
   "source": [
    "subj = 'S01'\n",
    "S_id = subj.replace('R','S')"
   ]
  },
  {
   "cell_type": "code",
   "execution_count": 13,
   "id": "cec8293b-7c7b-460d-a401-43399aef5925",
   "metadata": {},
   "outputs": [],
   "source": [
    "glm = 2\n",
    "dir_glm = join(dir_work,'glm_%d'%glm)\n",
    "mask = join(dir_glm,'%s/mask.nii'%subj)"
   ]
  },
  {
   "cell_type": "code",
   "execution_count": null,
   "id": "f1e5ff40-fd53-4518-98ec-3cc7ca35e226",
   "metadata": {},
   "outputs": [],
   "source": [
    "# wsurf = data_dir + '/surfaceWB/sub-01/sub-01.L.white.32k.surf.gii'\n",
    "# psurf = data_dir + '/surfaceWB/sub-01/sub-01.L.pial.32k.surf.gii'\n",
    "# mask = data_dir +  '/glm/glm_1/sub-01/mask.nii'"
   ]
  },
  {
   "cell_type": "code",
   "execution_count": 19,
   "id": "285e4a0e-20dc-4f9b-a216-8f6be0e4fc06",
   "metadata": {},
   "outputs": [],
   "source": [
    "wsurf = join(dir_surf,'%s/%s.L.white.32k.surf.gii'%(S_id,S_id))\n",
    "psurf = join(dir_surf,'%s/%s.L.pial.32k.surf.gii'%(S_id,S_id))"
   ]
  },
  {
   "cell_type": "code",
   "execution_count": 7,
   "id": "a141ce35-d7fa-42dd-b920-74337e969708",
   "metadata": {},
   "outputs": [
    {
     "ename": "FileNotFoundError",
     "evalue": "No such file or no access: 'fs_LR.32k.L.ventralmotor.func.gii'",
     "output_type": "error",
     "traceback": [
      "\u001b[1;31m---------------------------------------------------------------------------\u001b[0m",
      "\u001b[1;31mFileNotFoundError\u001b[0m                         Traceback (most recent call last)",
      "File \u001b[1;32m~\\anaconda3\\envs\\funcfusion\\lib\\site-packages\\nibabel\\loadsave.py:101\u001b[0m, in \u001b[0;36mload\u001b[1;34m(filename, **kwargs)\u001b[0m\n\u001b[0;32m    100\u001b[0m \u001b[38;5;28;01mtry\u001b[39;00m:\n\u001b[1;32m--> 101\u001b[0m     stat_result \u001b[38;5;241m=\u001b[39m \u001b[43mos\u001b[49m\u001b[38;5;241;43m.\u001b[39;49m\u001b[43mstat\u001b[49m\u001b[43m(\u001b[49m\u001b[43mfilename\u001b[49m\u001b[43m)\u001b[49m\n\u001b[0;32m    102\u001b[0m \u001b[38;5;28;01mexcept\u001b[39;00m \u001b[38;5;167;01mOSError\u001b[39;00m:\n",
      "\u001b[1;31mFileNotFoundError\u001b[0m: [WinError 2] 지정된 파일을 찾을 수 없습니다: 'fs_LR.32k.L.ventralmotor.func.gii'",
      "\nDuring handling of the above exception, another exception occurred:\n",
      "\u001b[1;31mFileNotFoundError\u001b[0m                         Traceback (most recent call last)",
      "Cell \u001b[1;32mIn[7], line 1\u001b[0m\n\u001b[1;32m----> 1\u001b[0m A \u001b[38;5;241m=\u001b[39m \u001b[43mnb\u001b[49m\u001b[38;5;241;43m.\u001b[39;49m\u001b[43mload\u001b[49m\u001b[43m(\u001b[49m\u001b[38;5;124;43m'\u001b[39;49m\u001b[38;5;124;43mfs_LR.32k.L.ventralmotor.func.gii\u001b[39;49m\u001b[38;5;124;43m'\u001b[39;49m\u001b[43m)\u001b[49m\n\u001b[0;32m      2\u001b[0m data \u001b[38;5;241m=\u001b[39m A\u001b[38;5;241m.\u001b[39mdarrays[\u001b[38;5;241m0\u001b[39m]\u001b[38;5;241m.\u001b[39mdata\n\u001b[0;32m      3\u001b[0m \u001b[38;5;66;03m# Find the vertices in the ROI \u001b[39;00m\n",
      "File \u001b[1;32m~\\anaconda3\\envs\\funcfusion\\lib\\site-packages\\nibabel\\loadsave.py:103\u001b[0m, in \u001b[0;36mload\u001b[1;34m(filename, **kwargs)\u001b[0m\n\u001b[0;32m    101\u001b[0m     stat_result \u001b[38;5;241m=\u001b[39m os\u001b[38;5;241m.\u001b[39mstat(filename)\n\u001b[0;32m    102\u001b[0m \u001b[38;5;28;01mexcept\u001b[39;00m \u001b[38;5;167;01mOSError\u001b[39;00m:\n\u001b[1;32m--> 103\u001b[0m     \u001b[38;5;28;01mraise\u001b[39;00m \u001b[38;5;167;01mFileNotFoundError\u001b[39;00m(\u001b[38;5;124mf\u001b[39m\u001b[38;5;124m\"\u001b[39m\u001b[38;5;124mNo such file or no access: \u001b[39m\u001b[38;5;124m'\u001b[39m\u001b[38;5;132;01m{\u001b[39;00mfilename\u001b[38;5;132;01m}\u001b[39;00m\u001b[38;5;124m'\u001b[39m\u001b[38;5;124m\"\u001b[39m)\n\u001b[0;32m    104\u001b[0m \u001b[38;5;28;01mif\u001b[39;00m stat_result\u001b[38;5;241m.\u001b[39mst_size \u001b[38;5;241m<\u001b[39m\u001b[38;5;241m=\u001b[39m \u001b[38;5;241m0\u001b[39m:\n\u001b[0;32m    105\u001b[0m     \u001b[38;5;28;01mraise\u001b[39;00m ImageFileError(\u001b[38;5;124mf\u001b[39m\u001b[38;5;124m\"\u001b[39m\u001b[38;5;124mEmpty file: \u001b[39m\u001b[38;5;124m'\u001b[39m\u001b[38;5;132;01m{\u001b[39;00mfilename\u001b[38;5;132;01m}\u001b[39;00m\u001b[38;5;124m'\u001b[39m\u001b[38;5;124m\"\u001b[39m)\n",
      "\u001b[1;31mFileNotFoundError\u001b[0m: No such file or no access: 'fs_LR.32k.L.ventralmotor.func.gii'"
     ]
    }
   ],
   "source": [
    "A = nb.load('fs_LR.32k.L.ventralmotor.func.gii')\n",
    "data = A.darrays[0].data\n",
    "# Find the vertices in the ROI \n",
    "vertices = np.where(data != 0)[0]\n",
    "filenames = ['con_ba','con_da']\n",
    "dataf = [f'{data_dir}/glm/glm_1/sub-01/{f}.nii' for f in filenames]\n",
    "atlas_map = am.AtlasMapSurf(vertices,wsurf,psurf,mask)\n",
    "atlas_map.build()\n",
    "\n",
    "atlas_map.vox_list"
   ]
  },
  {
   "cell_type": "markdown",
   "id": "2dfc4478-db4a-437b-adac-511243a681c7",
   "metadata": {},
   "source": [
    "---"
   ]
  },
  {
   "cell_type": "markdown",
   "id": "6f5d937c-7bc2-4534-93d6-dcb63e048c03",
   "metadata": {},
   "source": [
    "## Extract Data"
   ]
  },
  {
   "cell_type": "code",
   "execution_count": null,
   "id": "bf27bce9-51db-4a34-81d2-f511b7696a9b",
   "metadata": {},
   "outputs": [],
   "source": []
  }
 ],
 "metadata": {
  "kernelspec": {
   "display_name": "funcfusion",
   "language": "python",
   "name": "funcfusion"
  },
  "language_info": {
   "codemirror_mode": {
    "name": "ipython",
    "version": 3
   },
   "file_extension": ".py",
   "mimetype": "text/x-python",
   "name": "python",
   "nbconvert_exporter": "python",
   "pygments_lexer": "ipython3",
   "version": "3.9.21"
  }
 },
 "nbformat": 4,
 "nbformat_minor": 5
}
