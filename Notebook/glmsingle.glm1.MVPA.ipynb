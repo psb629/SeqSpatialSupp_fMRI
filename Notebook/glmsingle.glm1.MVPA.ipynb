{
 "cells": [
  {
   "cell_type": "code",
   "execution_count": 25,
   "id": "8f1c2c03-097f-45a8-a1ef-8a52763e8daf",
   "metadata": {},
   "outputs": [],
   "source": [
    "import sys\n",
    "import platform\n",
    "from os.path import join, exists, abspath, dirname\n",
    "from os import getcwd, makedirs\n",
    "from glob import glob\n",
    "\n",
    "import numpy as np\n",
    "import pandas as pd\n",
    "import matplotlib.pyplot as plt\n",
    "from matplotlib import colormaps, cm, colors\n",
    "import matplotlib.patches as patches\n",
    "from mpl_toolkits.axes_grid1.inset_locator import zoomed_inset_axes, mark_inset\n",
    "import scipy\n",
    "from scipy.stats import ttest_1samp\n",
    "import seaborn as sns\n",
    "\n",
    "from tqdm import tqdm"
   ]
  },
  {
   "cell_type": "code",
   "execution_count": 2,
   "id": "6d7df206-c2db-4e96-92d1-ebdcb39da0ed",
   "metadata": {},
   "outputs": [],
   "source": [
    "from sklearn.pipeline import make_pipeline\n",
    "from sklearn.impute import SimpleImputer\n",
    "from sklearn.preprocessing import StandardScaler\n",
    "from sklearn.svm import SVC\n",
    "from sklearn.model_selection import GroupKFold, cross_val_score"
   ]
  },
  {
   "cell_type": "code",
   "execution_count": 3,
   "id": "ae9f5f62-689a-4276-a0cd-0c4f05a8f6f1",
   "metadata": {},
   "outputs": [],
   "source": [
    "import nibabel as nb\n",
    "from nilearn import plotting, image\n",
    "from nilearn.maskers import NiftiLabelsMasker\n",
    "from nilearn.decoding import Decoder\n",
    "from nipype.interfaces import fsl"
   ]
  },
  {
   "cell_type": "code",
   "execution_count": 4,
   "id": "5cf8fac6-88b8-4f86-b55c-03a7d42dc529",
   "metadata": {},
   "outputs": [],
   "source": [
    "import subprocess\n",
    "import warnings"
   ]
  },
  {
   "cell_type": "code",
   "execution_count": 5,
   "id": "47742f37-bfce-44aa-b2ba-9a5c450f4fac",
   "metadata": {},
   "outputs": [
    {
     "data": {
      "text/plain": [
       "'/home/sungbeenpark/github'"
      ]
     },
     "execution_count": 5,
     "metadata": {},
     "output_type": "execute_result"
    }
   ],
   "source": [
    "dir_current = getcwd().replace('\\\\','/')\n",
    "\n",
    "tmp = dir_current.split('/')\n",
    "idx = [ii for ii, s in enumerate(tmp) if s=='github'][0]\n",
    "\n",
    "dir_git = '/'.join(tmp[:idx+1])\n",
    "dir_git"
   ]
  },
  {
   "cell_type": "code",
   "execution_count": 6,
   "id": "495f3dda-caf5-4296-9182-1c9ea46cfefe",
   "metadata": {},
   "outputs": [],
   "source": [
    "dname = join(dir_git,'nitools')\n",
    "sys.path.append(dname)\n",
    "import nitools as nt"
   ]
  },
  {
   "cell_type": "code",
   "execution_count": 7,
   "id": "5385c6e4-1067-4715-954b-72c5b9252894",
   "metadata": {},
   "outputs": [],
   "source": [
    "dname = join(dir_git,'SUITPy')\n",
    "sys.path.append(dname)\n",
    "import SUITPy as suit"
   ]
  },
  {
   "cell_type": "code",
   "execution_count": 8,
   "id": "91a5a34d-398c-4fae-8034-819db87def7c",
   "metadata": {},
   "outputs": [],
   "source": [
    "dname = join(dir_git)\n",
    "sys.path.append(dname)\n",
    "import surfAnalysisPy as surf"
   ]
  },
  {
   "cell_type": "code",
   "execution_count": 9,
   "id": "6f8001ea-2c76-4a7a-bc3f-aec68128aeb0",
   "metadata": {},
   "outputs": [],
   "source": [
    "dname = join(dir_git,'SeqSpatialSupp_fMRI')\n",
    "sys.path.append(dname)\n",
    "from SSS import deal_spm\n",
    "from SSS import util as su\n",
    "from SSS import stat as sstat\n",
    "from SSS import plot as splt\n",
    "from SSS import image as simage\n",
    "from SSS import glmsingle as ssingle"
   ]
  },
  {
   "cell_type": "markdown",
   "id": "2e7a6a3e-ea3c-4629-892a-aa56f07c4e24",
   "metadata": {},
   "source": [
    "---"
   ]
  },
  {
   "cell_type": "code",
   "execution_count": 10,
   "id": "bafc18db-773b-45b9-9726-9483691c96b6",
   "metadata": {},
   "outputs": [
    {
     "data": {
      "text/plain": [
       "'/mnt/f/SeqSpatialSupp_fMRI'"
      ]
     },
     "execution_count": 10,
     "metadata": {},
     "output_type": "execute_result"
    }
   ],
   "source": [
    "dir_root = su.get_dir_root()\n",
    "dir_root"
   ]
  },
  {
   "cell_type": "code",
   "execution_count": 11,
   "id": "f3b4cc11-f4ce-4515-a725-012cdfaf5cf1",
   "metadata": {},
   "outputs": [],
   "source": [
    "list_sn = su.get_list_sn()"
   ]
  },
  {
   "cell_type": "markdown",
   "id": "6900181a-7dc3-4c2b-ac90-c728c13e1ff8",
   "metadata": {},
   "source": [
    "---"
   ]
  },
  {
   "cell_type": "code",
   "execution_count": 12,
   "id": "882b012d-c05d-4920-b456-532585e6d6dc",
   "metadata": {},
   "outputs": [],
   "source": [
    "glm = 1\n",
    "dir_glm = ssingle.get_dir_glmsingle(glm)"
   ]
  },
  {
   "cell_type": "code",
   "execution_count": 13,
   "id": "e5e8b7c0-be5e-4eb4-8e1d-0c67ab71680e",
   "metadata": {},
   "outputs": [
    {
     "data": {
      "text/plain": [
       "'/mnt/f/SeqSpatialSupp_fMRI/GLMsingle/surfaceWB'"
      ]
     },
     "execution_count": 13,
     "metadata": {},
     "output_type": "execute_result"
    }
   ],
   "source": [
    "dir_surf = join(ssingle.get_dir_glmsingle(),'surfaceWB')\n",
    "dir_surf"
   ]
  },
  {
   "cell_type": "code",
   "execution_count": 14,
   "id": "3446cf1e-5695-46c1-b3e2-3fcd90c149c9",
   "metadata": {},
   "outputs": [],
   "source": [
    "dir_group = join(dir_surf,'group')"
   ]
  },
  {
   "cell_type": "markdown",
   "id": "29bb713b-646b-427e-baf8-e18e1d76469b",
   "metadata": {},
   "source": [
    "---"
   ]
  },
  {
   "cell_type": "code",
   "execution_count": 15,
   "id": "20219306-2e4f-4cec-b99d-19a9b056237a",
   "metadata": {},
   "outputs": [],
   "source": [
    "dir_fs = su.get_dir_fs()"
   ]
  },
  {
   "cell_type": "code",
   "execution_count": 16,
   "id": "5aacf892-8098-4ff2-9e41-6d2ab3da1066",
   "metadata": {},
   "outputs": [],
   "source": [
    "border, brdr = simage.get_border(join(dir_git,'surfAnalysisPy'))\n",
    "hem = 'L'"
   ]
  },
  {
   "cell_type": "code",
   "execution_count": 17,
   "id": "8e47a2c4-8993-4b47-95f8-0888e49994c0",
   "metadata": {},
   "outputs": [],
   "source": [
    "## the label list of benson14\n",
    "list_roi = ['V1','V2','V3','hV4','VO1','VO2','LO1','LO2','TO1','TO2','V3b','V3a']"
   ]
  },
  {
   "cell_type": "markdown",
   "id": "ccccee50-9bca-4f08-b580-e38b33aba35a",
   "metadata": {},
   "source": [
    "---\n",
    "---"
   ]
  },
  {
   "cell_type": "markdown",
   "id": "81873025-7364-477f-b219-ee9772acd30e",
   "metadata": {},
   "source": [
    "## MVPA"
   ]
  },
  {
   "cell_type": "code",
   "execution_count": 18,
   "id": "f2b459a5-b7d0-4205-83cc-9eefdee89532",
   "metadata": {},
   "outputs": [],
   "source": [
    "def fast_masking(img_data, img_mask, roi):\n",
    "    if isinstance(img_data,str):\n",
    "        img_data = nb.load(img_data)\n",
    "    img_data = img_data.get_fdata()\n",
    "\n",
    "    if isinstance(img_mask,str):\n",
    "        img_mask = nb.load(img_mask)\n",
    "    img_mask = img_mask.get_fdata().astype(int)\n",
    "    assert img_data.shape[:3] == img_mask.shape\n",
    "    \n",
    "    list_roi_ = np.array(list_roi)\n",
    "    idx = int(np.where(list_roi_==roi)[0][0])\n",
    "    assert isinstance(idx, int)\n",
    "    \n",
    "    idx_mask = img_mask==idx+1\n",
    "    data = img_data[idx_mask].T\n",
    "    \n",
    "    return data"
   ]
  },
  {
   "cell_type": "code",
   "execution_count": 51,
   "id": "e1876d58-890a-4c84-b595-c96910a9f07e",
   "metadata": {},
   "outputs": [],
   "source": [
    "shuffle = True"
   ]
  },
  {
   "cell_type": "code",
   "execution_count": 20,
   "id": "2785fa89-c13a-445e-81c1-2ac0388f029c",
   "metadata": {},
   "outputs": [
    {
     "name": "stderr",
     "output_type": "stream",
     "text": [
      "100%|████████████████████████████████████████| 12/12 [1:20:44<00:00, 403.72s/it]\n"
     ]
    }
   ],
   "source": [
    "lines = {'subj':[], 'roi':[], 'score':[]}\n",
    "\n",
    "for ii, sn in enumerate(tqdm(list_sn)):\n",
    "    subj = 'S'+sn\n",
    "\n",
    "    ## labels\n",
    "    reginfo = deal_spm.load_reginfo(subj, dir_glm)\n",
    "    y = reginfo.name.values\n",
    "    y = np.array(['spatial' if 'S' in cue else ('letter' if 'L' in cue else 'invalid') for cue in y])\n",
    "    if shuffle:\n",
    "        np.random.shuffle(y)\n",
    "    group = reginfo.run.values\n",
    "\n",
    "    ## beta\n",
    "    list_img_data = sorted(glob(join(dir_glm,subj,'beta_*.nii')))\n",
    "\n",
    "    ## mask\n",
    "    dir_roi = join(dir_fs, subj, 'mri')\n",
    "    img_mask = image.resample_to_img(\n",
    "        source_img=join(dir_roi,'lh.benson14_varea.vol.nii'),\n",
    "        target_img=list_img_data[0],\n",
    "        interpolation='nearest',\n",
    "        force_resample=True,\n",
    "        copy_header=True\n",
    "    )\n",
    "    \n",
    "    ## get masked beta\n",
    "    for roi in list_roi:\n",
    "        dataset = []\n",
    "        for img_data in list_img_data:\n",
    "            data = fast_masking(img_data, img_mask, roi)\n",
    "            dataset.append(data)\n",
    "        dataset = np.array(dataset)\n",
    "\n",
    "        ## pipeline: scaling + SVM\n",
    "        clf = make_pipeline(\n",
    "            SimpleImputer(strategy='constant', fill_value=0, keep_empty_features=True),\n",
    "            StandardScaler(),\n",
    "            SVC(kernel='linear', C=1)\n",
    "        )\n",
    "\n",
    "        ## group fold\n",
    "        gkf = GroupKFold(n_splits=len(np.unique(group)))\n",
    "\n",
    "        ## run cross-validation\n",
    "        scores = cross_val_score(estimator=clf, X=dataset, y=y, cv=gkf, groups=group)\n",
    "        \n",
    "        ## restore the result\n",
    "        lines['subj'].append(subj)\n",
    "        lines['roi'].append(roi)\n",
    "        lines['score'].append(np.mean(scores))\n",
    "\n",
    "df = pd.DataFrame(lines)\n",
    "if shuffle:\n",
    "    fname = join(dir_group, 'df.glm_%1d.MVPA.shuffled.csv'%glm)\n",
    "else:\n",
    "    fname = join(dir_group, 'df.glm_%1d.MVPA.csv'%glm)\n",
    "df.to_csv(fname, index=False)\n",
    "del lines"
   ]
  },
  {
   "cell_type": "markdown",
   "id": "9d746d30-3ead-47dc-82cc-b2510fe83ff3",
   "metadata": {},
   "source": [
    "---\n",
    "---"
   ]
  },
  {
   "cell_type": "markdown",
   "id": "b44936d4-8d64-42b7-98b0-9631a174bc02",
   "metadata": {},
   "source": [
    "## Load the result"
   ]
  },
  {
   "cell_type": "code",
   "execution_count": null,
   "id": "a32702e0-b503-45ea-9d16-0096db240611",
   "metadata": {},
   "outputs": [],
   "source": [
    "fname = join(dir_group, 'df.glm_%1d.MVPA.csv'%glm)"
   ]
  },
  {
   "cell_type": "code",
   "execution_count": 18,
   "id": "45b92cd4-f896-4c9f-b412-6a9e530ace12",
   "metadata": {},
   "outputs": [
    {
     "data": {
      "text/html": [
       "<div>\n",
       "<style scoped>\n",
       "    .dataframe tbody tr th:only-of-type {\n",
       "        vertical-align: middle;\n",
       "    }\n",
       "\n",
       "    .dataframe tbody tr th {\n",
       "        vertical-align: top;\n",
       "    }\n",
       "\n",
       "    .dataframe thead th {\n",
       "        text-align: right;\n",
       "    }\n",
       "</style>\n",
       "<table border=\"1\" class=\"dataframe\">\n",
       "  <thead>\n",
       "    <tr style=\"text-align: right;\">\n",
       "      <th></th>\n",
       "      <th>subj</th>\n",
       "      <th>roi</th>\n",
       "      <th>score</th>\n",
       "    </tr>\n",
       "  </thead>\n",
       "  <tbody>\n",
       "    <tr>\n",
       "      <th>0</th>\n",
       "      <td>S01</td>\n",
       "      <td>V1</td>\n",
       "      <td>0.979779</td>\n",
       "    </tr>\n",
       "    <tr>\n",
       "      <th>1</th>\n",
       "      <td>S01</td>\n",
       "      <td>V2</td>\n",
       "      <td>0.988971</td>\n",
       "    </tr>\n",
       "    <tr>\n",
       "      <th>2</th>\n",
       "      <td>S01</td>\n",
       "      <td>V3</td>\n",
       "      <td>0.992647</td>\n",
       "    </tr>\n",
       "    <tr>\n",
       "      <th>3</th>\n",
       "      <td>S01</td>\n",
       "      <td>hV4</td>\n",
       "      <td>0.979779</td>\n",
       "    </tr>\n",
       "    <tr>\n",
       "      <th>4</th>\n",
       "      <td>S01</td>\n",
       "      <td>VO1</td>\n",
       "      <td>0.898897</td>\n",
       "    </tr>\n",
       "    <tr>\n",
       "      <th>...</th>\n",
       "      <td>...</td>\n",
       "      <td>...</td>\n",
       "      <td>...</td>\n",
       "    </tr>\n",
       "    <tr>\n",
       "      <th>139</th>\n",
       "      <td>S14</td>\n",
       "      <td>LO2</td>\n",
       "      <td>0.851103</td>\n",
       "    </tr>\n",
       "    <tr>\n",
       "      <th>140</th>\n",
       "      <td>S14</td>\n",
       "      <td>TO1</td>\n",
       "      <td>0.840074</td>\n",
       "    </tr>\n",
       "    <tr>\n",
       "      <th>141</th>\n",
       "      <td>S14</td>\n",
       "      <td>TO2</td>\n",
       "      <td>0.669118</td>\n",
       "    </tr>\n",
       "    <tr>\n",
       "      <th>142</th>\n",
       "      <td>S14</td>\n",
       "      <td>V3b</td>\n",
       "      <td>0.805147</td>\n",
       "    </tr>\n",
       "    <tr>\n",
       "      <th>143</th>\n",
       "      <td>S14</td>\n",
       "      <td>V3a</td>\n",
       "      <td>0.897059</td>\n",
       "    </tr>\n",
       "  </tbody>\n",
       "</table>\n",
       "<p>144 rows × 3 columns</p>\n",
       "</div>"
      ],
      "text/plain": [
       "    subj  roi     score\n",
       "0    S01   V1  0.979779\n",
       "1    S01   V2  0.988971\n",
       "2    S01   V3  0.992647\n",
       "3    S01  hV4  0.979779\n",
       "4    S01  VO1  0.898897\n",
       "..   ...  ...       ...\n",
       "139  S14  LO2  0.851103\n",
       "140  S14  TO1  0.840074\n",
       "141  S14  TO2  0.669118\n",
       "142  S14  V3b  0.805147\n",
       "143  S14  V3a  0.897059\n",
       "\n",
       "[144 rows x 3 columns]"
      ]
     },
     "execution_count": 18,
     "metadata": {},
     "output_type": "execute_result"
    }
   ],
   "source": [
    "df = pd.read_csv(fname, header=0)\n",
    "df"
   ]
  },
  {
   "cell_type": "code",
   "execution_count": null,
   "id": "ece2e728-1240-4d0d-80c5-959163ddf780",
   "metadata": {},
   "outputs": [],
   "source": [
    "# chance distribution 예시\n",
    "chance_acc = np.random.rand(1000) * 0.1 + 0.5  # 평균 ~0.55\n",
    "chance_mean = np.mean(chance_acc)\n",
    "chance_sem  = np.std(chance_acc, ddof=1) / np.sqrt(len(chance_acc))"
   ]
  },
  {
   "cell_type": "code",
   "execution_count": 49,
   "id": "e3211c67-7b5f-48eb-8721-d50e73e1616b",
   "metadata": {},
   "outputs": [
    {
     "name": "stdout",
     "output_type": "stream",
     "text": [
      "V1 t(11)=50.7025, p=2.159e-14(****)\n",
      "V2 t(11)=69.3404, p=6.969e-16(****)\n",
      "V3 t(11)=69.5814, p=6.708e-16(****)\n",
      "hV4 t(11)=56.3747, p=6.753e-15(****)\n",
      "VO1 t(11)=19.3475, p=7.626e-10(****)\n",
      "VO2 t(11)=6.5616, p=4.071e-05(****)\n",
      "LO1 t(11)=16.7059, p=3.649e-09(****)\n",
      "LO2 t(11)=13.9964, p=2.357e-08(****)\n",
      "TO1 t(11)=8.7053, p=2.900e-06(****)\n",
      "TO2 t(11)=5.9342, p=9.813e-05(****)\n",
      "V3b t(11)=13.2432, p=4.197e-08(****)\n",
      "V3a t(11)=31.2473, p=4.280e-12(****)\n"
     ]
    },
    {
     "data": {
      "image/png": "[encoded data removed]",
      "text/plain": [
       "<Figure size 640x480 with 1 Axes>"
      ]
     },
     "metadata": {},
     "output_type": "display_data"
    }
   ],
   "source": [
    "g = sns.barplot(\n",
    "    data=df,\n",
    "    x='roi', y='score', hue='roi',\n",
    "    errorbar='sd', capsize=0.2\n",
    ")\n",
    "g.text(x=0.25, y=0.45, s='chance level', fontsize=10, ha='left')\n",
    "# g.axhline(y=1, linestyle='--', color='black', alpha=0.5)\n",
    "g.grid(axis='both')\n",
    "g.set_xlabel('')\n",
    "g.set_ylabel('Decoding Accuracy', fontsize=14)\n",
    "g.set_title('Decoding accuracy for the combined-cue in visual areas', fontsize=12)\n",
    "\n",
    "## chance level\n",
    "np.random.rand(544)\n",
    "g.axhline(y=0.5, linestyle='--', color='black', alpha=0.8)\n",
    "\n",
    "## one sample t-test\n",
    "dy = np.diff(g.get_ylim())*0.025\n",
    "\n",
    "for ii, roi in enumerate(list_roi):\n",
    "    a = df[df.roi==roi].score.astype(float)\n",
    "    res = ttest_1samp(a, popmean=0.5)\n",
    "    if res.pvalue < 0.05:\n",
    "        print(roi, 't(%d)=%.4f, p=%.3e(%s)'%(res.df,res.statistic,res.pvalue,sstat.convert_pval_to_star(res.pvalue)))\n",
    "        x = ii\n",
    "        y = a.mean()+a.std()\n",
    "        g.text(\n",
    "            x=x, y=y,\n",
    "            s=sstat.convert_pval_to_star(res.pvalue), fontsize=10,\n",
    "            ha='center', va='bottom'\n",
    "        )"
   ]
  },
  {
   "cell_type": "markdown",
   "id": "3862a0fb-3fea-465c-a3a1-c8a07fed1868",
   "metadata": {},
   "source": [
    "---"
   ]
  },
  {
   "cell_type": "code",
   "execution_count": null,
   "id": "7fdfc493-ffb2-4d2a-8cf3-9b91d8a248f8",
   "metadata": {},
   "outputs": [],
   "source": []
  }
 ],
 "metadata": {
  "kernelspec": {
   "display_name": "sss",
   "language": "python",
   "name": "sss"
  },
  "language_info": {
   "codemirror_mode": {
    "name": "ipython",
    "version": 3
   },
   "file_extension": ".py",
   "mimetype": "text/x-python",
   "name": "python",
   "nbconvert_exporter": "python",
   "pygments_lexer": "ipython3",
   "version": "3.9.23"
  }
 },
 "nbformat": 4,
 "nbformat_minor": 5
}
