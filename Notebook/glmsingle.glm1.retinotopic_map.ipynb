{
 "cells": [
  {
   "cell_type": "markdown",
   "id": "6d053a36-99bd-446e-8a87-9418b667c84b",
   "metadata": {},
   "source": [
    "[https://github.com/noahbenson/neuropythy/wiki/Retinotopy](\n",
    "https://github.com/noahbenson/neuropythy/wiki/Retinotopy)"
   ]
  },
  {
   "cell_type": "code",
   "execution_count": 1,
   "id": "8f1c2c03-097f-45a8-a1ef-8a52763e8daf",
   "metadata": {},
   "outputs": [],
   "source": [
    "import sys\n",
    "import platform\n",
    "from os.path import join, exists, abspath, dirname\n",
    "from os import getcwd, makedirs\n",
    "from glob import glob\n",
    "\n",
    "import numpy as np\n",
    "import pandas as pd\n",
    "import matplotlib.pyplot as plt\n",
    "from matplotlib import colormaps, cm, colors\n",
    "import matplotlib.patches as patches\n",
    "from mpl_toolkits.axes_grid1.inset_locator import zoomed_inset_axes, mark_inset\n",
    "import scipy\n",
    "from sklearn.metrics import r2_score\n",
    "import seaborn as sns\n",
    "\n",
    "from tqdm import tqdm"
   ]
  },
  {
   "cell_type": "code",
   "execution_count": 2,
   "id": "ae9f5f62-689a-4276-a0cd-0c4f05a8f6f1",
   "metadata": {},
   "outputs": [],
   "source": [
    "import nibabel as nb\n",
    "from nilearn import plotting, image\n",
    "from nipype.interfaces import fsl"
   ]
  },
  {
   "cell_type": "code",
   "execution_count": 3,
   "id": "47742f37-bfce-44aa-b2ba-9a5c450f4fac",
   "metadata": {},
   "outputs": [
    {
     "data": {
      "text/plain": [
       "'/home/sungbeenpark/github'"
      ]
     },
     "execution_count": 3,
     "metadata": {},
     "output_type": "execute_result"
    }
   ],
   "source": [
    "dir_current = getcwd().replace('\\\\','/')\n",
    "\n",
    "tmp = dir_current.split('/')\n",
    "idx = [ii for ii, s in enumerate(tmp) if s=='github'][0]\n",
    "\n",
    "dir_git = '/'.join(tmp[:idx+1])\n",
    "dir_git"
   ]
  },
  {
   "cell_type": "code",
   "execution_count": 4,
   "id": "495f3dda-caf5-4296-9182-1c9ea46cfefe",
   "metadata": {},
   "outputs": [],
   "source": [
    "dname = join(dir_git,'nitools')\n",
    "sys.path.append(dname)\n",
    "import nitools as nt"
   ]
  },
  {
   "cell_type": "code",
   "execution_count": 5,
   "id": "5385c6e4-1067-4715-954b-72c5b9252894",
   "metadata": {},
   "outputs": [],
   "source": [
    "dname = join(dir_git,'SUITPy')\n",
    "sys.path.append(dname)\n",
    "import SUITPy as suit"
   ]
  },
  {
   "cell_type": "code",
   "execution_count": 6,
   "id": "91a5a34d-398c-4fae-8034-819db87def7c",
   "metadata": {},
   "outputs": [],
   "source": [
    "dname = join(dir_git)\n",
    "sys.path.append(dname)\n",
    "import surfAnalysisPy as surf"
   ]
  },
  {
   "cell_type": "code",
   "execution_count": 7,
   "id": "6f8001ea-2c76-4a7a-bc3f-aec68128aeb0",
   "metadata": {},
   "outputs": [],
   "source": [
    "dname = join(dir_git,'SeqSpatialSupp_fMRI')\n",
    "sys.path.append(dname)\n",
    "from SSS import deal_spm\n",
    "from SSS import util as su\n",
    "from SSS import stat as sstat\n",
    "from SSS import plot as splt\n",
    "from SSS import image as simage\n",
    "from SSS import glmsingle as ssingle"
   ]
  },
  {
   "cell_type": "markdown",
   "id": "2e7a6a3e-ea3c-4629-892a-aa56f07c4e24",
   "metadata": {},
   "source": [
    "---"
   ]
  },
  {
   "cell_type": "code",
   "execution_count": 8,
   "id": "882b012d-c05d-4920-b456-532585e6d6dc",
   "metadata": {},
   "outputs": [],
   "source": [
    "glm = 1\n",
    "dir_glm = ssingle.get_dir_glmsingle(glm)"
   ]
  },
  {
   "cell_type": "code",
   "execution_count": 9,
   "id": "f3b4cc11-f4ce-4515-a725-012cdfaf5cf1",
   "metadata": {},
   "outputs": [],
   "source": [
    "list_sn = su.get_list_sn()"
   ]
  },
  {
   "cell_type": "markdown",
   "id": "29bb713b-646b-427e-baf8-e18e1d76469b",
   "metadata": {},
   "source": [
    "---"
   ]
  },
  {
   "cell_type": "code",
   "execution_count": 10,
   "id": "e5e8b7c0-be5e-4eb4-8e1d-0c67ab71680e",
   "metadata": {},
   "outputs": [
    {
     "data": {
      "text/plain": [
       "'/mnt/f/SeqSpatialSupp_fMRI/GLMsingle/surfaceWB'"
      ]
     },
     "execution_count": 10,
     "metadata": {},
     "output_type": "execute_result"
    }
   ],
   "source": [
    "dir_surf = join(ssingle.get_dir_glmsingle(),'surfaceWB')\n",
    "dir_surf"
   ]
  },
  {
   "cell_type": "code",
   "execution_count": 11,
   "id": "ccc697d2-99f9-4c39-8241-5d1388a3b9c6",
   "metadata": {},
   "outputs": [],
   "source": [
    "list_roi = simage.get_list_roi()"
   ]
  },
  {
   "cell_type": "code",
   "execution_count": 12,
   "id": "5aacf892-8098-4ff2-9e41-6d2ab3da1066",
   "metadata": {},
   "outputs": [],
   "source": [
    "border, brdr = simage.get_border(join(dir_git,'surfAnalysisPy'))\n",
    "hem = 'L'"
   ]
  },
  {
   "cell_type": "code",
   "execution_count": 13,
   "id": "3446cf1e-5695-46c1-b3e2-3fcd90c149c9",
   "metadata": {},
   "outputs": [],
   "source": [
    "dir_group = join(dir_surf,'group')"
   ]
  },
  {
   "cell_type": "code",
   "execution_count": 14,
   "id": "20219306-2e4f-4cec-b99d-19a9b056237a",
   "metadata": {},
   "outputs": [],
   "source": [
    "dir_fs = su.get_dir_fs()"
   ]
  },
  {
   "cell_type": "markdown",
   "id": "ccccee50-9bca-4f08-b580-e38b33aba35a",
   "metadata": {},
   "source": [
    "---"
   ]
  },
  {
   "cell_type": "markdown",
   "id": "68d3c087-be16-44a9-bb2c-7e21e0b188c1",
   "metadata": {},
   "source": [
    "* **`'angle'`**. The polar angle is reported in degrees of rotation around the visual field in the clockwise direction with `0°` indicating the upper vertical meridian. So `+90°` is the right horizontal meridian, `-90°` is the left horizontal meridian, and `±180°` is the lower vertical meridian. Currently, `predict_retinotopy` only returns a symmetric polar angle map, meaning that for both right and left hemispheres, the polar angle will be positive with 0 indicating the UVM and 180 indicating the LVM, but it is possible to set the optional argument `sym_angle` to `False` in order to return a full (-180° to 180°) polar angle map.\n",
    "* **`'eccen'`**. The eccentricity is the distance of the pRF center from the fovea, reported in degrees of the visual field.\n",
    "* **`'sigma'`**. The pRF size or radius is the standard deviation of the Gaussian blob used to model the pRF in degrees of visual angle.\n",
    "* **`'varea'`**. The integer visual area label of each vertex; 0 indicates no visual area. The remaining visual areas can be found as follows:\n",
    "  ```python\n",
    "  import neuropythy as ny\n",
    "  mdl = ny.vision.retinotopy_model('benson17', 'lh')  # or 'rh'\n",
    "  mdl.area_id_to_name\n",
    "  #=> pmap({1:  'V1',   2: 'V2',  3: 'V3',  4: 'hV4',  5: 'VO1',\n",
    "  #=>       6:  'VO2',  7: 'LO1', 8: 'LO2', 9: 'TO1', 10: 'TO2',\n",
    "  #=>       11: 'V3b', 12: 'V3a'})\n",
    "  ```"
   ]
  },
  {
   "cell_type": "code",
   "execution_count": 39,
   "id": "8e47a2c4-8993-4b47-95f8-0888e49994c0",
   "metadata": {},
   "outputs": [],
   "source": [
    "list_roi = ['V1','V2','V3','hV4','VO1','VO2','LO1','LO2','TO1','TO2','V3b','V3a']"
   ]
  },
  {
   "cell_type": "code",
   "execution_count": 15,
   "id": "a2795197-be32-4aaa-93b6-be2d949d7cda",
   "metadata": {},
   "outputs": [],
   "source": [
    "subj = 'S01'"
   ]
  },
  {
   "cell_type": "code",
   "execution_count": 16,
   "id": "80b7fc6b-ebc3-4e18-9522-bf8108cc51ab",
   "metadata": {},
   "outputs": [],
   "source": [
    "dir_work = join(dir_fs, subj, 'surf')"
   ]
  },
  {
   "cell_type": "code",
   "execution_count": 30,
   "id": "e41b4666-5c7f-4a40-80eb-ee48e56fe607",
   "metadata": {},
   "outputs": [
    {
     "data": {
      "text/plain": [
       "['/mnt/f/SeqSpatialSupp_fMRI/FreeSurfer/S01/surf/lh.benson14_angle.mgz',\n",
       " '/mnt/f/SeqSpatialSupp_fMRI/FreeSurfer/S01/surf/lh.benson14_eccen.mgz',\n",
       " '/mnt/f/SeqSpatialSupp_fMRI/FreeSurfer/S01/surf/lh.benson14_sigma.mgz',\n",
       " '/mnt/f/SeqSpatialSupp_fMRI/FreeSurfer/S01/surf/lh.benson14_varea.mgz']"
      ]
     },
     "execution_count": 30,
     "metadata": {},
     "output_type": "execute_result"
    }
   ],
   "source": [
    "glob(join(dir_work, 'lh.benson*'))\n",
    "# glob(join(dir_work, 'lh.wang*'))"
   ]
  },
  {
   "cell_type": "code",
   "execution_count": 41,
   "id": "1f00f6a5-b6d0-4fd7-bf0c-afcadaeec2c8",
   "metadata": {},
   "outputs": [],
   "source": [
    "fname = join(dir_work,'lh.benson14_varea.mgz')\n",
    "img = nb.load(fname)\n",
    "data = img.get_fdata().reshape(-1)\n",
    "\n",
    "idx = data==0\n",
    "data[idx] = np.nan"
   ]
  },
  {
   "cell_type": "code",
   "execution_count": 69,
   "id": "d8cfc078-94ee-4082-8d53-50d0ba68d3ea",
   "metadata": {},
   "outputs": [
    {
     "data": {
      "image/png": "[encoded data removed]",
      "text/plain": [
       "<Figure size 470x500 with 2 Axes>"
      ]
     },
     "metadata": {},
     "output_type": "display_data"
    }
   ],
   "source": [
    "# surf_mesh = join(dir_work,'lh.inflated.surf.gii')\n",
    "pial = join(dir_work,'lh.pial.surf.gii')\n",
    "sulc = join(dir_work,'lh.sulc.shape.gii')\n",
    "\n",
    "elev, azim = 0, 250\n",
    "g = plotting.plot_surf_stat_map(\n",
    "    surf_mesh=pial,\n",
    "    stat_map=data,\n",
    "    # threshold=\"90%\",\n",
    "    cmap=cm.jet.resampled(9), alpha=0.6, colorbar=True,\n",
    "    bg_map=sulc,\n",
    "    hemi='left', view=(elev, azim),\n",
    "    darkness=None,\n",
    "    title=subj,\n",
    ")"
   ]
  },
  {
   "cell_type": "code",
   "execution_count": 64,
   "id": "41e59bf2-4e8b-4fd4-8b37-ed2cdbcd4c8c",
   "metadata": {},
   "outputs": [
    {
     "data": {
      "text/plain": [
       "<nibabel.gifti.gifti.GiftiImage at 0x7404186a37c0>"
      ]
     },
     "execution_count": 64,
     "metadata": {},
     "output_type": "execute_result"
    }
   ],
   "source": [
    "tmp = nb.load(join(dir_work,'lh.tmp.gii'))\n",
    "tmp"
   ]
  },
  {
   "cell_type": "code",
   "execution_count": 68,
   "id": "f00342e2-2907-4703-aaa7-223d99538188",
   "metadata": {},
   "outputs": [
    {
     "data": {
      "text/plain": [
       "(145234,)"
      ]
     },
     "execution_count": 68,
     "metadata": {},
     "output_type": "execute_result"
    }
   ],
   "source": [
    "tmp.darrays[0].data.shape"
   ]
  },
  {
   "cell_type": "code",
   "execution_count": 74,
   "id": "c072945b-1bdc-4879-8f31-7e96135414f8",
   "metadata": {},
   "outputs": [],
   "source": [
    "tmp = nb.load(pial)"
   ]
  },
  {
   "cell_type": "code",
   "execution_count": 75,
   "id": "a5a62003-6ea8-4ad2-ae17-162e51ee4c87",
   "metadata": {},
   "outputs": [
    {
     "data": {
      "text/plain": [
       "[<GiftiDataArray pointset[145234, 3]>, <GiftiDataArray triangle[290464, 3]>]"
      ]
     },
     "execution_count": 75,
     "metadata": {},
     "output_type": "execute_result"
    }
   ],
   "source": []
  },
  {
   "cell_type": "code",
   "execution_count": 71,
   "id": "b5f65819-4157-4946-8285-d2e796ef5b33",
   "metadata": {},
   "outputs": [
    {
     "name": "stderr",
     "output_type": "stream",
     "text": [
      "/tmp/ipykernel_2766/193001978.py:1: DeprecationWarning: The `darkness` parameter will be deprecated in release 0.13. We recommend setting `darkness` to None\n",
      "  plotting.plot_surf(\n"
     ]
    },
    {
     "data": {
      "image/png": "[encoded data removed]",
      "text/plain": [
       "<Figure size 470x500 with 2 Axes>"
      ]
     },
     "execution_count": 71,
     "metadata": {},
     "output_type": "execute_result"
    },
    {
     "data": {
      "image/png": "[encoded data removed]",
      "text/plain": [
       "<Figure size 470x500 with 2 Axes>"
      ]
     },
     "metadata": {},
     "output_type": "display_data"
    }
   ],
   "source": [
    "plotting.plot_surf(\n",
    "    surf_map=join(dir_work,'lh.tmp.gii'),\n",
    "    surf_mesh=pial,\n",
    "    hemi='left'\n",
    ")"
   ]
  },
  {
   "cell_type": "markdown",
   "id": "98e48ede-55b3-4118-9b26-1557875fb2f6",
   "metadata": {},
   "source": [
    "---"
   ]
  },
  {
   "cell_type": "code",
   "execution_count": null,
   "id": "5bf46c2a-9c6d-4717-9e32-87fc1e1f14bf",
   "metadata": {},
   "outputs": [],
   "source": []
  }
 ],
 "metadata": {
  "kernelspec": {
   "display_name": "sss",
   "language": "python",
   "name": "sss"
  },
  "language_info": {
   "codemirror_mode": {
    "name": "ipython",
    "version": 3
   },
   "file_extension": ".py",
   "mimetype": "text/x-python",
   "name": "python",
   "nbconvert_exporter": "python",
   "pygments_lexer": "ipython3",
   "version": "3.9.23"
  }
 },
 "nbformat": 4,
 "nbformat_minor": 5
}
