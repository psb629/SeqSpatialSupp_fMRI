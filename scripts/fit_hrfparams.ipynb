{
 "cells": [
  {
   "cell_type": "code",
   "execution_count": 1,
   "id": "8f1c2c03-097f-45a8-a1ef-8a52763e8daf",
   "metadata": {},
   "outputs": [],
   "source": [
    "import sys\n",
    "import platform\n",
    "from os.path import join, exists, abspath, dirname\n",
    "from os import getcwd, makedirs\n",
    "from glob import glob\n",
    "\n",
    "import numpy as np\n",
    "import pandas as pd\n",
    "import matplotlib.pyplot as plt\n",
    "from matplotlib import colormaps, cm, colors\n",
    "import scipy\n",
    "from sklearn.metrics import r2_score\n",
    "import seaborn as sns\n",
    "\n",
    "from tqdm import tqdm"
   ]
  },
  {
   "cell_type": "code",
   "execution_count": 2,
   "id": "ae9f5f62-689a-4276-a0cd-0c4f05a8f6f1",
   "metadata": {},
   "outputs": [],
   "source": [
    "import nibabel as nb\n",
    "from nilearn import plotting, image\n",
    "from nipype.interfaces import fsl"
   ]
  },
  {
   "cell_type": "code",
   "execution_count": 3,
   "id": "47742f37-bfce-44aa-b2ba-9a5c450f4fac",
   "metadata": {},
   "outputs": [
    {
     "data": {
      "text/plain": [
       "'/Users/sungbeenpark/github'"
      ]
     },
     "execution_count": 3,
     "metadata": {},
     "output_type": "execute_result"
    }
   ],
   "source": [
    "dir_current = getcwd().replace('\\\\','/')\n",
    "\n",
    "tmp = dir_current.split('/')\n",
    "idx = [ii for ii, s in enumerate(tmp) if s=='github'][0]\n",
    "\n",
    "dir_git = '/'.join(tmp[:idx+1])\n",
    "dir_git"
   ]
  },
  {
   "cell_type": "code",
   "execution_count": 4,
   "id": "495f3dda-caf5-4296-9182-1c9ea46cfefe",
   "metadata": {},
   "outputs": [],
   "source": [
    "dname = join(dir_git,'nitools')\n",
    "sys.path.append(dname)\n",
    "import nitools as nt"
   ]
  },
  {
   "cell_type": "code",
   "execution_count": 5,
   "id": "5385c6e4-1067-4715-954b-72c5b9252894",
   "metadata": {},
   "outputs": [],
   "source": [
    "dname = join(dir_git,'SUITPy')\n",
    "sys.path.append(dname)\n",
    "import SUITPy as suit"
   ]
  },
  {
   "cell_type": "code",
   "execution_count": 6,
   "id": "91a5a34d-398c-4fae-8034-819db87def7c",
   "metadata": {},
   "outputs": [],
   "source": [
    "dname = join(dir_git)\n",
    "sys.path.append(dname)\n",
    "import surfAnalysisPy as surf"
   ]
  },
  {
   "cell_type": "code",
   "execution_count": 7,
   "id": "6f8001ea-2c76-4a7a-bc3f-aec68128aeb0",
   "metadata": {},
   "outputs": [],
   "source": [
    "dname = join(dir_git,'SeqSpatialSupp_fMRI')\n",
    "sys.path.append(dname)\n",
    "from SSS import deal_spm\n",
    "from SSS import util as su\n",
    "from SSS import plot as splt\n",
    "from SSS import image as simage"
   ]
  },
  {
   "cell_type": "markdown",
   "id": "2e7a6a3e-ea3c-4629-892a-aa56f07c4e24",
   "metadata": {},
   "source": [
    "---"
   ]
  },
  {
   "cell_type": "markdown",
   "id": "c6f614ee-f1c8-4b9c-84b7-2e1ad4f38afd",
   "metadata": {},
   "source": [
    "### Load HRF from `xBF.mat`"
   ]
  },
  {
   "cell_type": "code",
   "execution_count": 8,
   "id": "0f5f0c6a-048b-435c-a709-3615a6ca874e",
   "metadata": {},
   "outputs": [],
   "source": [
    "glm = 1\n",
    "dir_glm = su.get_dir_glm(glm)"
   ]
  },
  {
   "cell_type": "markdown",
   "id": "bf406020-0105-4c79-bb64-18865eee23f8",
   "metadata": {},
   "source": [
    "#### 1. hrf"
   ]
  },
  {
   "cell_type": "code",
   "execution_count": null,
   "id": "681c75ec-ce2b-4205-b2d1-d90f639da307",
   "metadata": {},
   "outputs": [],
   "source": [
    "list_param = [\n",
    "    [4,13,1,1,6],[4,14,1,1,6],[4,15,1,1,6],\n",
    "    [5,14,1,1,6],[5,15,1,1,6],[5,16,1,1,6],\n",
    "    [6,15,1,1,6],[6,16,1,1,6],[6,17,1,1,6]\n",
    "]"
   ]
  },
  {
   "cell_type": "code",
   "execution_count": null,
   "id": "359f213d-2f10-4d75-b370-a8036f179360",
   "metadata": {},
   "outputs": [],
   "source": [
    "subj = 'S01'"
   ]
  },
  {
   "cell_type": "code",
   "execution_count": null,
   "id": "ae4f9146-3e27-4efc-a47b-2cdda1b672c6",
   "metadata": {},
   "outputs": [],
   "source": [
    "nrows, ncols = 3, 3\n",
    "fig, axs = plt.subplots(nrows=nrows, ncols=ncols, figsize=(ncols*5, nrows*4))\n",
    "axs = np.concatenate(axs)\n",
    "\n",
    "for ii, param in enumerate(list_param):\n",
    "    ax = axs[ii]\n",
    "    fname = join(dir_glm,subj,'hrf_tune/xBF_%s.mat'%su.convert_param_to_hrf(param, type='str'))\n",
    "    xBF = deal_spm.get_xBF_params(fname)\n",
    "    splt.plot_BF(xBF, ax=ax)\n",
    "fig.tight_layout()"
   ]
  },
  {
   "cell_type": "markdown",
   "id": "891904bc-7964-4719-a5c3-e4748283ed51",
   "metadata": {},
   "source": [
    "#### 2. overall response of $X$ by run"
   ]
  },
  {
   "cell_type": "code",
   "execution_count": null,
   "id": "8f1dc8c6-2d62-436d-b467-2e309eac59e5",
   "metadata": {},
   "outputs": [],
   "source": [
    "subj = 'S01'"
   ]
  },
  {
   "cell_type": "code",
   "execution_count": null,
   "id": "9393a7e2-ec2d-44ed-9b12-d19ceabe321b",
   "metadata": {},
   "outputs": [],
   "source": [
    "SPM = join(dir_glm, subj,'SPM.mat')\n",
    "\n",
    "df = deal_spm.get_df_X(SPM)\n",
    "df"
   ]
  },
  {
   "cell_type": "code",
   "execution_count": null,
   "id": "c42ab5bd-282a-4dc9-a929-667b231221ed",
   "metadata": {},
   "outputs": [],
   "source": [
    "deal_spm.get_df_X(SPM)"
   ]
  },
  {
   "cell_type": "code",
   "execution_count": null,
   "id": "0711b4bf-2b39-4767-b1e1-5aa268a87574",
   "metadata": {},
   "outputs": [],
   "source": [
    "fig, ax = plt.subplots(figsize=(30,4))\n",
    "\n",
    "g = sns.lineplot(\n",
    "    data=df,\n",
    "    x='TR', y='X_sum', hue='run',\n",
    "    palette=cm.jet.resampled(8),\n",
    "    ax=ax\n",
    ")\n",
    "g.grid(axis='x')\n",
    "g.legend(loc='upper left')"
   ]
  },
  {
   "cell_type": "code",
   "execution_count": null,
   "id": "556b2ce5-e9d1-44d0-a351-07d5c3d370bd",
   "metadata": {},
   "outputs": [],
   "source": [
    "del SPM, df"
   ]
  },
  {
   "cell_type": "markdown",
   "id": "f6e3119e-f88d-41d3-8b5e-23fa531f282b",
   "metadata": {},
   "source": [
    "#### 3. overall response of $y$ by run"
   ]
  },
  {
   "cell_type": "code",
   "execution_count": 13,
   "id": "1ad75207-949c-4904-950e-8259a2010a85",
   "metadata": {},
   "outputs": [],
   "source": [
    "glm = 1\n",
    "dir_glm = su.get_dir_glm(glm)"
   ]
  },
  {
   "cell_type": "code",
   "execution_count": 14,
   "id": "02d6d9cb-825c-4b64-9ffd-53f1a0439505",
   "metadata": {},
   "outputs": [
    {
     "data": {
      "text/plain": [
       "['S01',\n",
       " 'S02',\n",
       " 'S03',\n",
       " 'S05',\n",
       " 'S06',\n",
       " 'S08',\n",
       " 'S09',\n",
       " 'S10',\n",
       " 'S11',\n",
       " 'S12',\n",
       " 'S13',\n",
       " 'S14',\n",
       " 'R01',\n",
       " 'R02',\n",
       " 'R03',\n",
       " 'R05',\n",
       " 'R06',\n",
       " 'R08',\n",
       " 'R09',\n",
       " 'R10',\n",
       " 'R11',\n",
       " 'R12',\n",
       " 'R13',\n",
       " 'R14']"
      ]
     },
     "execution_count": 14,
     "metadata": {},
     "output_type": "execute_result"
    }
   ],
   "source": [
    "list_nn = su.get_list_sn()\n",
    "list_subj = []\n",
    "for sess in ['S','R']:\n",
    "    for nn in list_nn:\n",
    "        list_subj.append(sess+nn)\n",
    "list_subj"
   ]
  },
  {
   "cell_type": "code",
   "execution_count": 15,
   "id": "ad82e901-52ae-479f-9934-3967c0f2d88a",
   "metadata": {},
   "outputs": [],
   "source": [
    "list_roi = simage.get_list_roi()"
   ]
  },
  {
   "cell_type": "code",
   "execution_count": 17,
   "id": "e3a313ad-87e9-4c69-964a-1bf09f82c00e",
   "metadata": {},
   "outputs": [],
   "source": [
    "dir_result = su.get_dir_result()\n",
    "dir_work = join(dir_result,'mean_y_across_run')\n",
    "makedirs(dir_work, exist_ok=True)"
   ]
  },
  {
   "cell_type": "code",
   "execution_count": 18,
   "id": "897d589d-09bc-432b-8d5e-a1e9891a1844",
   "metadata": {},
   "outputs": [
    {
     "name": "stderr",
     "output_type": "stream",
     "text": [
      "100%|██████████████████████████████████████████████████████████████████████████████████████████████████████████████████| 24/24 [06:33<00:00, 16.40s/it]\n"
     ]
    }
   ],
   "source": [
    "nrows, ncols = len(list_roi), 1\n",
    "\n",
    "for subj in tqdm(list_subj):\n",
    "    SPM = join(dir_glm,subj,'SPM.mat')\n",
    "    df_onset = deal_spm.get_df_onset(SPM)\n",
    "\n",
    "    fig, axs = plt.subplots(nrows=nrows, ncols=ncols, figsize=(30*ncols,4*nrows))\n",
    "    for ii, roi in enumerate(list_roi):\n",
    "        ax = axs[ii]\n",
    "        plt.close()\n",
    "        param = simage.get_optimal_hrf(\n",
    "            subj=subj, roi=roi,\n",
    "            r2_score=join(dir_glm,'r2_score.tsv')\n",
    "        )\n",
    "        df_y = simage.get_df_y(\n",
    "            subj=subj, glm=glm, roi=roi, \n",
    "            param=param, \n",
    "            hemi='L',\n",
    "            show_yraw=False, melt=True\n",
    "        )\n",
    "        g = sns.lineplot(\n",
    "            data=df_y[df_y.hue!='y_res'],\n",
    "            x='TR', y='y', hue='hue',\n",
    "            errorbar='se',\n",
    "            ax=ax\n",
    "        )\n",
    "        handles, labels = g.get_legend_handles_labels()\n",
    "        g.legend(\n",
    "            handles,\n",
    "            [r'$%s_{%s}$'%(s.split('_')[0],s.split('_')[1]) for s in labels],\n",
    "            loc='upper left', fontsize=12\n",
    "        )\n",
    "        g.grid(axis='x', linestyle='--', color='gray')\n",
    "        g.set_ylabel(r'mean $y$ across run', fontsize=16)\n",
    "        g.set_xlabel('TR', fontsize=16)\n",
    "        xticks = g.get_xticks()[1:-1]\n",
    "        g.set_xticks(xticks)\n",
    "        g.set_xticklabels(['%d'%x for x in xticks], fontsize=14)\n",
    "        yticks = g.get_yticks()[1:-1]\n",
    "        g.set_yticks(yticks)\n",
    "        g.set_yticklabels(['%.2f'%y for y in yticks], fontsize=14)\n",
    "        g.set_title('%s %s'%(roi, su.convert_param_to_hrf(params=param,type='str')))\n",
    "\n",
    "        onsets_by_run = []\n",
    "        for rr in range(8):\n",
    "            run = rr+1\n",
    "            onsets_by_run.append(\n",
    "                np.sort(\n",
    "                    np.concatenate(df_onset[df_onset.run==run].onset.values)\n",
    "                ).astype(int)\n",
    "            )\n",
    "        for onset in onsets_by_run[ii]:\n",
    "            g.axvline(x=onset, color='red', linestyle='--')\n",
    "\n",
    "    fig.tight_layout()\n",
    "    fig.savefig(\n",
    "        join(dir_work,'y_mean.%s.png'%(subj)),\n",
    "        dpi=300, facecolor=[1,1,1,1],\n",
    "        bbox_inches='tight'\n",
    "    )"
   ]
  },
  {
   "cell_type": "code",
   "execution_count": null,
   "id": "640b70aa-5f94-405a-ab49-d173b6f4b4c6",
   "metadata": {},
   "outputs": [],
   "source": [
    "# nrows, ncols = 6, 1\n",
    "\n",
    "# # for ss in ['S','R']:\n",
    "# for ss in ['S']:\n",
    "#     # for nn in su.get_list_sn():\n",
    "#     for nn in ['01']:\n",
    "#         subj = ss+nn\n",
    "#         SPM = join(dir_glm,subj,'SPM.mat')\n",
    "#         df_onset = deal_spm.get_df_onset(SPM)\n",
    "#         onsets_by_run = []\n",
    "#         for rr in range(8):\n",
    "#             run = rr+1\n",
    "#             onsets_by_run.append(\n",
    "#                 np.sort(\n",
    "#                     np.concatenate(df_onset[df_onset.run==run].onset.values)\n",
    "#                 ).astype(int)\n",
    "#             )\n",
    "#         # for roi in simage.get_list_roi():\n",
    "#         for roi in ['SPLa']:\n",
    "#             fig, axs = plt.subplots(nrows=nrows, ncols=ncols, figsize=(30*ncols,4*nrows))\n",
    "#             plt.close()\n",
    "#             # for ii, param in enumerate([[4,14],[5,15],[6,16],[7,17],[8,18],[9,19]]):\n",
    "#             for ii, param in enumerate(list_param):\n",
    "#                 ax = axs[ii]\n",
    "#                 df_y = simage.get_df_y(subj=subj,glm=glm,roi=roi,param=param,hemi='L',show_yraw=False,melt=True)\n",
    "#                 g = sns.lineplot(\n",
    "#                     data=df_y[df_y.hue!='y_res'],\n",
    "#                     x='TR', y='y', hue='hue',\n",
    "#                     errorbar='se',\n",
    "#                     ax=ax\n",
    "#                 )\n",
    "#                 handles, labels = g.get_legend_handles_labels()\n",
    "#                 g.legend(handles, [r'$%s_{%s}$'%(s.split('_')[0],s.split('_')[1]) for s in labels], loc='upper left', fontsize=12)\n",
    "#                 g.grid(axis='x', linestyle='--', color='gray')\n",
    "#                 g.set_ylabel(r'mean $y$ across run', fontsize=16)\n",
    "#                 g.set_xlabel('TR', fontsize=16)\n",
    "#                 xticks = g.get_xticks()[1:-1]\n",
    "#                 g.set_xticks(xticks)\n",
    "#                 g.set_xticklabels(['%d'%x for x in xticks], fontsize=14)\n",
    "#                 yticks = g.get_yticks()[1:-1]\n",
    "#                 g.set_yticks(yticks)\n",
    "#                 g.set_yticklabels(['%.2f'%y for y in yticks], fontsize=14)\n",
    "#                 g.set_title('%s (%s, %s)'%(su.convert_param_to_hrf(params=param,type='str'), subj, roi))\n",
    "\n",
    "#                 for onset in onsets_by_run[ii]:\n",
    "#                     g.axvline(x=onset, color='red', linestyle='--')\n",
    "\n",
    "#             fig.tight_layout()\n",
    "#             plt.show()\n",
    "#             # fig.savefig(\n",
    "#             #     join(dir_work,'y_mean.%s.%s.png'%(subj,roi)),\n",
    "#             #     dpi=300, facecolor=[1,1,1,1],\n",
    "#             #     bbox_inches='tight'\n",
    "#             # )"
   ]
  },
  {
   "cell_type": "markdown",
   "id": "23200b5d-0956-4708-a288-e160e5e184b5",
   "metadata": {},
   "source": [
    "#### 4. Time series time lock to stimulus onset"
   ]
  },
  {
   "cell_type": "code",
   "execution_count": 19,
   "id": "2beab953-2940-4916-81f7-d6aae99a1694",
   "metadata": {},
   "outputs": [],
   "source": [
    "glm = 1\n",
    "dir_glm = su.get_dir_glm(glm)"
   ]
  },
  {
   "cell_type": "code",
   "execution_count": 20,
   "id": "fec62d68-090f-4cc1-b152-d515e112be8f",
   "metadata": {},
   "outputs": [],
   "source": [
    "list_roi = simage.get_list_roi()"
   ]
  },
  {
   "cell_type": "code",
   "execution_count": 21,
   "id": "0d60f55e-d6ac-4f79-a96b-172b82c5090e",
   "metadata": {},
   "outputs": [],
   "source": [
    "dir_result = su.get_dir_result()\n",
    "dir_work = join(dir_result,'y_window')\n",
    "makedirs(dir_work, exist_ok=True)"
   ]
  },
  {
   "cell_type": "markdown",
   "id": "4316d907-afee-4f43-99db-bd4d47f5561e",
   "metadata": {},
   "source": [
    "i) normal trials"
   ]
  },
  {
   "cell_type": "code",
   "execution_count": 22,
   "id": "dcc382dc-c4d8-46df-a9d6-e1a5a4b0b6ca",
   "metadata": {},
   "outputs": [
    {
     "name": "stderr",
     "output_type": "stream",
     "text": [
      "100%|██████████████████████████████████████████████████████████████████████████████████████████████████████████████████| 24/24 [03:24<00:00,  8.54s/it]\n"
     ]
    }
   ],
   "source": [
    "nrows, ncols = 4, 2\n",
    "\n",
    "for subj in tqdm(list_subj):\n",
    "    fig, axs = plt.subplots(nrows=nrows, ncols=ncols, figsize=(6*ncols,4*nrows))\n",
    "    axs = np.concatenate(axs)\n",
    "    plt.close()\n",
    "    for ii, roi in enumerate(list_roi):\n",
    "        ax = axs[ii]\n",
    "        param = simage.get_optimal_hrf(\n",
    "            subj=subj, roi=roi,\n",
    "            r2_score=join(dir_glm,'r2_score.tsv')\n",
    "        )\n",
    "        df_window_y = simage.get_df_window_y(subj=subj,glm=glm,roi=roi,param=param)\n",
    "\n",
    "        g = sns.lineplot(\n",
    "            data=df_window_y,\n",
    "            x='TR', y='y', hue='hue',\n",
    "            errorbar='se',\n",
    "            ax=ax\n",
    "        )\n",
    "        handles, labels = g.get_legend_handles_labels()\n",
    "        g.legend(\n",
    "            handles,\n",
    "            [r'$%s_{%s}$'%(s.split('_')[0],s.split('_')[1]) for s in labels],\n",
    "            loc='upper left', fontsize=12\n",
    "        )\n",
    "        g.grid(axis='x', linestyle='--', color='gray')\n",
    "        g.set_ylabel(r'mean $y$ across window', fontsize=16)\n",
    "        g.set_xlabel('TR', fontsize=16)\n",
    "        xticks = g.get_xticks()[1:-1]\n",
    "        g.set_xticks(xticks)\n",
    "        g.set_xticklabels(['%d'%x for x in xticks], fontsize=14)\n",
    "        yticks = g.get_yticks()[1:-1]\n",
    "        g.set_yticks(yticks)\n",
    "        g.set_yticklabels(['%.2f'%y for y in yticks], fontsize=14)\n",
    "        g.set_title('%s %s'%(roi, su.convert_param_to_hrf(params=param,type='str')))\n",
    "        g.axvline(x=0, color='red', linestyle='-')\n",
    "\n",
    "    fig.suptitle(subj, fontsize=16)\n",
    "    fig.tight_layout()\n",
    "    fig.savefig(\n",
    "        join(dir_work,'y_window.%s.png'%subj),\n",
    "        dpi=300, facecolor=[1,1,1,1],\n",
    "        bbox_inches='tight'\n",
    "    )"
   ]
  },
  {
   "cell_type": "code",
   "execution_count": null,
   "id": "ba4969c7-c8b1-4934-9e3b-8c74861f3ab5",
   "metadata": {},
   "outputs": [],
   "source": [
    "# nrows, ncols = 4, 2\n",
    "\n",
    "# for ss in ['S','R']:\n",
    "#     for nn in su.get_list_sn():\n",
    "#         subj = ss+nn\n",
    "#         for roi in simage.get_list_roi():\n",
    "#             for param in [[4,14],[5,15],[6,16],[7,17],[8,18],[9,19]]:\n",
    "#                 df_window_y = simage.get_df_window_y(subj=subj,glm=glm,roi=roi,param=param)\n",
    "\n",
    "#                 fig, axs = plt.subplots(nrows=nrows, ncols=ncols, figsize=(6*ncols,4*nrows))\n",
    "#                 axs = np.concatenate(axs)\n",
    "#                 plt.close()\n",
    "#                 for rr in range(8):\n",
    "#                     ax = axs[rr]\n",
    "#                     run = rr+1\n",
    "#                     g = sns.lineplot(\n",
    "#                         data=df_window_y[df_window_y.run==run],\n",
    "#                         x='TR', y='y', hue='hue',\n",
    "#                         ax=ax\n",
    "#                     )\n",
    "#                     handles, labels = g.get_legend_handles_labels()\n",
    "#                     g.legend(handles, [r'$%s_{%s}$'%(s.split('_')[0],s.split('_')[1]) for s in labels], loc='upper left', fontsize=12)\n",
    "#                     g.grid(axis='x', linestyle='--', color='gray')\n",
    "#                     g.set_ylabel(r'mean $y$ across window', fontsize=16)\n",
    "#                     g.set_xlabel('TR', fontsize=16)\n",
    "#                     xticks = g.get_xticks()[1:-1]\n",
    "#                     g.set_xticks(xticks)\n",
    "#                     g.set_xticklabels(['%d'%x for x in xticks], fontsize=14)\n",
    "#                     yticks = g.get_yticks()[1:-1]\n",
    "#                     g.set_yticks(yticks)\n",
    "#                     g.set_yticklabels(['%.2f'%y for y in yticks], fontsize=14)\n",
    "#                     g.set_title('run%02d (%s, %s, %s)'%(run, subj, roi, str(param)))\n",
    "#                     g.axvline(x=0, color='red', linestyle='-')\n",
    "\n",
    "#                 fig.tight_layout()\n",
    "#                 # plt.show()\n",
    "#                 fig.savefig(\n",
    "#                     join(dir_work,'y_window.%s.%s.%s.png'%(subj,roi,su.convert_param_to_hrf(params=param,type='str'))),\n",
    "#                     dpi=300, facecolor=[1,1,1,1],\n",
    "#                     bbox_inches='tight'\n",
    "#                 )"
   ]
  },
  {
   "cell_type": "markdown",
   "id": "e2638c6b-2a69-40b9-9fa0-2ae5d4d02f29",
   "metadata": {},
   "source": [
    "ii) gap trials"
   ]
  },
  {
   "cell_type": "code",
   "execution_count": 23,
   "id": "50755cd4-e801-4fc1-9f75-2f61d6c240b6",
   "metadata": {},
   "outputs": [],
   "source": [
    "pre, post = 5, 25"
   ]
  },
  {
   "cell_type": "code",
   "execution_count": 24,
   "id": "c4b0f3d8-4a44-4fb7-8290-f59aefb95b81",
   "metadata": {},
   "outputs": [
    {
     "name": "stderr",
     "output_type": "stream",
     "text": [
      "100%|██████████████████████████████████████████████████████████████████████████████████████████████████████████████████| 24/24 [02:13<00:00,  5.58s/it]\n"
     ]
    }
   ],
   "source": [
    "nrows, ncols = 4, 2\n",
    "for subj in tqdm(list_subj):\n",
    "    fig, axs = plt.subplots(nrows=nrows, ncols=ncols, figsize=(6*ncols, 4*nrows))\n",
    "    axs = np.concatenate(axs)\n",
    "    plt.close()\n",
    "    for ii, roi in enumerate(list_roi):\n",
    "        ax = axs[ii]\n",
    "        param = simage.get_optimal_hrf(\n",
    "            subj=subj, roi=roi,\n",
    "            r2_score=join(dir_glm,'r2_score.tsv')\n",
    "        )\n",
    "        df_window_y = simage.get_df_window_y(\n",
    "            subj=subj,\n",
    "            glm=glm,\n",
    "            roi=roi,\n",
    "            param=param,\n",
    "            pre=pre,post=post,\n",
    "            gap=16\n",
    "        )\n",
    "        g = sns.lineplot(\n",
    "            data=df_window_y,\n",
    "            x='TR', y='y', hue='hue',\n",
    "            errorbar='se',\n",
    "            ax=ax\n",
    "        )\n",
    "        g.grid(axis='x',linestyle='-')\n",
    "        g.legend()\n",
    "        xticks = np.arange(-pre,post+.1,5).astype(int)\n",
    "        g.set_xticks(xticks)\n",
    "        g.set_xticklabels(['%d'%x for x in xticks], fontsize=10)\n",
    "        g.set_xlabel(g.get_xlabel(), fontsize=12)\n",
    "        g.set_ylabel(r'mean $Y$ across run', fontsize=12)\n",
    "        g.set_title(su.convert_param_to_hrf(param), fontsize=12)\n",
    "        g.set_title('%s %s'%(roi, su.convert_param_to_hrf(param)), fontsize=12)\n",
    "        \n",
    "        for t in [-5,0,20,25]:\n",
    "            g.axvline(x=t, color='r', linestyle='--')\n",
    "\n",
    "    fig.suptitle(subj, fontsize=16)\n",
    "    fig.tight_layout()\n",
    "    fig.savefig(\n",
    "        join(dir_work,'y_window.%s.gap_trial.png'%subj),\n",
    "        dpi=300, facecolor=[1,1,1,1],\n",
    "        bbox_inches='tight'\n",
    "    )"
   ]
  },
  {
   "cell_type": "markdown",
   "id": "ebc081d8-1651-428e-8c54-6b6dac03f14e",
   "metadata": {},
   "source": [
    "---"
   ]
  },
  {
   "cell_type": "markdown",
   "id": "67899006-8af4-4223-94aa-91248ea83aa9",
   "metadata": {},
   "source": [
    "## Load $\\beta$"
   ]
  },
  {
   "cell_type": "code",
   "execution_count": null,
   "id": "54861ee0-ab93-4b5c-a26b-3533470a52ac",
   "metadata": {},
   "outputs": [],
   "source": [
    "subj = 'R01'\n",
    "glm = 3\n",
    "param = [6,16]\n",
    "roi = 'M1'"
   ]
  },
  {
   "cell_type": "code",
   "execution_count": null,
   "id": "6f01bfc6-944c-4c3e-b817-6f2f72a44183",
   "metadata": {},
   "outputs": [],
   "source": [
    "beta = simage.load_hrf_tune(subj=subj,glm=glm,roi=roi,param=param,map_='beta')\n",
    "beta"
   ]
  },
  {
   "cell_type": "code",
   "execution_count": null,
   "id": "3bd20b2f-8c86-4d06-a33a-4d607e3413bd",
   "metadata": {},
   "outputs": [],
   "source": [
    "dir_glm = su.get_dir_glm(glm)\n",
    "SPM = join(dir_glm,subj,'SPM.mat')\n",
    "deal_spm.get_df_vec(SPM)"
   ]
  },
  {
   "cell_type": "code",
   "execution_count": null,
   "id": "145970f8-5275-4539-8945-69be1c01c4d8",
   "metadata": {},
   "outputs": [],
   "source": [
    "fig, ax = plt.subplots()\n",
    "\n",
    "## (# interest, # voxels)\n",
    "print(beta.shape)\n",
    "sns.heatmap(beta.get_fdata(),ax=ax)\n",
    "plt.show()"
   ]
  },
  {
   "cell_type": "markdown",
   "id": "d26812cc-7e0e-44a6-aa53-6443c9eb2abd",
   "metadata": {},
   "source": [
    "---"
   ]
  },
  {
   "cell_type": "code",
   "execution_count": null,
   "id": "c903a863-523d-48bc-be69-624742f699d9",
   "metadata": {},
   "outputs": [],
   "source": [
    "# %whos"
   ]
  }
 ],
 "metadata": {
  "kernelspec": {
   "display_name": "SSS",
   "language": "python",
   "name": "sss"
  },
  "language_info": {
   "codemirror_mode": {
    "name": "ipython",
    "version": 3
   },
   "file_extension": ".py",
   "mimetype": "text/x-python",
   "name": "python",
   "nbconvert_exporter": "python",
   "pygments_lexer": "ipython3",
   "version": "3.9.21"
  }
 },
 "nbformat": 4,
 "nbformat_minor": 5
}
