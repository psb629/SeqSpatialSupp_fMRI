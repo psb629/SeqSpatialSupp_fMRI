{
 "cells": [
  {
   "cell_type": "code",
   "execution_count": 1,
   "id": "8f1c2c03-097f-45a8-a1ef-8a52763e8daf",
   "metadata": {},
   "outputs": [],
   "source": [
    "import sys\n",
    "import platform\n",
    "from os.path import join, exists, abspath, dirname\n",
    "from os import getcwd, makedirs\n",
    "from glob import glob\n",
    "\n",
    "import numpy as np\n",
    "import pandas as pd\n",
    "import matplotlib.pyplot as plt\n",
    "from matplotlib import colormaps, cm, colors\n",
    "import scipy\n",
    "from scipy.stats import ttest_1samp, pearsonr\n",
    "from scipy.io import loadmat\n",
    "from sklearn.metrics import r2_score\n",
    "import seaborn as sns\n",
    "import h5py\n",
    "\n",
    "from tqdm import tqdm"
   ]
  },
  {
   "cell_type": "code",
   "execution_count": 2,
   "id": "ae9f5f62-689a-4276-a0cd-0c4f05a8f6f1",
   "metadata": {},
   "outputs": [],
   "source": [
    "import nibabel as nb\n",
    "from nilearn import plotting, image\n",
    "from nipype.interfaces import fsl"
   ]
  },
  {
   "cell_type": "code",
   "execution_count": 3,
   "id": "47742f37-bfce-44aa-b2ba-9a5c450f4fac",
   "metadata": {},
   "outputs": [
    {
     "data": {
      "text/plain": [
       "'/Users/sungbeenpark/github'"
      ]
     },
     "execution_count": 3,
     "metadata": {},
     "output_type": "execute_result"
    }
   ],
   "source": [
    "dir_current = getcwd().replace('\\\\','/')\n",
    "\n",
    "tmp = dir_current.split('/')\n",
    "idx = [ii for ii, s in enumerate(tmp) if s=='github'][0]\n",
    "\n",
    "dir_git = '/'.join(tmp[:idx+1])\n",
    "dir_git"
   ]
  },
  {
   "cell_type": "code",
   "execution_count": 4,
   "id": "495f3dda-caf5-4296-9182-1c9ea46cfefe",
   "metadata": {},
   "outputs": [],
   "source": [
    "dname = join(dir_git,'nitools')\n",
    "sys.path.append(dname)\n",
    "import nitools as nt"
   ]
  },
  {
   "cell_type": "code",
   "execution_count": 5,
   "id": "5385c6e4-1067-4715-954b-72c5b9252894",
   "metadata": {},
   "outputs": [],
   "source": [
    "dname = join(dir_git,'SUITPy')\n",
    "sys.path.append(dname)\n",
    "import SUITPy as suit"
   ]
  },
  {
   "cell_type": "code",
   "execution_count": 6,
   "id": "91a5a34d-398c-4fae-8034-819db87def7c",
   "metadata": {},
   "outputs": [],
   "source": [
    "dname = join(dir_git)\n",
    "sys.path.append(dname)\n",
    "import surfAnalysisPy as surf"
   ]
  },
  {
   "cell_type": "code",
   "execution_count": 7,
   "id": "f4e8e268-fa6a-49ff-afc2-3528d00d210a",
   "metadata": {},
   "outputs": [],
   "source": [
    "dname = join(dir_git,'Functional_Fusion')\n",
    "sys.path.append(dname)\n",
    "import Functional_Fusion.atlas_map as am\n",
    "import Functional_Fusion.reliability as rel"
   ]
  },
  {
   "cell_type": "code",
   "execution_count": 8,
   "id": "cc8058cb-d82d-49ff-9aca-f53cf353e9ca",
   "metadata": {},
   "outputs": [],
   "source": [
    "dname = join(dir_git,'AnatSearchlight')\n",
    "sys.path.append(dname)\n",
    "import AnatSearchlight.searchlight as sl"
   ]
  },
  {
   "cell_type": "code",
   "execution_count": 9,
   "id": "cb4e8ffa-0434-434c-b712-8000af14189b",
   "metadata": {},
   "outputs": [],
   "source": [
    "dname = abspath(join(dir_git,'PcmPy'))\n",
    "sys.path.append(dname)\n",
    "import PcmPy as pcm"
   ]
  },
  {
   "cell_type": "code",
   "execution_count": 10,
   "id": "6f8001ea-2c76-4a7a-bc3f-aec68128aeb0",
   "metadata": {},
   "outputs": [],
   "source": [
    "dname = join(dir_git,'SeqSpatialSupp_fMRI')\n",
    "sys.path.append(dname)\n",
    "from SSS import deal_spm\n",
    "from SSS import util as su\n",
    "from SSS import plot as splt\n",
    "from SSS import image as simage\n",
    "from SSS import glmsingle as ssingle"
   ]
  },
  {
   "cell_type": "markdown",
   "id": "da4f54ad-370e-4370-9fed-d88f76dc89c8",
   "metadata": {},
   "source": [
    "---"
   ]
  },
  {
   "cell_type": "code",
   "execution_count": 11,
   "id": "2f9c20a0-25b7-425b-8d26-019d585062b1",
   "metadata": {},
   "outputs": [],
   "source": [
    "hem = 'L'"
   ]
  },
  {
   "cell_type": "code",
   "execution_count": 12,
   "id": "523eab18-e303-496b-ab79-9e4ccbd7f5e1",
   "metadata": {},
   "outputs": [],
   "source": [
    "list_sn = su.get_list_sn()"
   ]
  },
  {
   "cell_type": "markdown",
   "id": "7d3def2f-2952-4c34-adde-81469b73b63d",
   "metadata": {},
   "source": [
    "---"
   ]
  },
  {
   "cell_type": "markdown",
   "id": "90e95c0d-dcf5-40c4-9cc4-34d74f8ffccd",
   "metadata": {},
   "source": [
    "### Setup to run"
   ]
  },
  {
   "cell_type": "markdown",
   "id": "b10cdf92-517f-482c-ab13-2679ecbcd78a",
   "metadata": {},
   "source": [
    "To define a searchlight we need a:\n",
    "\n",
    "- Pial Surface (individual)\n",
    "- Gray Matter Mask (individual)\n",
    "- Functional mask image (mask.nii from GLM) telling us which voxels are availabe for searchlight analysis\n",
    "\n",
    "If we want to calculate the searchlight only for a part of a the surface, we can use a roi_specification (i.e. excluding the medial wall).\n",
    "\n",
    "The searchlight can be specified to have a specific radius in mm (on the surface) or a specific number of voxels."
   ]
  },
  {
   "cell_type": "code",
   "execution_count": 13,
   "id": "e01b8f32-261e-496b-9839-e4f63e53dd62",
   "metadata": {},
   "outputs": [
    {
     "data": {
      "text/plain": [
       "'/Volumes/Diedrichsen_data$/data/SeqSpatialSupp_fMRI/surfaceWB'"
      ]
     },
     "execution_count": 13,
     "metadata": {},
     "output_type": "execute_result"
    }
   ],
   "source": [
    "dir_output= join(su.get_dir_surf())\n",
    "dir_output"
   ]
  },
  {
   "cell_type": "code",
   "execution_count": 17,
   "id": "5e380e09-4cee-4885-99bb-654410792492",
   "metadata": {},
   "outputs": [
    {
     "name": "stderr",
     "output_type": "stream",
     "text": [
      "100%|███████████████████████████████████████████████████████████████████████████████████████████████████████████████████| 12/12 [3:48:18<00:00, 1141.55s/it]\n"
     ]
    }
   ],
   "source": [
    "for ii, sn in enumerate(tqdm(list_sn)):\n",
    "    subj = 'S'+sn\n",
    "    \n",
    "    # These are the inndividual surfaces and the mask\n",
    "    white, pial, mask = simage.get_WPM(subj=subj, glm=1, hem=hem)\n",
    "\n",
    "    # Optionally, you can define a roi-mask for the searchlight region on the surface. Centers outside of the mask will be ignored.\n",
    "    # Instead of a gifti-image you can also use a numpy array with the indices of the vertices that should be included in the searchlight.\n",
    "    roi_mask = join(dir_git,'AnatSearchlight/examples/tpl-fs32k_hemi-%s_mask.label.gii'%hem)\n",
    "\n",
    "    # Give it an appropriate structure name: Used for generating cifti-files for output\n",
    "    if hem == 'L':\n",
    "        mysearchlight = sl.SearchlightSurface('left_cortex')\n",
    "    if hem == 'R':\n",
    "        mysearchlight = sl.SearchlightSurface('right_cortex')\n",
    "    \n",
    "    # Here we defining\n",
    "    maxradius = 100\n",
    "    maxvoxels = 200\n",
    "    \n",
    "    mysearchlight.define(\n",
    "        surfs=[pial,white],\n",
    "        mask_img=mask,\n",
    "        roi=roi_mask,\n",
    "        maxradius=maxradius,\n",
    "        maxvoxels=maxvoxels,\n",
    "        verbose=False\n",
    "    )\n",
    "\n",
    "    fname = join(dir_output,subj,'%s.searchlight_surface.nvoxel=%d.h5'%(subj,maxvoxels))\n",
    "    mysearchlight.save(fname)"
   ]
  },
  {
   "cell_type": "markdown",
   "id": "06896072-c40d-4c2c-965e-e8adb1337e52",
   "metadata": {},
   "source": [
    "---"
   ]
  }
 ],
 "metadata": {
  "kernelspec": {
   "display_name": "sss",
   "language": "python",
   "name": "sss"
  },
  "language_info": {
   "codemirror_mode": {
    "name": "ipython",
    "version": 3
   },
   "file_extension": ".py",
   "mimetype": "text/x-python",
   "name": "python",
   "nbconvert_exporter": "python",
   "pygments_lexer": "ipython3",
   "version": "3.9.23"
  }
 },
 "nbformat": 4,
 "nbformat_minor": 5
}
