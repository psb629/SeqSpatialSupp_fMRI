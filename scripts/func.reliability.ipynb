{
 "cells": [
  {
   "cell_type": "code",
   "execution_count": 1,
   "id": "8f1c2c03-097f-45a8-a1ef-8a52763e8daf",
   "metadata": {},
   "outputs": [],
   "source": [
    "import sys\n",
    "import platform\n",
    "from os.path import join, exists, abspath\n",
    "from os import getcwd, makedirs\n",
    "from glob import glob\n",
    "\n",
    "import numpy as np\n",
    "import pandas as pd\n",
    "import matplotlib.pyplot as plt\n",
    "from matplotlib import colormaps, cm, colors\n",
    "import scipy\n",
    "import h5py\n",
    "import seaborn as sns\n",
    "\n",
    "from tqdm import tqdm"
   ]
  },
  {
   "cell_type": "code",
   "execution_count": 2,
   "id": "ae9f5f62-689a-4276-a0cd-0c4f05a8f6f1",
   "metadata": {},
   "outputs": [],
   "source": [
    "import nibabel as nb\n",
    "from nilearn import plotting, image\n",
    "from nipype.interfaces import fsl"
   ]
  },
  {
   "cell_type": "code",
   "execution_count": 3,
   "id": "47742f37-bfce-44aa-b2ba-9a5c450f4fac",
   "metadata": {},
   "outputs": [
    {
     "data": {
      "text/plain": [
       "'/Users/sungbeenpark/github'"
      ]
     },
     "execution_count": 3,
     "metadata": {},
     "output_type": "execute_result"
    }
   ],
   "source": [
    "dir_current = getcwd().replace('\\\\','/')\n",
    "\n",
    "tmp = dir_current.split('/')\n",
    "idx = [ii for ii, s in enumerate(tmp) if s=='github'][0]\n",
    "\n",
    "dir_git = '/'.join(tmp[:idx+1])\n",
    "dir_git"
   ]
  },
  {
   "cell_type": "code",
   "execution_count": 4,
   "id": "a9fc8db6-e252-4027-b22c-73c24bcd06d6",
   "metadata": {},
   "outputs": [],
   "source": [
    "dname = join(dir_git,'nitools')\n",
    "sys.path.append(dname)\n",
    "import nitools as nt"
   ]
  },
  {
   "cell_type": "code",
   "execution_count": 5,
   "id": "291096a5-b23b-485e-9726-5f24a2823b9b",
   "metadata": {},
   "outputs": [],
   "source": [
    "dname = join(dir_git,'SUITPy')\n",
    "sys.path.append(dname)\n",
    "import SUITPy as suit"
   ]
  },
  {
   "cell_type": "code",
   "execution_count": 6,
   "id": "4ac4b902-129b-4816-a79d-b1b7776099e0",
   "metadata": {},
   "outputs": [],
   "source": [
    "dname = join(dir_git)\n",
    "sys.path.append(dname)\n",
    "import surfAnalysisPy as surf"
   ]
  },
  {
   "cell_type": "code",
   "execution_count": 7,
   "id": "02a2c6c7-5fe0-4c52-ba5b-3ed535720931",
   "metadata": {},
   "outputs": [],
   "source": [
    "dname = join(dir_git,'Functional_Fusion')\n",
    "sys.path.append(dname)\n",
    "import Functional_Fusion.atlas_map as am\n",
    "import Functional_Fusion.reliability as rel"
   ]
  },
  {
   "cell_type": "code",
   "execution_count": 8,
   "id": "101247e5-afe0-4edc-a340-d409b9479bae",
   "metadata": {},
   "outputs": [],
   "source": [
    "dname = join(dir_git,'PcmPy')\n",
    "sys.path.append(dname)\n",
    "import PcmPy as pcm"
   ]
  },
  {
   "cell_type": "code",
   "execution_count": 9,
   "id": "261e765d-0099-4f1c-8eb8-03019ec7b7cd",
   "metadata": {},
   "outputs": [],
   "source": [
    "dname = join(dir_git,'SeqSpatialSupp_fMRI')\n",
    "sys.path.append(dname)\n",
    "from SSS import deal_spm\n",
    "from SSS import util as su\n",
    "from SSS import plot as splt\n",
    "from SSS import image as simage\n",
    "from SSS import glmsingle as ssingle"
   ]
  },
  {
   "cell_type": "markdown",
   "id": "2e7a6a3e-ea3c-4629-892a-aa56f07c4e24",
   "metadata": {},
   "source": [
    "---"
   ]
  },
  {
   "cell_type": "code",
   "execution_count": 10,
   "id": "bdeb3a08-73f6-4b33-9c3c-0f2b44eb72f3",
   "metadata": {},
   "outputs": [],
   "source": [
    "list_sn = su.get_list_sn()"
   ]
  },
  {
   "cell_type": "code",
   "execution_count": 11,
   "id": "c6eed2fb-2148-4adb-a96c-03a11f707faa",
   "metadata": {},
   "outputs": [
    {
     "data": {
      "text/plain": [
       "True"
      ]
     },
     "execution_count": 11,
     "metadata": {},
     "output_type": "execute_result"
    }
   ],
   "source": [
    "dir_atlas = su.get_dir_atlas()\n",
    "Hem = ['L','R']\n",
    "h = 'L'\n",
    "exists(dir_atlas)"
   ]
  },
  {
   "cell_type": "code",
   "execution_count": 12,
   "id": "4fc799c6-65cd-4a81-b4f7-b583c428ce25",
   "metadata": {},
   "outputs": [
    {
     "data": {
      "text/plain": [
       "array(['S1', 'M1', 'PMd', 'PMv', 'SMA', 'V1', 'SPLa', 'SPLp'], dtype='<U4')"
      ]
     },
     "execution_count": 12,
     "metadata": {},
     "output_type": "execute_result"
    }
   ],
   "source": [
    "# list_roi = ['SMA', 'PMv', 'PMd', 'M1', 'S1', 'SPLa', 'SPLp', 'DSVC', 'MT+', 'VSVC', 'EAC']\n",
    "list_roi = simage.get_list_roi()\n",
    "list_roi"
   ]
  },
  {
   "cell_type": "markdown",
   "id": "0a9e33b8-178c-4b7f-bb80-b893bf201e4e",
   "metadata": {},
   "source": [
    "---"
   ]
  },
  {
   "cell_type": "code",
   "execution_count": 13,
   "id": "b04adbc5-ca27-47cd-8c85-5371b3d87a66",
   "metadata": {},
   "outputs": [],
   "source": [
    "glm = 1"
   ]
  },
  {
   "cell_type": "markdown",
   "id": "29fdb5c7-9799-43a9-8d48-4d46f545dd10",
   "metadata": {},
   "source": [
    "#### GLM original"
   ]
  },
  {
   "cell_type": "code",
   "execution_count": 14,
   "id": "0f7ff30f-fdfa-4c67-9115-a27ca5a09045",
   "metadata": {},
   "outputs": [],
   "source": [
    "dir_glm = su.get_dir_glm(glm)"
   ]
  },
  {
   "cell_type": "code",
   "execution_count": 15,
   "id": "ee0bd180-0022-44fc-b11e-9f771d30ccf2",
   "metadata": {},
   "outputs": [
    {
     "name": "stdout",
     "output_type": "stream",
     "text": [
      "S1\n"
     ]
    },
    {
     "name": "stderr",
     "output_type": "stream",
     "text": [
      "100%|███████████████████████████████████████████████████████████████████████████████████████████████████████| 12/12 [00:04<00:00,  2.65it/s]\n"
     ]
    },
    {
     "name": "stdout",
     "output_type": "stream",
     "text": [
      "M1\n"
     ]
    },
    {
     "name": "stderr",
     "output_type": "stream",
     "text": [
      "100%|███████████████████████████████████████████████████████████████████████████████████████████████████████| 12/12 [00:00<00:00, 91.27it/s]\n"
     ]
    },
    {
     "name": "stdout",
     "output_type": "stream",
     "text": [
      "PMd\n"
     ]
    },
    {
     "name": "stderr",
     "output_type": "stream",
     "text": [
      "100%|██████████████████████████████████████████████████████████████████████████████████████████████████████| 12/12 [00:00<00:00, 131.30it/s]\n"
     ]
    },
    {
     "name": "stdout",
     "output_type": "stream",
     "text": [
      "PMv\n"
     ]
    },
    {
     "name": "stderr",
     "output_type": "stream",
     "text": [
      "100%|██████████████████████████████████████████████████████████████████████████████████████████████████████| 12/12 [00:00<00:00, 132.59it/s]\n"
     ]
    },
    {
     "name": "stdout",
     "output_type": "stream",
     "text": [
      "SMA\n"
     ]
    },
    {
     "name": "stderr",
     "output_type": "stream",
     "text": [
      "100%|██████████████████████████████████████████████████████████████████████████████████████████████████████| 12/12 [00:00<00:00, 134.81it/s]\n"
     ]
    },
    {
     "name": "stdout",
     "output_type": "stream",
     "text": [
      "V1\n"
     ]
    },
    {
     "name": "stderr",
     "output_type": "stream",
     "text": [
      "100%|██████████████████████████████████████████████████████████████████████████████████████████████████████| 12/12 [00:00<00:00, 135.30it/s]\n"
     ]
    },
    {
     "name": "stdout",
     "output_type": "stream",
     "text": [
      "SPLa\n"
     ]
    },
    {
     "name": "stderr",
     "output_type": "stream",
     "text": [
      "100%|██████████████████████████████████████████████████████████████████████████████████████████████████████| 12/12 [00:00<00:00, 127.95it/s]\n"
     ]
    },
    {
     "name": "stdout",
     "output_type": "stream",
     "text": [
      "SPLp\n"
     ]
    },
    {
     "name": "stderr",
     "output_type": "stream",
     "text": [
      "100%|███████████████████████████████████████████████████████████████████████████████████████████████████████| 12/12 [00:00<00:00, 89.88it/s]\n"
     ]
    }
   ],
   "source": [
    "result = {'subj':[], 'roi':[], 'r':[], 'r_corr':[]}\n",
    "for rr, roi in enumerate(list_roi):\n",
    "    print(roi)\n",
    "    Y = []\n",
    "    for ss, sn in enumerate(tqdm(list_sn)):\n",
    "        subj = 'S'+sn\n",
    "        fname = join(dir_glm,'beta.%s.%s.%drois.npz'%(h,subj,len(list_roi)))\n",
    "        with np.load(fname, allow_pickle=True) as npz:\n",
    "            dataset = npz['dataset']\n",
    "            cond_vec = npz['cond_vec']\n",
    "            part_vec = npz['part_vec']\n",
    "            \n",
    "        obs_des = {'cond_vec': cond_vec, 'part_vec':part_vec}\n",
    "        Y.append(\n",
    "            pcm.dataset.Dataset(\n",
    "                measurements=dataset[rr][:len(cond_vec),:],\n",
    "                obs_descriptors=obs_des\n",
    "            )\n",
    "        )\n",
    "\n",
    "    for ss, sn in enumerate(list_sn):\n",
    "        subj = 'S'+sn\n",
    "        data = Y[ss].measurements\n",
    "        cond_vec = Y[ss].obs_descriptors['cond_vec']\n",
    "        part_vec = Y[ss].obs_descriptors['part_vec']\n",
    "        r_corr = np.mean(\n",
    "            rel.within_subj_loo(data, cond_vec, part_vec, separate='none', subtract_mean=True)\n",
    "        )\n",
    "        r = rel.within_subj(data, cond_vec, part_vec, separate='none', subtract_mean=True)[0]\n",
    "        result['subj'].append(subj)\n",
    "        result['roi'].append(roi)\n",
    "        result['r'].append(r)\n",
    "        result['r_corr'].append(r_corr)\n",
    "\n",
    "da = pd.DataFrame(result)\n",
    "del result"
   ]
  },
  {
   "cell_type": "markdown",
   "id": "e279c17a-c804-42e7-9d65-37080a023f8e",
   "metadata": {},
   "source": [
    "#### GLMsingle"
   ]
  },
  {
   "cell_type": "code",
   "execution_count": 18,
   "id": "f3dec0a0-1cfc-4465-b575-03cd4dd0b0e8",
   "metadata": {},
   "outputs": [],
   "source": [
    "dir_glm = ssingle.get_dir_glmsingle(glm)"
   ]
  },
  {
   "cell_type": "markdown",
   "id": "a03efa06-efc7-4cdb-b1a4-28e8a8e0ab09",
   "metadata": {},
   "source": [
    "load beta"
   ]
  },
  {
   "cell_type": "code",
   "execution_count": 19,
   "id": "8c9d498a-398a-4c31-b61d-c3f4b330fdb3",
   "metadata": {},
   "outputs": [
    {
     "name": "stdout",
     "output_type": "stream",
     "text": [
      "S1\n"
     ]
    },
    {
     "name": "stderr",
     "output_type": "stream",
     "text": [
      "100%|███████████████████████████████████████████████████████████████████████████████████████████████████████| 12/12 [00:22<00:00,  1.91s/it]\n"
     ]
    },
    {
     "name": "stdout",
     "output_type": "stream",
     "text": [
      "M1\n"
     ]
    },
    {
     "name": "stderr",
     "output_type": "stream",
     "text": [
      "100%|███████████████████████████████████████████████████████████████████████████████████████████████████████| 12/12 [00:00<00:00, 22.50it/s]\n"
     ]
    },
    {
     "name": "stdout",
     "output_type": "stream",
     "text": [
      "PMd\n"
     ]
    },
    {
     "name": "stderr",
     "output_type": "stream",
     "text": [
      "100%|███████████████████████████████████████████████████████████████████████████████████████████████████████| 12/12 [00:00<00:00, 23.47it/s]\n"
     ]
    },
    {
     "name": "stdout",
     "output_type": "stream",
     "text": [
      "PMv\n"
     ]
    },
    {
     "name": "stderr",
     "output_type": "stream",
     "text": [
      "100%|███████████████████████████████████████████████████████████████████████████████████████████████████████| 12/12 [00:00<00:00, 23.90it/s]\n"
     ]
    },
    {
     "name": "stdout",
     "output_type": "stream",
     "text": [
      "SMA\n"
     ]
    },
    {
     "name": "stderr",
     "output_type": "stream",
     "text": [
      "100%|███████████████████████████████████████████████████████████████████████████████████████████████████████| 12/12 [00:00<00:00, 23.40it/s]\n"
     ]
    },
    {
     "name": "stdout",
     "output_type": "stream",
     "text": [
      "V1\n"
     ]
    },
    {
     "name": "stderr",
     "output_type": "stream",
     "text": [
      "100%|███████████████████████████████████████████████████████████████████████████████████████████████████████| 12/12 [00:00<00:00, 22.05it/s]\n"
     ]
    },
    {
     "name": "stdout",
     "output_type": "stream",
     "text": [
      "SPLa\n"
     ]
    },
    {
     "name": "stderr",
     "output_type": "stream",
     "text": [
      "100%|███████████████████████████████████████████████████████████████████████████████████████████████████████| 12/12 [00:00<00:00, 23.07it/s]\n"
     ]
    },
    {
     "name": "stdout",
     "output_type": "stream",
     "text": [
      "SPLp\n"
     ]
    },
    {
     "name": "stderr",
     "output_type": "stream",
     "text": [
      "100%|███████████████████████████████████████████████████████████████████████████████████████████████████████| 12/12 [00:00<00:00, 22.67it/s]\n"
     ]
    }
   ],
   "source": [
    "result = {'subj':[], 'roi':[], 'r':[], 'r_corr':[]}\n",
    "for rr, roi in enumerate(list_roi):\n",
    "    print(roi)\n",
    "    Y = []\n",
    "    for ss, sn in enumerate(tqdm(list_sn)):\n",
    "        subj = 'S'+sn\n",
    "        fname = join(dir_glm,'beta.%s.%s.%drois.npz'%(h,subj,len(list_roi)))\n",
    "        with np.load(fname, allow_pickle=True) as npz:\n",
    "            dataset = npz['dataset']\n",
    "            cond_vec = npz['cond_vec']\n",
    "            part_vec = npz['part_vec']\n",
    "            \n",
    "        obs_des = {'cond_vec': cond_vec, 'part_vec':part_vec}\n",
    "        Y.append(\n",
    "            pcm.dataset.Dataset(\n",
    "                measurements=dataset[rr][:len(cond_vec),:],\n",
    "                obs_descriptors=obs_des\n",
    "            )\n",
    "        )\n",
    "\n",
    "    for ss, sn in enumerate(list_sn):\n",
    "        subj = 'S'+sn\n",
    "        data = Y[ss].measurements\n",
    "        cond_vec = Y[ss].obs_descriptors['cond_vec']\n",
    "        part_vec = Y[ss].obs_descriptors['part_vec']\n",
    "        r_corr = np.mean(\n",
    "            rel.within_subj_loo(data, cond_vec, part_vec, separate='none', subtract_mean=True)\n",
    "        )\n",
    "        r = rel.within_subj(data, cond_vec, part_vec, separate='none', subtract_mean=True)[0]\n",
    "        result['subj'].append(subj)\n",
    "        result['roi'].append(roi)\n",
    "        result['r'].append(r)\n",
    "        result['r_corr'].append(r_corr)\n",
    "\n",
    "db = pd.DataFrame(result)\n",
    "del result"
   ]
  },
  {
   "cell_type": "markdown",
   "id": "d148ae12-fae0-4ade-8b47-7cbd144c8a36",
   "metadata": {},
   "source": [
    "### Plot"
   ]
  },
  {
   "cell_type": "code",
   "execution_count": 24,
   "id": "725f5e56-8e70-4251-8eed-ebe072a43c19",
   "metadata": {},
   "outputs": [
    {
     "data": {
      "text/html": [
       "<div>\n",
       "<style scoped>\n",
       "    .dataframe tbody tr th:only-of-type {\n",
       "        vertical-align: middle;\n",
       "    }\n",
       "\n",
       "    .dataframe tbody tr th {\n",
       "        vertical-align: top;\n",
       "    }\n",
       "\n",
       "    .dataframe thead th {\n",
       "        text-align: right;\n",
       "    }\n",
       "</style>\n",
       "<table border=\"1\" class=\"dataframe\">\n",
       "  <thead>\n",
       "    <tr style=\"text-align: right;\">\n",
       "      <th></th>\n",
       "      <th>subj</th>\n",
       "      <th>roi</th>\n",
       "      <th>r</th>\n",
       "      <th>r_corr</th>\n",
       "      <th>hue</th>\n",
       "    </tr>\n",
       "  </thead>\n",
       "  <tbody>\n",
       "    <tr>\n",
       "      <th>0</th>\n",
       "      <td>S01</td>\n",
       "      <td>S1</td>\n",
       "      <td>0.035562</td>\n",
       "      <td>0.085601</td>\n",
       "      <td>original</td>\n",
       "    </tr>\n",
       "    <tr>\n",
       "      <th>1</th>\n",
       "      <td>S02</td>\n",
       "      <td>S1</td>\n",
       "      <td>0.048969</td>\n",
       "      <td>0.124725</td>\n",
       "      <td>original</td>\n",
       "    </tr>\n",
       "    <tr>\n",
       "      <th>2</th>\n",
       "      <td>S03</td>\n",
       "      <td>S1</td>\n",
       "      <td>0.020326</td>\n",
       "      <td>0.054768</td>\n",
       "      <td>original</td>\n",
       "    </tr>\n",
       "    <tr>\n",
       "      <th>3</th>\n",
       "      <td>S05</td>\n",
       "      <td>S1</td>\n",
       "      <td>0.053268</td>\n",
       "      <td>0.123571</td>\n",
       "      <td>original</td>\n",
       "    </tr>\n",
       "    <tr>\n",
       "      <th>4</th>\n",
       "      <td>S06</td>\n",
       "      <td>S1</td>\n",
       "      <td>-0.011804</td>\n",
       "      <td>-0.009659</td>\n",
       "      <td>original</td>\n",
       "    </tr>\n",
       "    <tr>\n",
       "      <th>...</th>\n",
       "      <td>...</td>\n",
       "      <td>...</td>\n",
       "      <td>...</td>\n",
       "      <td>...</td>\n",
       "      <td>...</td>\n",
       "    </tr>\n",
       "    <tr>\n",
       "      <th>91</th>\n",
       "      <td>S10</td>\n",
       "      <td>SPLp</td>\n",
       "      <td>0.064033</td>\n",
       "      <td>0.153128</td>\n",
       "      <td>glmsingle</td>\n",
       "    </tr>\n",
       "    <tr>\n",
       "      <th>92</th>\n",
       "      <td>S11</td>\n",
       "      <td>SPLp</td>\n",
       "      <td>0.134903</td>\n",
       "      <td>0.272346</td>\n",
       "      <td>glmsingle</td>\n",
       "    </tr>\n",
       "    <tr>\n",
       "      <th>93</th>\n",
       "      <td>S12</td>\n",
       "      <td>SPLp</td>\n",
       "      <td>0.037819</td>\n",
       "      <td>0.097114</td>\n",
       "      <td>glmsingle</td>\n",
       "    </tr>\n",
       "    <tr>\n",
       "      <th>94</th>\n",
       "      <td>S13</td>\n",
       "      <td>SPLp</td>\n",
       "      <td>0.121153</td>\n",
       "      <td>0.247596</td>\n",
       "      <td>glmsingle</td>\n",
       "    </tr>\n",
       "    <tr>\n",
       "      <th>95</th>\n",
       "      <td>S14</td>\n",
       "      <td>SPLp</td>\n",
       "      <td>0.163734</td>\n",
       "      <td>0.311954</td>\n",
       "      <td>glmsingle</td>\n",
       "    </tr>\n",
       "  </tbody>\n",
       "</table>\n",
       "<p>192 rows × 5 columns</p>\n",
       "</div>"
      ],
      "text/plain": [
       "   subj   roi         r    r_corr        hue\n",
       "0   S01    S1  0.035562  0.085601   original\n",
       "1   S02    S1  0.048969  0.124725   original\n",
       "2   S03    S1  0.020326  0.054768   original\n",
       "3   S05    S1  0.053268  0.123571   original\n",
       "4   S06    S1 -0.011804 -0.009659   original\n",
       "..  ...   ...       ...       ...        ...\n",
       "91  S10  SPLp  0.064033  0.153128  glmsingle\n",
       "92  S11  SPLp  0.134903  0.272346  glmsingle\n",
       "93  S12  SPLp  0.037819  0.097114  glmsingle\n",
       "94  S13  SPLp  0.121153  0.247596  glmsingle\n",
       "95  S14  SPLp  0.163734  0.311954  glmsingle\n",
       "\n",
       "[192 rows x 5 columns]"
      ]
     },
     "execution_count": 24,
     "metadata": {},
     "output_type": "execute_result"
    }
   ],
   "source": [
    "da['hue']='original'\n",
    "db['hue']='glmsingle'\n",
    "df = pd.concat([da,db])\n",
    "df"
   ]
  },
  {
   "cell_type": "code",
   "execution_count": 41,
   "id": "5bf338ec-9fdc-4c7b-9dc7-c383c1fd4183",
   "metadata": {},
   "outputs": [
    {
     "data": {
      "text/plain": [
       "array(['#800000', '#0060ff'], dtype='<U7')"
      ]
     },
     "execution_count": 41,
     "metadata": {},
     "output_type": "execute_result"
    }
   ],
   "source": [
    "cmap = cm.jet\n",
    "palette = [colors.to_hex(cmap(i)) for i in np.linspace(0,1,10)]\n",
    "palette = np.random.choice(palette,2,replace=False)\n",
    "palette"
   ]
  },
  {
   "cell_type": "code",
   "execution_count": 54,
   "id": "6b97a8e8-1637-4137-9235-5579e2d9e57b",
   "metadata": {},
   "outputs": [
    {
     "name": "stderr",
     "output_type": "stream",
     "text": [
      "/var/folders/1b/hm3_g9y53yvgd0fwmdrv8q080000gp/T/ipykernel_18729/4022072439.py:11: UserWarning: Numpy array is not a supported type for `palette`. Please convert your palette to a list. This will become an error in v0.14\n",
      "  sns.boxplot(\n"
     ]
    },
    {
     "name": "stdout",
     "output_type": "stream",
     "text": [
      "S1 9.203e-03(**)\n",
      "S1 4.527e-03(**)\n",
      "M1 1.295e-02(*)\n",
      "M1 7.552e-04(***)\n",
      "PMd 3.404e-03(**)\n",
      "PMd 7.609e-04(***)\n",
      "PMv 9.238e-03(**)\n",
      "PMv 1.857e-03(**)\n",
      "SMA 8.167e-03(**)\n",
      "SMA 6.047e-03(**)\n",
      "V1 9.377e-06(****)\n",
      "V1 1.779e-05(****)\n",
      "SPLa 2.981e-03(**)\n",
      "SPLa 2.948e-05(****)\n",
      "SPLp 6.716e-04(***)\n",
      "SPLp 1.011e-03(**)\n"
     ]
    },
    {
     "data": {
      "image/png": "[encoded data removed]",
      "text/plain": [
       "<Figure size 1000x500 with 1 Axes>"
      ]
     },
     "metadata": {},
     "output_type": "display_data"
    }
   ],
   "source": [
    "fig, ax = plt.subplots(figsize=(10,5))\n",
    "\n",
    "x = 'roi'\n",
    "y = 'r'\n",
    "# sns.swarmplot(\n",
    "#     data=df,\n",
    "#     x=x, y=y, hue='hue',\n",
    "#     alpha=0.7,\n",
    "#     ax=ax\n",
    "# )\n",
    "sns.boxplot(\n",
    "    data=df,\n",
    "    x=x, y=y,\n",
    "    hue='hue', palette=palette,\n",
    "    # alpha=0.25,\n",
    "    ax=ax\n",
    ")\n",
    "ax.grid(axis='y', linestyle='--', color='gray')\n",
    "ax.legend()\n",
    "ax.axhline(y=0, color='black')\n",
    "# ax.set_xticks(ax.get_xticks(), ax.get_xticklabels(), rotation=40, ha='right')\n",
    "ax.set_xlabel(x.upper(), fontsize=16)\n",
    "ax.set_ylabel(y.upper(), fontsize=16)\n",
    "ax.tick_params(axis='both', labelsize=12)\n",
    "ax.set_title('Reliability', fontsize=15)\n",
    "\n",
    "dy = np.diff(ax.get_ylim())*0.025\n",
    "\n",
    "for ii, roi in enumerate(list_roi):\n",
    "    for jj, hue in enumerate(df.hue.unique()):\n",
    "        a = df[(df.roi==roi)&(df.hue==hue)][y].astype(float)\n",
    "        tval, pval = scipy.stats.ttest_1samp(a, popmean=0)\n",
    "        if pval < 0.05:\n",
    "            print(roi, '%.3e(%s)'%(pval,su.convert_pval_to_star(pval)))\n",
    "            ax.text(\n",
    "                x=ii+(jj-0.5)*0.4, y=a.max() + dy,\n",
    "                s=su.convert_pval_to_star(pval), fontsize=10,\n",
    "                color=palette[jj],\n",
    "                ha='center', va='bottom'\n",
    "            )\n",
    "\n",
    "ax.set_ylim(np.array(ax.get_ylim())*1.1)\n",
    "            \n",
    "fig.tight_layout()"
   ]
  },
  {
   "cell_type": "markdown",
   "id": "273edd6e-67c4-41e5-9f3e-0927f0d85388",
   "metadata": {},
   "source": [
    "---"
   ]
  },
  {
   "cell_type": "markdown",
   "id": "c5df8c96-edf7-430b-acb0-a3ed6126d441",
   "metadata": {},
   "source": [
    "## Pre-whitening"
   ]
  },
  {
   "cell_type": "markdown",
   "id": "3355c7b1-0cfb-4356-8cf5-458e56e08965",
   "metadata": {},
   "source": [
    "OLS: $\\underset{K \\times P}{\\hat{\\beta}} = \\underset{K \\times T}{X}^{+}\\underset{T \\times P}{Y} = (\\underset{K \\times T}{X}^{T}\\underset{T \\times K}{X})^{-1}\\underset{K \\times T}{X}^{T}\\underset{T \\times P}{Y}$\n",
    "\n",
    "$\\rightarrow$ (spatial) variance-covariance matrix: $\\underset{P \\times P}{\\Sigma} = \\frac{1}{T}\\underset{P \\times T}{\\epsilon}^{T}\\underset{T \\times P}{\\epsilon}$\n",
    "\n",
    "where $\\epsilon = Y - X\\hat{\\beta}$\n",
    "\n",
    "### (spatial) Pre-whitening\n",
    "\n",
    "$$\n",
    "\\tilde{\\beta} = \\underset{K \\times P}{\\beta}\\underset{P \\times P}{\\Sigma}^{-\\frac{1}{2}}\n",
    "$$\n",
    "\n",
    "- Multi-variate pre-whitening:\n",
    "  $\\Sigma_{ij}^{-\\frac{1}{2}}=Cov(\\epsilon_{i},\\epsilon_{j})=\\frac{1}{T}\\underset{1 \\times T}{\\epsilon_{i}}^{T}\\underset{T \\times 1}{\\epsilon_{j}}$\n",
    "\n",
    "- Uni-variate pre-whitening:\n",
    "  $\\Sigma_{ij}^{-\\frac{1}{2}}=Cov(\\epsilon_{i},\\epsilon_{j})=\\frac{1}{T}\\underset{1 \\times T}{\\epsilon_{i}}^{T}\\underset{T \\times 1}{\\epsilon_{j}}\\textcolor{red}{\\delta_{ij}}$\n",
    "  $$\n",
    "  \\Sigma^{-\\frac{1}{2}} = \\begin{bmatrix}\n",
    "\\frac{1}{\\sigma_{1}} & \\textcolor{gray}{0} & \\cdots & \\textcolor{gray}{0} \\\\\n",
    "\\textcolor{gray}{0} & \\frac{1}{\\sigma_{2}} & \\cdots & \\textcolor{gray}{0} \\\\\n",
    "\\vdots & \\vdots & \\ddots & \\vdots \\\\\n",
    "\\textcolor{gray}{0} & \\cdots & \\textcolor{gray}{0} & \\frac{1}{\\sigma_{P}} \\\\\n",
    "\\end{bmatrix}\n",
    "  $$ = (`ResMS.nii`)$^{-\\frac{1}{2}}$"
   ]
  },
  {
   "cell_type": "code",
   "execution_count": 13,
   "id": "30770c32-6ce3-422b-9f2e-693b85475e14",
   "metadata": {},
   "outputs": [],
   "source": [
    "subj = 'S01'"
   ]
  },
  {
   "cell_type": "code",
   "execution_count": 14,
   "id": "378e5439-0f56-4c38-9b8d-130259b143bb",
   "metadata": {},
   "outputs": [
    {
     "data": {
      "text/plain": [
       "(64, 32492)"
      ]
     },
     "execution_count": 14,
     "metadata": {},
     "output_type": "execute_result"
    }
   ],
   "source": [
    "beta_whiten = simage.get_prewhitened_beta(subj=subj, glm=glm)\n",
    "beta_whiten.shape"
   ]
  },
  {
   "cell_type": "code",
   "execution_count": 17,
   "id": "2fbdcc5d-1701-4878-a086-355e5dede453",
   "metadata": {},
   "outputs": [
    {
     "data": {
      "text/plain": [
       "<Axes: >"
      ]
     },
     "execution_count": 17,
     "metadata": {},
     "output_type": "execute_result"
    },
    {
     "data": {
      "image/png": "[encoded data removed]",
      "text/plain": [
       "<Figure size 640x480 with 2 Axes>"
      ]
     },
     "metadata": {},
     "output_type": "display_data"
    }
   ],
   "source": [
    "sns.heatmap(beta_whiten)"
   ]
  },
  {
   "cell_type": "code",
   "execution_count": 15,
   "id": "aef89cb3-bd00-484c-9cda-995eae334221",
   "metadata": {},
   "outputs": [
    {
     "data": {
      "text/html": [
       "<div>\n",
       "<style scoped>\n",
       "    .dataframe tbody tr th:only-of-type {\n",
       "        vertical-align: middle;\n",
       "    }\n",
       "\n",
       "    .dataframe tbody tr th {\n",
       "        vertical-align: top;\n",
       "    }\n",
       "\n",
       "    .dataframe thead th {\n",
       "        text-align: right;\n",
       "    }\n",
       "</style>\n",
       "<table border=\"1\" class=\"dataframe\">\n",
       "  <thead>\n",
       "    <tr style=\"text-align: right;\">\n",
       "      <th></th>\n",
       "      <th>sn</th>\n",
       "      <th>run</th>\n",
       "      <th>cond</th>\n",
       "      <th>regIdx</th>\n",
       "      <th>seq</th>\n",
       "      <th>cue</th>\n",
       "      <th>reg</th>\n",
       "    </tr>\n",
       "  </thead>\n",
       "  <tbody>\n",
       "    <tr>\n",
       "      <th>0</th>\n",
       "      <td>1</td>\n",
       "      <td>1</td>\n",
       "      <td>1</td>\n",
       "      <td>1</td>\n",
       "      <td>1</td>\n",
       "      <td>L</td>\n",
       "      <td>(1,L)</td>\n",
       "    </tr>\n",
       "    <tr>\n",
       "      <th>1</th>\n",
       "      <td>1</td>\n",
       "      <td>1</td>\n",
       "      <td>2</td>\n",
       "      <td>2</td>\n",
       "      <td>1</td>\n",
       "      <td>S</td>\n",
       "      <td>(1,S)</td>\n",
       "    </tr>\n",
       "    <tr>\n",
       "      <th>2</th>\n",
       "      <td>1</td>\n",
       "      <td>1</td>\n",
       "      <td>3</td>\n",
       "      <td>3</td>\n",
       "      <td>2</td>\n",
       "      <td>L</td>\n",
       "      <td>(2,L)</td>\n",
       "    </tr>\n",
       "    <tr>\n",
       "      <th>3</th>\n",
       "      <td>1</td>\n",
       "      <td>1</td>\n",
       "      <td>4</td>\n",
       "      <td>4</td>\n",
       "      <td>2</td>\n",
       "      <td>S</td>\n",
       "      <td>(2,S)</td>\n",
       "    </tr>\n",
       "    <tr>\n",
       "      <th>4</th>\n",
       "      <td>1</td>\n",
       "      <td>1</td>\n",
       "      <td>5</td>\n",
       "      <td>5</td>\n",
       "      <td>3</td>\n",
       "      <td>L</td>\n",
       "      <td>(3,L)</td>\n",
       "    </tr>\n",
       "    <tr>\n",
       "      <th>...</th>\n",
       "      <td>...</td>\n",
       "      <td>...</td>\n",
       "      <td>...</td>\n",
       "      <td>...</td>\n",
       "      <td>...</td>\n",
       "      <td>...</td>\n",
       "      <td>...</td>\n",
       "    </tr>\n",
       "    <tr>\n",
       "      <th>59</th>\n",
       "      <td>1</td>\n",
       "      <td>8</td>\n",
       "      <td>4</td>\n",
       "      <td>60</td>\n",
       "      <td>2</td>\n",
       "      <td>S</td>\n",
       "      <td>(2,S)</td>\n",
       "    </tr>\n",
       "    <tr>\n",
       "      <th>60</th>\n",
       "      <td>1</td>\n",
       "      <td>8</td>\n",
       "      <td>5</td>\n",
       "      <td>61</td>\n",
       "      <td>3</td>\n",
       "      <td>L</td>\n",
       "      <td>(3,L)</td>\n",
       "    </tr>\n",
       "    <tr>\n",
       "      <th>61</th>\n",
       "      <td>1</td>\n",
       "      <td>8</td>\n",
       "      <td>6</td>\n",
       "      <td>62</td>\n",
       "      <td>3</td>\n",
       "      <td>S</td>\n",
       "      <td>(3,S)</td>\n",
       "    </tr>\n",
       "    <tr>\n",
       "      <th>62</th>\n",
       "      <td>1</td>\n",
       "      <td>8</td>\n",
       "      <td>7</td>\n",
       "      <td>63</td>\n",
       "      <td>4</td>\n",
       "      <td>L</td>\n",
       "      <td>(4,L)</td>\n",
       "    </tr>\n",
       "    <tr>\n",
       "      <th>63</th>\n",
       "      <td>1</td>\n",
       "      <td>8</td>\n",
       "      <td>8</td>\n",
       "      <td>64</td>\n",
       "      <td>4</td>\n",
       "      <td>S</td>\n",
       "      <td>(4,S)</td>\n",
       "    </tr>\n",
       "  </tbody>\n",
       "</table>\n",
       "<p>64 rows × 7 columns</p>\n",
       "</div>"
      ],
      "text/plain": [
       "    sn  run  cond  regIdx  seq cue    reg\n",
       "0    1    1     1       1    1   L  (1,L)\n",
       "1    1    1     2       2    1   S  (1,S)\n",
       "2    1    1     3       3    2   L  (2,L)\n",
       "3    1    1     4       4    2   S  (2,S)\n",
       "4    1    1     5       5    3   L  (3,L)\n",
       "..  ..  ...   ...     ...  ...  ..    ...\n",
       "59   1    8     4      60    2   S  (2,S)\n",
       "60   1    8     5      61    3   L  (3,L)\n",
       "61   1    8     6      62    3   S  (3,S)\n",
       "62   1    8     7      63    4   L  (4,L)\n",
       "63   1    8     8      64    4   S  (4,S)\n",
       "\n",
       "[64 rows x 7 columns]"
      ]
     },
     "execution_count": 15,
     "metadata": {},
     "output_type": "execute_result"
    }
   ],
   "source": [
    "reginfo = deal_spm.load_reginfo(subj=subj, dir_glm=dir_glm)\n",
    "reginfo"
   ]
  },
  {
   "cell_type": "markdown",
   "id": "85ba0061-cd1e-43ad-9fe2-9297b4957a64",
   "metadata": {},
   "source": [
    "---"
   ]
  },
  {
   "cell_type": "markdown",
   "id": "e53e4595-74c5-4a10-99d5-c20613991cc6",
   "metadata": {},
   "source": [
    "## Reliability Estimation\n",
    "\n",
    "As a measure of functional signal-to-noise ratio, we can calculate the reliability of activity patterns across runs. The measured activity pattern from subject $i$ in run $j$ ($y_{i,j}$) can be thought of consisting of the signal in subject $i$ ($s_i$) and measurement noise $\\epsilon_{i,j}$.\n",
    "$$\n",
    "y_{i,j}=s_{i}+\\epsilon_{i,j}\n",
    "$$\n",
    "\n",
    "For each subject, we can calculate the variances (or second moments) of these patterns across voxels and / or conditions:\n",
    "$$\n",
    "v_{s}=s_{i}^{T}s_{i}\n",
    "$$\n",
    "$$\n",
    "v_{\\epsilon}=E(\\epsilon^{T}\\epsilon)\n",
    "$$\n",
    "\n",
    "The correlation of the measured activity patterns across runs then is:\n",
    "$$\n",
    "r_{run}=\\frac{v_{s}}{v_{s}+v_{\\epsilon}}\n",
    "$$\n",
    "\n",
    "This reliability measure is the reliability of one measurement (run). The (theoretical) reliability of the mean activity pattern (across $N$ measurement runs) then would be:\n",
    "$$\n",
    "r_{whole}=\\frac{v_{s}}{v_{s}+v_{\\epsilon}/N}\n",
    "$$\n",
    "\n",
    "With a bit of algebra, you can calculate the theoretical reliability of the mean activity pattern from the reliability across runs:\n",
    "$$\n",
    "r_{whole}=\\frac{r_{run}N}{r_{run}(N-1)+1}\n",
    "$$\n",
    "\n",
    "cf)\n",
    "$$\n",
    "r_{whole}=\\frac{v_{s}}{v_{s}+v_{\\epsilon}/N}=\\frac{v_{s}N}{v_{s}N+v_{\\epsilon}}=\\frac{\\frac{v_{s}}{v_{s}+v_{\\epsilon}}N}{\\frac{v_{s}}{v_{s}+v_{\\epsilon}}N+\\frac{v_{\\epsilon}}{v_{s}+v_{\\epsilon}}}=\\frac{r_{run}N}{r_{run}N+1-r_{run}}\n",
    "$$\n",
    "\n",
    "This is the *Spearman-brown prediction formula*"
   ]
  },
  {
   "cell_type": "code",
   "execution_count": 18,
   "id": "d15abe16-9b77-4fea-910e-bb17fa854f06",
   "metadata": {},
   "outputs": [],
   "source": [
    "beta_whiten = np.ones((len(list_sn),len(reginfo),32492)) * np.nan\n",
    "# for ss in ['S','R']:\n",
    "for ss in ['S']:\n",
    "    for jj, nn in enumerate(list_sn):\n",
    "        subj = ss+nn\n",
    "        beta_whiten[jj] = simage.get_prewhitened_beta(subj=subj, glm=glm)"
   ]
  },
  {
   "cell_type": "code",
   "execution_count": 19,
   "id": "56c4185d-f9c8-4cfa-aa71-297d4fe188d6",
   "metadata": {},
   "outputs": [
    {
     "name": "stdout",
     "output_type": "stream",
     "text": [
      "[[0.24143811]\n",
      " [0.06011706]\n",
      " [0.11180517]\n",
      " [0.1230022 ]\n",
      " [0.05689732]\n",
      " [0.03279897]\n",
      " [0.06451726]\n",
      " [0.08217396]\n",
      " [0.0603014 ]\n",
      " [0.09735093]\n",
      " [0.1404986 ]\n",
      " [0.05289119]]\n"
     ]
    }
   ],
   "source": [
    "## We can quickly calculate the reltiability of the data within each subjects across different runs:\n",
    "rw = rel.within_subj(\n",
    "    data=beta_whiten,\n",
    "    cond_vec=reginfo.cond, part_vec=reginfo.run,\n",
    "    separate='none', subtract_mean=True\n",
    ")\n",
    "\n",
    "## rw will be a vector of reliability values for each subject, if multiple subjects are present.\n",
    "print(rw)"
   ]
  },
  {
   "cell_type": "code",
   "execution_count": 20,
   "id": "0576d0da-741c-4ee5-9ed5-253d7332dab0",
   "metadata": {},
   "outputs": [
    {
     "name": "stdout",
     "output_type": "stream",
     "text": [
      "[[0.00203588 0.01014126 0.03825874]\n",
      " [0.00084654 0.00340382 0.06645111]\n",
      " [0.00177362 0.00405473 0.04630122]\n",
      " [0.00210282 0.01245635 0.10380598]\n",
      " [0.00111666 0.00227373 0.05619741]\n",
      " [0.00146786 0.00106242 0.07461481]\n",
      " [0.0009566  0.00434719 0.07690351]\n",
      " [0.00099465 0.0062147  0.08052336]\n",
      " [0.00124469 0.00375728 0.07794759]\n",
      " [0.00142239 0.00358096 0.04639159]\n",
      " [0.00187059 0.00765127 0.05825006]\n",
      " [0.00132552 0.00327487 0.08237805]]\n"
     ]
    }
   ],
   "source": [
    "var = rel.decompose_subj_group(\n",
    "    data=beta_whiten,\n",
    "    cond_vec=reginfo.cond, part_vec=reginfo.run,\n",
    "    separate='subject_wise', subtract_mean=True\n",
    ")\n",
    "\n",
    "print(var)"
   ]
  },
  {
   "cell_type": "markdown",
   "id": "d26812cc-7e0e-44a6-aa53-6443c9eb2abd",
   "metadata": {},
   "source": [
    "---"
   ]
  },
  {
   "cell_type": "code",
   "execution_count": 32,
   "id": "c903a863-523d-48bc-be69-624742f699d9",
   "metadata": {},
   "outputs": [],
   "source": [
    "# %whos"
   ]
  }
 ],
 "metadata": {
  "kernelspec": {
   "display_name": "SSS",
   "language": "python",
   "name": "sss"
  },
  "language_info": {
   "codemirror_mode": {
    "name": "ipython",
    "version": 3
   },
   "file_extension": ".py",
   "mimetype": "text/x-python",
   "name": "python",
   "nbconvert_exporter": "python",
   "pygments_lexer": "ipython3",
   "version": "3.9.21"
  }
 },
 "nbformat": 4,
 "nbformat_minor": 5
}
