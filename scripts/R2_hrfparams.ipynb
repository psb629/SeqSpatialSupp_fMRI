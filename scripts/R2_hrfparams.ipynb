{
 "cells": [
  {
   "cell_type": "code",
   "execution_count": 1,
   "id": "8f1c2c03-097f-45a8-a1ef-8a52763e8daf",
   "metadata": {},
   "outputs": [],
   "source": [
    "import sys\n",
    "import platform\n",
    "from os.path import join, exists, abspath, dirname\n",
    "from os import getcwd, makedirs\n",
    "from glob import glob\n",
    "\n",
    "import numpy as np\n",
    "import pandas as pd\n",
    "import matplotlib.pyplot as plt\n",
    "from matplotlib import colormaps, cm, colors\n",
    "import scipy\n",
    "from sklearn.metrics import r2_score\n",
    "import seaborn as sns\n",
    "\n",
    "from tqdm import tqdm"
   ]
  },
  {
   "cell_type": "code",
   "execution_count": 2,
   "id": "ae9f5f62-689a-4276-a0cd-0c4f05a8f6f1",
   "metadata": {},
   "outputs": [],
   "source": [
    "import nibabel as nb\n",
    "from nilearn import plotting, image\n",
    "from nipype.interfaces import fsl"
   ]
  },
  {
   "cell_type": "code",
   "execution_count": 3,
   "id": "47742f37-bfce-44aa-b2ba-9a5c450f4fac",
   "metadata": {},
   "outputs": [
    {
     "data": {
      "text/plain": [
       "'/Users/sungbeenpark/github'"
      ]
     },
     "execution_count": 3,
     "metadata": {},
     "output_type": "execute_result"
    }
   ],
   "source": [
    "dir_current = getcwd().replace('\\\\','/')\n",
    "\n",
    "tmp = dir_current.split('/')\n",
    "idx = [ii for ii, s in enumerate(tmp) if s=='github'][0]\n",
    "\n",
    "dir_git = '/'.join(tmp[:idx+1])\n",
    "dir_git"
   ]
  },
  {
   "cell_type": "code",
   "execution_count": 4,
   "id": "495f3dda-caf5-4296-9182-1c9ea46cfefe",
   "metadata": {},
   "outputs": [],
   "source": [
    "dname = join(dir_git,'nitools')\n",
    "sys.path.append(dname)\n",
    "import nitools as nt"
   ]
  },
  {
   "cell_type": "code",
   "execution_count": 5,
   "id": "5385c6e4-1067-4715-954b-72c5b9252894",
   "metadata": {},
   "outputs": [],
   "source": [
    "dname = join(dir_git,'SUITPy')\n",
    "sys.path.append(dname)\n",
    "import SUITPy as suit"
   ]
  },
  {
   "cell_type": "code",
   "execution_count": 6,
   "id": "91a5a34d-398c-4fae-8034-819db87def7c",
   "metadata": {},
   "outputs": [],
   "source": [
    "dname = join(dir_git)\n",
    "sys.path.append(dname)\n",
    "import surfAnalysisPy as surf"
   ]
  },
  {
   "cell_type": "code",
   "execution_count": 7,
   "id": "6f8001ea-2c76-4a7a-bc3f-aec68128aeb0",
   "metadata": {},
   "outputs": [],
   "source": [
    "dname = join(dir_git,'SeqSpatialSupp_fMRI')\n",
    "sys.path.append(dname)\n",
    "from SSS import deal_spm\n",
    "from SSS import util as su\n",
    "from SSS import plot as splt\n",
    "from SSS import image as simage"
   ]
  },
  {
   "cell_type": "markdown",
   "id": "2e7a6a3e-ea3c-4629-892a-aa56f07c4e24",
   "metadata": {},
   "source": [
    "---"
   ]
  },
  {
   "cell_type": "code",
   "execution_count": 8,
   "id": "3f59981a-3e0b-4b8b-88a6-eee48ad33d68",
   "metadata": {},
   "outputs": [],
   "source": [
    "glm = 1\n",
    "dir_glm = su.get_dir_glm(glm)"
   ]
  },
  {
   "cell_type": "code",
   "execution_count": 9,
   "id": "4f10f7a6-ed9f-4116-81a3-232c535e20db",
   "metadata": {},
   "outputs": [
    {
     "data": {
      "text/plain": [
       "['S01',\n",
       " 'S02',\n",
       " 'S03',\n",
       " 'S05',\n",
       " 'S06',\n",
       " 'S08',\n",
       " 'S09',\n",
       " 'S10',\n",
       " 'S11',\n",
       " 'S12',\n",
       " 'S13',\n",
       " 'S14',\n",
       " 'R01',\n",
       " 'R02',\n",
       " 'R03',\n",
       " 'R05',\n",
       " 'R06',\n",
       " 'R08',\n",
       " 'R09',\n",
       " 'R10',\n",
       " 'R11',\n",
       " 'R12',\n",
       " 'R13',\n",
       " 'R14']"
      ]
     },
     "execution_count": 9,
     "metadata": {},
     "output_type": "execute_result"
    }
   ],
   "source": [
    "list_nn = su.get_list_sn()\n",
    "list_subj = []\n",
    "for sess in ['S','R']:\n",
    "    for nn in list_nn:\n",
    "        list_subj.append(sess+nn)\n",
    "list_subj"
   ]
  },
  {
   "cell_type": "markdown",
   "id": "dc693618-b89c-48c7-a33b-ad51c82d2759",
   "metadata": {},
   "source": [
    "---"
   ]
  },
  {
   "cell_type": "markdown",
   "id": "fb8d64f4-a1e7-49f7-82b1-7dbd42f6766f",
   "metadata": {},
   "source": [
    "### Calculate $R^{2}$ score"
   ]
  },
  {
   "cell_type": "code",
   "execution_count": 10,
   "id": "788120e2-b14b-4641-a15c-36bc3a860345",
   "metadata": {},
   "outputs": [],
   "source": [
    "# subj = 'S01'\n",
    "# glob(join(dir_glm,subj,'hrf_tune/*.beta.*.nii'))"
   ]
  },
  {
   "cell_type": "code",
   "execution_count": 11,
   "id": "2299d057-5a9f-4396-a147-4cde6a8aa5ad",
   "metadata": {},
   "outputs": [
    {
     "name": "stderr",
     "output_type": "stream",
     "text": [
      "100%|███████████████████████████████████████████████████████████████████████████████████████████████████████████████| 24/24 [3:20:26<00:00, 501.09s/it]\n"
     ]
    }
   ],
   "source": [
    "tmp = {'subj':[], 'sess':[], 'roi':[], 'param':[], 'r2':[]}\n",
    "for subj in tqdm(list_subj):\n",
    "    sess = subj[0]\n",
    "    nn = subj[1:]\n",
    "    fnames = sorted(glob(join(dir_glm,subj,'hrf_tune/*.y_hat.*.nii')))\n",
    "    for fname in fnames:\n",
    "        _, hemi, _, param, _, roi, _, _, _= fname.split('/')[-1].split('.')\n",
    "        df_tmp = simage.get_df_y(subj=subj, glm=glm, roi=roi, param=param, hemi=hemi)\n",
    "        r2 = r2_score(y_true=df_tmp.y_adj, y_pred=df_tmp.y_hat)\n",
    "        tmp['subj'].append(nn)\n",
    "        tmp['sess'].append(sess)\n",
    "        tmp['roi'].append(roi)\n",
    "        tmp['param'].append(str(param).replace(' ',''))\n",
    "        tmp['r2'].append(r2)\n",
    "df = pd.DataFrame(tmp)\n",
    "del tmp"
   ]
  },
  {
   "cell_type": "code",
   "execution_count": 12,
   "id": "7a86e5a3-1acf-4ae1-b57f-d93441d992e8",
   "metadata": {},
   "outputs": [],
   "source": [
    "df.to_csv(\n",
    "    join(dir_glm,'r2_score.tsv'),\n",
    "    sep='\\t', index=False\n",
    ")"
   ]
  },
  {
   "cell_type": "markdown",
   "id": "73aa7129-ed78-4d93-9503-9d4d2e386f9f",
   "metadata": {},
   "source": [
    "---"
   ]
  },
  {
   "cell_type": "markdown",
   "id": "3e81602b-eae7-44eb-8407-7e2e1e52cc8b",
   "metadata": {},
   "source": [
    "### Load $R^{2}$ score"
   ]
  },
  {
   "cell_type": "code",
   "execution_count": null,
   "id": "f6becca0-724b-4f1b-8b27-f657701cf89b",
   "metadata": {},
   "outputs": [],
   "source": [
    "df = pd.read_csv(\n",
    "    join(dir_glm,'r2_score.tsv'),\n",
    "    sep='\\t', header=0\n",
    ")\n",
    "df"
   ]
  },
  {
   "cell_type": "code",
   "execution_count": 14,
   "id": "dc5521f4-1d12-437d-8b45-aa76ebdd2ea2",
   "metadata": {},
   "outputs": [
    {
     "data": {
      "text/plain": [
       "<matplotlib.legend.Legend at 0x130825af0>"
      ]
     },
     "execution_count": 14,
     "metadata": {},
     "output_type": "execute_result"
    },
    {
     "data": {
      "image/png": "[encoded data removed]",
      "text/plain": [
       "<Figure size 640x480 with 1 Axes>"
      ]
     },
     "metadata": {},
     "output_type": "display_data"
    }
   ],
   "source": [
    "g = sns.pointplot(\n",
    "    data=df,\n",
    "    x='roi', y='r2', hue='param',\n",
    "    capsize=0.15, dodge=True, errorbar='se',\n",
    "    linestyles='-', \n",
    ")\n",
    "g.grid(axis='both')\n",
    "g.set_ylabel(r'$R^{2}$', fontsize=15, rotation=0, labelpad=15)\n",
    "g.set_xlabel('ROI', fontsize=15)\n",
    "g.legend(loc='best')"
   ]
  },
  {
   "cell_type": "code",
   "execution_count": 40,
   "id": "2b2a7bcd-cd87-4350-b6e9-18601fa78329",
   "metadata": {},
   "outputs": [],
   "source": [
    "# df_max = df[df.r2==df.groupby(['subj','sess','roi'])['r2'].transform('max')]\n",
    "# df_max.sort_values(by=['subj','sess','roi'], ascending=[True,False,True])"
   ]
  },
  {
   "cell_type": "code",
   "execution_count": 44,
   "id": "63145a6b-7618-4b9c-a517-f9aba31d4c89",
   "metadata": {},
   "outputs": [
    {
     "data": {
      "text/html": [
       "<div>\n",
       "<style scoped>\n",
       "    .dataframe tbody tr th:only-of-type {\n",
       "        vertical-align: middle;\n",
       "    }\n",
       "\n",
       "    .dataframe tbody tr th {\n",
       "        vertical-align: top;\n",
       "    }\n",
       "\n",
       "    .dataframe thead th {\n",
       "        text-align: right;\n",
       "    }\n",
       "</style>\n",
       "<table border=\"1\" class=\"dataframe\">\n",
       "  <thead>\n",
       "    <tr style=\"text-align: right;\">\n",
       "      <th></th>\n",
       "      <th>subj</th>\n",
       "      <th>roi</th>\n",
       "      <th>param</th>\n",
       "      <th>r2</th>\n",
       "    </tr>\n",
       "  </thead>\n",
       "  <tbody>\n",
       "    <tr>\n",
       "      <th>0</th>\n",
       "      <td>1</td>\n",
       "      <td>M1</td>\n",
       "      <td>[4,14]</td>\n",
       "      <td>0.303799</td>\n",
       "    </tr>\n",
       "    <tr>\n",
       "      <th>7</th>\n",
       "      <td>1</td>\n",
       "      <td>PMd</td>\n",
       "      <td>[5,15]</td>\n",
       "      <td>0.227037</td>\n",
       "    </tr>\n",
       "    <tr>\n",
       "      <th>13</th>\n",
       "      <td>1</td>\n",
       "      <td>PMv</td>\n",
       "      <td>[5,15]</td>\n",
       "      <td>0.201462</td>\n",
       "    </tr>\n",
       "    <tr>\n",
       "      <th>19</th>\n",
       "      <td>1</td>\n",
       "      <td>S1</td>\n",
       "      <td>[5,15]</td>\n",
       "      <td>0.252490</td>\n",
       "    </tr>\n",
       "    <tr>\n",
       "      <th>25</th>\n",
       "      <td>1</td>\n",
       "      <td>SMA</td>\n",
       "      <td>[5,15]</td>\n",
       "      <td>0.139793</td>\n",
       "    </tr>\n",
       "    <tr>\n",
       "      <th>...</th>\n",
       "      <td>...</td>\n",
       "      <td>...</td>\n",
       "      <td>...</td>\n",
       "      <td>...</td>\n",
       "    </tr>\n",
       "    <tr>\n",
       "      <th>546</th>\n",
       "      <td>14</td>\n",
       "      <td>S1</td>\n",
       "      <td>[4,14]</td>\n",
       "      <td>0.289173</td>\n",
       "    </tr>\n",
       "    <tr>\n",
       "      <th>552</th>\n",
       "      <td>14</td>\n",
       "      <td>SMA</td>\n",
       "      <td>[4,14]</td>\n",
       "      <td>0.143694</td>\n",
       "    </tr>\n",
       "    <tr>\n",
       "      <th>559</th>\n",
       "      <td>14</td>\n",
       "      <td>SPLa</td>\n",
       "      <td>[5,15]</td>\n",
       "      <td>0.208415</td>\n",
       "    </tr>\n",
       "    <tr>\n",
       "      <th>565</th>\n",
       "      <td>14</td>\n",
       "      <td>SPLp</td>\n",
       "      <td>[5,15]</td>\n",
       "      <td>0.163065</td>\n",
       "    </tr>\n",
       "    <tr>\n",
       "      <th>571</th>\n",
       "      <td>14</td>\n",
       "      <td>V1</td>\n",
       "      <td>[5,15]</td>\n",
       "      <td>0.082771</td>\n",
       "    </tr>\n",
       "  </tbody>\n",
       "</table>\n",
       "<p>96 rows × 4 columns</p>\n",
       "</div>"
      ],
      "text/plain": [
       "     subj   roi   param        r2\n",
       "0       1    M1  [4,14]  0.303799\n",
       "7       1   PMd  [5,15]  0.227037\n",
       "13      1   PMv  [5,15]  0.201462\n",
       "19      1    S1  [5,15]  0.252490\n",
       "25      1   SMA  [5,15]  0.139793\n",
       "..    ...   ...     ...       ...\n",
       "546    14    S1  [4,14]  0.289173\n",
       "552    14   SMA  [4,14]  0.143694\n",
       "559    14  SPLa  [5,15]  0.208415\n",
       "565    14  SPLp  [5,15]  0.163065\n",
       "571    14    V1  [5,15]  0.082771\n",
       "\n",
       "[96 rows x 4 columns]"
      ]
     },
     "execution_count": 44,
     "metadata": {},
     "output_type": "execute_result"
    }
   ],
   "source": [
    "df_tmp = df.groupby(['subj','roi','param'], as_index=False).mean(['r2'])\n",
    "df_max = df_tmp[df_tmp.r2==df_tmp.groupby(['subj','roi'])['r2'].transform('max')]\n",
    "df_max.sort_values(by=['subj','roi'], ascending=[True,True])"
   ]
  },
  {
   "cell_type": "markdown",
   "id": "b6a26786-b33a-44da-81c4-ca98a200b8a2",
   "metadata": {},
   "source": [
    "---"
   ]
  },
  {
   "cell_type": "code",
   "execution_count": null,
   "id": "a3566689-31e5-4d1a-a98e-3c9cc1cb80ba",
   "metadata": {},
   "outputs": [],
   "source": []
  }
 ],
 "metadata": {
  "kernelspec": {
   "display_name": "SSS",
   "language": "python",
   "name": "sss"
  },
  "language_info": {
   "codemirror_mode": {
    "name": "ipython",
    "version": 3
   },
   "file_extension": ".py",
   "mimetype": "text/x-python",
   "name": "python",
   "nbconvert_exporter": "python",
   "pygments_lexer": "ipython3",
   "version": "3.9.21"
  }
 },
 "nbformat": 4,
 "nbformat_minor": 5
}
