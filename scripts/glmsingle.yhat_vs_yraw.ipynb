{
 "cells": [
  {
   "cell_type": "code",
   "execution_count": 1,
   "id": "8f1c2c03-097f-45a8-a1ef-8a52763e8daf",
   "metadata": {},
   "outputs": [],
   "source": [
    "import sys\n",
    "import platform\n",
    "from os.path import join, exists, abspath, dirname\n",
    "from os import getcwd, makedirs\n",
    "from glob import glob\n",
    "\n",
    "import numpy as np\n",
    "import pandas as pd\n",
    "import matplotlib.pyplot as plt\n",
    "from matplotlib import colormaps, cm, colors\n",
    "import scipy\n",
    "from scipy.stats import ttest_1samp, pearsonr\n",
    "from scipy.io import loadmat\n",
    "from sklearn.metrics import r2_score\n",
    "import seaborn as sns\n",
    "import h5py\n",
    "\n",
    "from tqdm import tqdm"
   ]
  },
  {
   "cell_type": "code",
   "execution_count": 2,
   "id": "ae9f5f62-689a-4276-a0cd-0c4f05a8f6f1",
   "metadata": {},
   "outputs": [],
   "source": [
    "import nibabel as nb\n",
    "from nilearn import plotting, image\n",
    "from nipype.interfaces import fsl"
   ]
  },
  {
   "cell_type": "code",
   "execution_count": 3,
   "id": "47742f37-bfce-44aa-b2ba-9a5c450f4fac",
   "metadata": {},
   "outputs": [
    {
     "data": {
      "text/plain": [
       "'/Users/sungbeenpark/github'"
      ]
     },
     "execution_count": 3,
     "metadata": {},
     "output_type": "execute_result"
    }
   ],
   "source": [
    "dir_current = getcwd().replace('\\\\','/')\n",
    "\n",
    "tmp = dir_current.split('/')\n",
    "idx = [ii for ii, s in enumerate(tmp) if s=='github'][0]\n",
    "\n",
    "dir_git = '/'.join(tmp[:idx+1])\n",
    "dir_git"
   ]
  },
  {
   "cell_type": "code",
   "execution_count": 4,
   "id": "495f3dda-caf5-4296-9182-1c9ea46cfefe",
   "metadata": {},
   "outputs": [],
   "source": [
    "dname = join(dir_git,'nitools')\n",
    "sys.path.append(dname)\n",
    "import nitools as nt"
   ]
  },
  {
   "cell_type": "code",
   "execution_count": 5,
   "id": "5385c6e4-1067-4715-954b-72c5b9252894",
   "metadata": {},
   "outputs": [],
   "source": [
    "dname = join(dir_git,'SUITPy')\n",
    "sys.path.append(dname)\n",
    "import SUITPy as suit"
   ]
  },
  {
   "cell_type": "code",
   "execution_count": 6,
   "id": "91a5a34d-398c-4fae-8034-819db87def7c",
   "metadata": {},
   "outputs": [],
   "source": [
    "dname = join(dir_git)\n",
    "sys.path.append(dname)\n",
    "import surfAnalysisPy as surf"
   ]
  },
  {
   "cell_type": "code",
   "execution_count": 7,
   "id": "f4e8e268-fa6a-49ff-afc2-3528d00d210a",
   "metadata": {},
   "outputs": [],
   "source": [
    "dname = join(dir_git,'Functional_Fusion')\n",
    "sys.path.append(dname)\n",
    "import Functional_Fusion.atlas_map as am\n",
    "import Functional_Fusion.reliability as rel"
   ]
  },
  {
   "cell_type": "code",
   "execution_count": 8,
   "id": "da2d91d3-c57e-41be-b171-c946442e9747",
   "metadata": {},
   "outputs": [],
   "source": [
    "dname = join(dir_git,'fracridge')\n",
    "sys.path.append(dname)\n",
    "from fracridge import fracridge"
   ]
  },
  {
   "cell_type": "code",
   "execution_count": 9,
   "id": "15b82932-dded-4d27-a8b8-c5fdfb081aca",
   "metadata": {},
   "outputs": [],
   "source": [
    "dname = join(dir_git,'GLMsingle')\n",
    "sys.path.append(dname)\n",
    "import glmsingle\n",
    "from glmsingle.glmsingle import getcanonicalhrflibrary\n",
    "from glmsingle.utils.squish import squish"
   ]
  },
  {
   "cell_type": "code",
   "execution_count": 10,
   "id": "6f8001ea-2c76-4a7a-bc3f-aec68128aeb0",
   "metadata": {},
   "outputs": [],
   "source": [
    "dname = join(dir_git,'SeqSpatialSupp_fMRI')\n",
    "sys.path.append(dname)\n",
    "from SSS import deal_spm\n",
    "from SSS import util as su\n",
    "from SSS import plot as splt\n",
    "from SSS import image as simage\n",
    "from SSS import glmsingle as ssingle"
   ]
  },
  {
   "cell_type": "markdown",
   "id": "da4f54ad-370e-4370-9fed-d88f76dc89c8",
   "metadata": {},
   "source": [
    "---"
   ]
  },
  {
   "cell_type": "code",
   "execution_count": 11,
   "id": "763d9f5a-937a-458a-991c-df9f5377e9cf",
   "metadata": {},
   "outputs": [
    {
     "data": {
      "text/plain": [
       "['r01', 'r02', 'r03', 'r04', 'r05', 'r06', 'r07', 'r08']"
      ]
     },
     "execution_count": 11,
     "metadata": {},
     "output_type": "execute_result"
    }
   ],
   "source": [
    "list_run = su.get_list_run()\n",
    "list_run"
   ]
  },
  {
   "cell_type": "code",
   "execution_count": 12,
   "id": "dedc425b-b2d0-4545-8949-a66f210146fb",
   "metadata": {},
   "outputs": [
    {
     "data": {
      "text/plain": [
       "array(['S1', 'M1', 'PMd', 'PMv', 'SMA', 'V1', 'SPLa', 'SPLp'], dtype='<U4')"
      ]
     },
     "execution_count": 12,
     "metadata": {},
     "output_type": "execute_result"
    }
   ],
   "source": [
    "hem = 'L'\n",
    "list_roi = simage.get_list_roi()\n",
    "list_roi"
   ]
  },
  {
   "cell_type": "markdown",
   "id": "10477dd1-2bab-4dc0-92e6-2073fe3b373e",
   "metadata": {},
   "source": [
    "---"
   ]
  },
  {
   "cell_type": "code",
   "execution_count": 13,
   "id": "96900ab2-91a0-4c6e-ab47-add1338a5a3f",
   "metadata": {},
   "outputs": [
    {
     "data": {
      "text/plain": [
       "'/Volumes/Diedrichsen_data$/data/SeqSpatialSupp_fMRI/GLMsingle/glm_1'"
      ]
     },
     "execution_count": 13,
     "metadata": {},
     "output_type": "execute_result"
    }
   ],
   "source": [
    "glm = 1\n",
    "dir_glm = ssingle.get_dir_glmsingle(glm)\n",
    "dir_glm"
   ]
  },
  {
   "cell_type": "markdown",
   "id": "1abd9a4e-8027-47a0-9f16-a9647eb2afbd",
   "metadata": {},
   "source": [
    "---"
   ]
  },
  {
   "cell_type": "code",
   "execution_count": 14,
   "id": "9e3f2775-83e8-49c9-a3e7-855175c82582",
   "metadata": {},
   "outputs": [],
   "source": [
    "dir_roi = join(dir_glm,'ROI')"
   ]
  },
  {
   "cell_type": "code",
   "execution_count": 15,
   "id": "6ff30116-ce89-4166-8b84-5115cc5a11d2",
   "metadata": {},
   "outputs": [],
   "source": [
    "list_map = ['R2','HRF','BETA']\n",
    "list_dtype = ['dscalar','dscalar','dtseries']"
   ]
  },
  {
   "cell_type": "code",
   "execution_count": 16,
   "id": "b6631f9e-85af-44fa-8dee-7763ac0a5f00",
   "metadata": {},
   "outputs": [],
   "source": [
    "roi = 'S1'"
   ]
  },
  {
   "cell_type": "code",
   "execution_count": 17,
   "id": "3295b59a-6cb2-4fa4-8319-40f096bec1fa",
   "metadata": {},
   "outputs": [],
   "source": [
    "subj = 'S01'"
   ]
  },
  {
   "cell_type": "code",
   "execution_count": 18,
   "id": "ce84aad4-d11d-4069-9475-d3fdfa7341ef",
   "metadata": {},
   "outputs": [
    {
     "data": {
      "text/plain": [
       "{'R2': <nibabel.cifti2.cifti2.Cifti2Image at 0x12f174e80>,\n",
       " 'HRF': <nibabel.cifti2.cifti2.Cifti2Image at 0x12f1ad160>,\n",
       " 'BETA': <nibabel.cifti2.cifti2.Cifti2Image at 0x12f1e2c10>}"
      ]
     },
     "execution_count": 18,
     "metadata": {},
     "output_type": "execute_result"
    }
   ],
   "source": [
    "cii = {}\n",
    "for m, d in zip(list_map, list_dtype):\n",
    "    fname = join(dir_roi,'cifti.%s.%s.%s.%s.%s.nii'%(hem,subj,roi,m,d))\n",
    "    cii[m] = nb.load(fname)\n",
    "cii"
   ]
  },
  {
   "cell_type": "code",
   "execution_count": 20,
   "id": "18022cf7-bec3-4874-8641-94e65db25741",
   "metadata": {},
   "outputs": [
    {
     "data": {
      "text/plain": [
       "(544, 1114)"
      ]
     },
     "execution_count": 20,
     "metadata": {},
     "output_type": "execute_result"
    }
   ],
   "source": [
    "cii['BETA'].get_fdata().shape"
   ]
  },
  {
   "cell_type": "code",
   "execution_count": null,
   "id": "18f1ebcf-85ec-4dcf-bf4c-1423867630d5",
   "metadata": {},
   "outputs": [],
   "source": []
  }
 ],
 "metadata": {
  "kernelspec": {
   "display_name": "SSS",
   "language": "python",
   "name": "sss"
  },
  "language_info": {
   "codemirror_mode": {
    "name": "ipython",
    "version": 3
   },
   "file_extension": ".py",
   "mimetype": "text/x-python",
   "name": "python",
   "nbconvert_exporter": "python",
   "pygments_lexer": "ipython3",
   "version": "3.9.21"
  }
 },
 "nbformat": 4,
 "nbformat_minor": 5
}
