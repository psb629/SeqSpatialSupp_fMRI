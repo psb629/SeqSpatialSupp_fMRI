{
 "cells": [
  {
   "cell_type": "code",
   "execution_count": 1,
   "id": "8f1c2c03-097f-45a8-a1ef-8a52763e8daf",
   "metadata": {},
   "outputs": [],
   "source": [
    "import sys\n",
    "import platform\n",
    "from os.path import join, exists, abspath, dirname\n",
    "from os import getcwd, makedirs\n",
    "from glob import glob\n",
    "\n",
    "import numpy as np\n",
    "import pandas as pd\n",
    "import matplotlib.pyplot as plt\n",
    "from matplotlib import colormaps, cm, colors\n",
    "import scipy\n",
    "from scipy.stats import ttest_1samp, pearsonr\n",
    "from scipy.io import loadmat\n",
    "from sklearn.metrics import r2_score\n",
    "import seaborn as sns\n",
    "import h5py\n",
    "\n",
    "from tqdm import tqdm"
   ]
  },
  {
   "cell_type": "code",
   "execution_count": 2,
   "id": "ae9f5f62-689a-4276-a0cd-0c4f05a8f6f1",
   "metadata": {},
   "outputs": [],
   "source": [
    "import nibabel as nb\n",
    "from nilearn import plotting, image\n",
    "from nipype.interfaces import fsl"
   ]
  },
  {
   "cell_type": "code",
   "execution_count": 3,
   "id": "47742f37-bfce-44aa-b2ba-9a5c450f4fac",
   "metadata": {},
   "outputs": [
    {
     "data": {
      "text/plain": [
       "'/home/sungbeenpark/github'"
      ]
     },
     "execution_count": 3,
     "metadata": {},
     "output_type": "execute_result"
    }
   ],
   "source": [
    "dir_current = getcwd().replace('\\\\','/')\n",
    "\n",
    "tmp = dir_current.split('/')\n",
    "idx = [ii for ii, s in enumerate(tmp) if s=='github'][0]\n",
    "\n",
    "dir_git = '/'.join(tmp[:idx+1])\n",
    "dir_git"
   ]
  },
  {
   "cell_type": "code",
   "execution_count": 4,
   "id": "495f3dda-caf5-4296-9182-1c9ea46cfefe",
   "metadata": {},
   "outputs": [],
   "source": [
    "dname = join(dir_git,'nitools')\n",
    "sys.path.append(dname)\n",
    "import nitools as nt"
   ]
  },
  {
   "cell_type": "code",
   "execution_count": 5,
   "id": "5385c6e4-1067-4715-954b-72c5b9252894",
   "metadata": {},
   "outputs": [],
   "source": [
    "dname = join(dir_git,'SUITPy')\n",
    "sys.path.append(dname)\n",
    "import SUITPy as suit"
   ]
  },
  {
   "cell_type": "code",
   "execution_count": 6,
   "id": "91a5a34d-398c-4fae-8034-819db87def7c",
   "metadata": {},
   "outputs": [],
   "source": [
    "dname = join(dir_git)\n",
    "sys.path.append(dname)\n",
    "import surfAnalysisPy as surf"
   ]
  },
  {
   "cell_type": "code",
   "execution_count": 7,
   "id": "f4e8e268-fa6a-49ff-afc2-3528d00d210a",
   "metadata": {},
   "outputs": [],
   "source": [
    "dname = join(dir_git,'Functional_Fusion')\n",
    "sys.path.append(dname)\n",
    "import Functional_Fusion.atlas_map as am\n",
    "import Functional_Fusion.reliability as rel"
   ]
  },
  {
   "cell_type": "code",
   "execution_count": 8,
   "id": "da2d91d3-c57e-41be-b171-c946442e9747",
   "metadata": {},
   "outputs": [],
   "source": [
    "dname = join(dir_git,'fracridge')\n",
    "sys.path.append(dname)\n",
    "from fracridge import fracridge"
   ]
  },
  {
   "cell_type": "code",
   "execution_count": 9,
   "id": "15b82932-dded-4d27-a8b8-c5fdfb081aca",
   "metadata": {},
   "outputs": [],
   "source": [
    "dname = join(dir_git,'GLMsingle')\n",
    "sys.path.append(dname)\n",
    "import glmsingle\n",
    "from glmsingle.glmsingle import getcanonicalhrflibrary\n",
    "from glmsingle.utils.squish import squish"
   ]
  },
  {
   "cell_type": "code",
   "execution_count": 10,
   "id": "6f8001ea-2c76-4a7a-bc3f-aec68128aeb0",
   "metadata": {},
   "outputs": [],
   "source": [
    "dname = join(dir_git,'SeqSpatialSupp_fMRI')\n",
    "sys.path.append(dname)\n",
    "from SSS import deal_spm\n",
    "from SSS import util as su\n",
    "from SSS import plot as splt\n",
    "from SSS import image as simage\n",
    "from SSS import glmsingle as ssingle"
   ]
  },
  {
   "cell_type": "markdown",
   "id": "da4f54ad-370e-4370-9fed-d88f76dc89c8",
   "metadata": {},
   "source": [
    "---"
   ]
  },
  {
   "cell_type": "code",
   "execution_count": 11,
   "id": "763d9f5a-937a-458a-991c-df9f5377e9cf",
   "metadata": {},
   "outputs": [
    {
     "data": {
      "text/plain": [
       "['r01', 'r02', 'r03', 'r04', 'r05', 'r06', 'r07', 'r08']"
      ]
     },
     "execution_count": 11,
     "metadata": {},
     "output_type": "execute_result"
    }
   ],
   "source": [
    "list_run = su.get_list_run()\n",
    "list_run"
   ]
  },
  {
   "cell_type": "code",
   "execution_count": 12,
   "id": "dedc425b-b2d0-4545-8949-a66f210146fb",
   "metadata": {},
   "outputs": [
    {
     "data": {
      "text/plain": [
       "array(['S1', 'M1', 'PMd', 'PMv', 'SMA', 'V1', 'SPLa', 'SPLp'], dtype='<U4')"
      ]
     },
     "execution_count": 12,
     "metadata": {},
     "output_type": "execute_result"
    }
   ],
   "source": [
    "hem = 'L'\n",
    "list_roi = simage.get_list_roi()\n",
    "list_roi"
   ]
  },
  {
   "cell_type": "markdown",
   "id": "10477dd1-2bab-4dc0-92e6-2073fe3b373e",
   "metadata": {},
   "source": [
    "---"
   ]
  },
  {
   "cell_type": "code",
   "execution_count": 13,
   "id": "96900ab2-91a0-4c6e-ab47-add1338a5a3f",
   "metadata": {},
   "outputs": [
    {
     "data": {
      "text/plain": [
       "'/mnt/f/SeqSpatialSupp_fMRI/GLMsingle/glm_1'"
      ]
     },
     "execution_count": 13,
     "metadata": {},
     "output_type": "execute_result"
    }
   ],
   "source": [
    "glm = 1\n",
    "dir_glm = ssingle.get_dir_glmsingle(glm)\n",
    "dir_glm"
   ]
  },
  {
   "cell_type": "code",
   "execution_count": 14,
   "id": "85dfa9ec-29ce-4e65-8d3e-fce29a9c2b40",
   "metadata": {},
   "outputs": [],
   "source": [
    "dir_roi = join(dir_glm,'ROI')"
   ]
  },
  {
   "cell_type": "markdown",
   "id": "1abd9a4e-8027-47a0-9f16-a9647eb2afbd",
   "metadata": {},
   "source": [
    "---"
   ]
  },
  {
   "cell_type": "markdown",
   "id": "b19096d9-a593-4516-98bc-fdaecd16817d",
   "metadata": {},
   "source": [
    "### HRF library"
   ]
  },
  {
   "cell_type": "code",
   "execution_count": 15,
   "id": "16e38005-6297-44a2-8f16-b0a75ed298f7",
   "metadata": {},
   "outputs": [],
   "source": [
    "stimdur = 2\n",
    "tr = 1"
   ]
  },
  {
   "cell_type": "code",
   "execution_count": 16,
   "id": "f4207ef0-8bdf-4887-b247-1fe0a6df4643",
   "metadata": {},
   "outputs": [
    {
     "name": "stdout",
     "output_type": "stream",
     "text": [
      "(20, 52)\n"
     ]
    },
    {
     "data": {
      "text/plain": [
       "<Axes: >"
      ]
     },
     "execution_count": 16,
     "metadata": {},
     "output_type": "execute_result"
    },
    {
     "data": {
      "image/png": "[encoded data removed]",
      "text/plain": [
       "<Figure size 640x480 with 1 Axes>"
      ]
     },
     "metadata": {},
     "output_type": "display_data"
    }
   ],
   "source": [
    "hrflib = getcanonicalhrflibrary(stimdur,tr)\n",
    "print(hrflib.shape)\n",
    "sns.lineplot(hrflib.T)"
   ]
  },
  {
   "cell_type": "markdown",
   "id": "bfe90b32-f6a6-430d-945d-39b7ed1ff1a8",
   "metadata": {},
   "source": [
    "---"
   ]
  },
  {
   "cell_type": "code",
   "execution_count": 17,
   "id": "3295b59a-6cb2-4fa4-8319-40f096bec1fa",
   "metadata": {},
   "outputs": [],
   "source": [
    "subj = 'S01'"
   ]
  },
  {
   "cell_type": "code",
   "execution_count": 18,
   "id": "b6631f9e-85af-44fa-8dee-7763ac0a5f00",
   "metadata": {},
   "outputs": [],
   "source": [
    "roi = 'S1'"
   ]
  },
  {
   "cell_type": "markdown",
   "id": "f5fdcf29-9573-4194-a8b3-eca0e9ae79e0",
   "metadata": {},
   "source": [
    "### $y_{raw}$ : $(T \\times P)$"
   ]
  },
  {
   "cell_type": "code",
   "execution_count": 19,
   "id": "edca8f90-e7e6-4bc4-820f-bc62258c9bb1",
   "metadata": {},
   "outputs": [
    {
     "data": {
      "text/plain": [
       "(3256, 1114)"
      ]
     },
     "execution_count": 19,
     "metadata": {},
     "output_type": "execute_result"
    }
   ],
   "source": [
    "y_raw = simage.load_yraw(subj=subj, roi=roi, hemi=hem)\n",
    "y_raw = simage.trim_ydata(ydata=y_raw, subj=subj, glm=glm, as_nii=False)\n",
    "y_raw.shape"
   ]
  },
  {
   "cell_type": "code",
   "execution_count": 20,
   "id": "adaffdce-30f1-43a3-b016-61fe9dfcb5ab",
   "metadata": {},
   "outputs": [
    {
     "data": {
      "text/html": [
       "<div>\n",
       "<style scoped>\n",
       "    .dataframe tbody tr th:only-of-type {\n",
       "        vertical-align: middle;\n",
       "    }\n",
       "\n",
       "    .dataframe tbody tr th {\n",
       "        vertical-align: top;\n",
       "    }\n",
       "\n",
       "    .dataframe thead th {\n",
       "        text-align: right;\n",
       "    }\n",
       "</style>\n",
       "<table border=\"1\" class=\"dataframe\">\n",
       "  <thead>\n",
       "    <tr style=\"text-align: right;\">\n",
       "      <th></th>\n",
       "      <th>index</th>\n",
       "      <th>voxel</th>\n",
       "      <th>value</th>\n",
       "      <th>hue</th>\n",
       "    </tr>\n",
       "  </thead>\n",
       "  <tbody>\n",
       "    <tr>\n",
       "      <th>0</th>\n",
       "      <td>0</td>\n",
       "      <td>0</td>\n",
       "      <td>104.670990</td>\n",
       "      <td>y_raw</td>\n",
       "    </tr>\n",
       "    <tr>\n",
       "      <th>1</th>\n",
       "      <td>1</td>\n",
       "      <td>0</td>\n",
       "      <td>113.757904</td>\n",
       "      <td>y_raw</td>\n",
       "    </tr>\n",
       "    <tr>\n",
       "      <th>2</th>\n",
       "      <td>2</td>\n",
       "      <td>0</td>\n",
       "      <td>113.929352</td>\n",
       "      <td>y_raw</td>\n",
       "    </tr>\n",
       "    <tr>\n",
       "      <th>3</th>\n",
       "      <td>3</td>\n",
       "      <td>0</td>\n",
       "      <td>110.971825</td>\n",
       "      <td>y_raw</td>\n",
       "    </tr>\n",
       "    <tr>\n",
       "      <th>4</th>\n",
       "      <td>4</td>\n",
       "      <td>0</td>\n",
       "      <td>105.956871</td>\n",
       "      <td>y_raw</td>\n",
       "    </tr>\n",
       "    <tr>\n",
       "      <th>...</th>\n",
       "      <td>...</td>\n",
       "      <td>...</td>\n",
       "      <td>...</td>\n",
       "      <td>...</td>\n",
       "    </tr>\n",
       "    <tr>\n",
       "      <th>3627179</th>\n",
       "      <td>3251</td>\n",
       "      <td>1113</td>\n",
       "      <td>231.314117</td>\n",
       "      <td>y_raw</td>\n",
       "    </tr>\n",
       "    <tr>\n",
       "      <th>3627180</th>\n",
       "      <td>3252</td>\n",
       "      <td>1113</td>\n",
       "      <td>236.747208</td>\n",
       "      <td>y_raw</td>\n",
       "    </tr>\n",
       "    <tr>\n",
       "      <th>3627181</th>\n",
       "      <td>3253</td>\n",
       "      <td>1113</td>\n",
       "      <td>232.672394</td>\n",
       "      <td>y_raw</td>\n",
       "    </tr>\n",
       "    <tr>\n",
       "      <th>3627182</th>\n",
       "      <td>3254</td>\n",
       "      <td>1113</td>\n",
       "      <td>229.774734</td>\n",
       "      <td>y_raw</td>\n",
       "    </tr>\n",
       "    <tr>\n",
       "      <th>3627183</th>\n",
       "      <td>3255</td>\n",
       "      <td>1113</td>\n",
       "      <td>241.274796</td>\n",
       "      <td>y_raw</td>\n",
       "    </tr>\n",
       "  </tbody>\n",
       "</table>\n",
       "<p>3627184 rows × 4 columns</p>\n",
       "</div>"
      ],
      "text/plain": [
       "         index voxel       value    hue\n",
       "0            0     0  104.670990  y_raw\n",
       "1            1     0  113.757904  y_raw\n",
       "2            2     0  113.929352  y_raw\n",
       "3            3     0  110.971825  y_raw\n",
       "4            4     0  105.956871  y_raw\n",
       "...        ...   ...         ...    ...\n",
       "3627179   3251  1113  231.314117  y_raw\n",
       "3627180   3252  1113  236.747208  y_raw\n",
       "3627181   3253  1113  232.672394  y_raw\n",
       "3627182   3254  1113  229.774734  y_raw\n",
       "3627183   3255  1113  241.274796  y_raw\n",
       "\n",
       "[3627184 rows x 4 columns]"
      ]
     },
     "execution_count": 20,
     "metadata": {},
     "output_type": "execute_result"
    }
   ],
   "source": [
    "df_a = pd.melt(\n",
    "    frame=pd.DataFrame(y_raw).reset_index(),\n",
    "    id_vars='index',\n",
    "    value_vars=np.arange(y_raw.shape[-1]), value_name='value',\n",
    "    var_name='voxel',\n",
    "    ignore_index=True\n",
    ")\n",
    "df_a['hue'] = 'y_raw'\n",
    "df_a"
   ]
  },
  {
   "cell_type": "markdown",
   "id": "209528b7-8805-4a0c-bf68-d1c5b26fd6d4",
   "metadata": {},
   "source": [
    "---"
   ]
  },
  {
   "cell_type": "markdown",
   "id": "55243ebc-4816-4604-b724-f688a384bd14",
   "metadata": {},
   "source": [
    "### GLMsingle\n",
    "\n",
    "$HRF$: $(P \\times 1)$  \n",
    "$R^{2}$: $(P \\times 1)$  \n",
    "$\\beta$: $(K \\times P)$"
   ]
  },
  {
   "cell_type": "code",
   "execution_count": 24,
   "id": "6ff30116-ce89-4166-8b84-5115cc5a11d2",
   "metadata": {},
   "outputs": [],
   "source": [
    "list_map = ['R2','HRF','BETA','MEANVOL']\n",
    "list_dtype = ['dscalar','dscalar','dtseries','dscalar']"
   ]
  },
  {
   "cell_type": "code",
   "execution_count": 25,
   "id": "ce84aad4-d11d-4069-9475-d3fdfa7341ef",
   "metadata": {
    "scrolled": true
   },
   "outputs": [
    {
     "data": {
      "text/plain": [
       "{'R2': <nibabel.cifti2.cifti2.Cifti2Image at 0x75998761fac0>,\n",
       " 'HRF': <nibabel.cifti2.cifti2.Cifti2Image at 0x75998761f580>,\n",
       " 'BETA': <nibabel.cifti2.cifti2.Cifti2Image at 0x759987593fd0>,\n",
       " 'MEANVOL': <nibabel.cifti2.cifti2.Cifti2Image at 0x759987593460>}"
      ]
     },
     "execution_count": 25,
     "metadata": {},
     "output_type": "execute_result"
    }
   ],
   "source": [
    "cii = {}\n",
    "for m, d in zip(list_map, list_dtype):\n",
    "    fname = join(dir_roi,'cifti.%s.%s.%s.%s.%s.nii'%(hem,subj,roi,m,d))\n",
    "    cii[m] = nb.load(fname)\n",
    "cii"
   ]
  },
  {
   "cell_type": "code",
   "execution_count": 26,
   "id": "18022cf7-bec3-4874-8641-94e65db25741",
   "metadata": {
    "scrolled": true
   },
   "outputs": [
    {
     "data": {
      "text/plain": [
       "(544, 1114)"
      ]
     },
     "execution_count": 26,
     "metadata": {},
     "output_type": "execute_result"
    }
   ],
   "source": [
    "cii['BETA'].get_fdata().shape"
   ]
  },
  {
   "cell_type": "markdown",
   "id": "3186bc33-b864-4225-a2e0-c4e80b2e43c1",
   "metadata": {},
   "source": [
    "---"
   ]
  },
  {
   "cell_type": "markdown",
   "id": "5d7ca8df-c785-4485-9740-1c2a010d979e",
   "metadata": {},
   "source": [
    "### Design Matrix : $(T \\times K)$"
   ]
  },
  {
   "cell_type": "code",
   "execution_count": 27,
   "id": "5195a3b5-e0cf-4f42-9722-87fd85201e7b",
   "metadata": {},
   "outputs": [
    {
     "data": {
      "text/plain": [
       "(3256, 544)"
      ]
     },
     "execution_count": 27,
     "metadata": {},
     "output_type": "execute_result"
    }
   ],
   "source": [
    "design = ssingle.get_designSINGLE(subj=subj, glm=glm, run=None)\n",
    "design.shape"
   ]
  },
  {
   "cell_type": "code",
   "execution_count": 37,
   "id": "8e420160-b49f-4019-b332-c49a3cccae0e",
   "metadata": {},
   "outputs": [
    {
     "name": "stderr",
     "output_type": "stream",
     "text": [
      "100%|███████████████████████████████████████████████| 1114/1114 [06:55<00:00,  2.68it/s]\n"
     ]
    }
   ],
   "source": [
    "yhat_map = []\n",
    "for idx_voxel, idx_hrf in enumerate(tqdm(cii['HRF'].get_fdata()[0].astype(int))):\n",
    "    hrf = hrflib[idx_hrf-1]\n",
    "    design_conv = scipy.signal.convolve2d(design, hrf[:,np.newaxis], mode='same')\n",
    "    y_hat = design_conv @ (cii['BETA'].get_fdata()[:,idx_voxel] * 0.01 * cii['MEANVOL'].get_fdata()[0,idx_voxel])\n",
    "    yhat_map.append(y_hat)\n",
    "yhat_map = np.array(yhat_map)\n",
    "yhat_map = yhat_map.T"
   ]
  },
  {
   "cell_type": "code",
   "execution_count": 38,
   "id": "727eabd1-265f-4cf6-b4dd-a47eca03f1ba",
   "metadata": {},
   "outputs": [
    {
     "data": {
      "text/html": [
       "<div>\n",
       "<style scoped>\n",
       "    .dataframe tbody tr th:only-of-type {\n",
       "        vertical-align: middle;\n",
       "    }\n",
       "\n",
       "    .dataframe tbody tr th {\n",
       "        vertical-align: top;\n",
       "    }\n",
       "\n",
       "    .dataframe thead th {\n",
       "        text-align: right;\n",
       "    }\n",
       "</style>\n",
       "<table border=\"1\" class=\"dataframe\">\n",
       "  <thead>\n",
       "    <tr style=\"text-align: right;\">\n",
       "      <th></th>\n",
       "      <th>index</th>\n",
       "      <th>voxel</th>\n",
       "      <th>value</th>\n",
       "      <th>hue</th>\n",
       "    </tr>\n",
       "  </thead>\n",
       "  <tbody>\n",
       "    <tr>\n",
       "      <th>0</th>\n",
       "      <td>0</td>\n",
       "      <td>0</td>\n",
       "      <td>25.486448</td>\n",
       "      <td>y_hat</td>\n",
       "    </tr>\n",
       "    <tr>\n",
       "      <th>1</th>\n",
       "      <td>1</td>\n",
       "      <td>0</td>\n",
       "      <td>38.572014</td>\n",
       "      <td>y_hat</td>\n",
       "    </tr>\n",
       "    <tr>\n",
       "      <th>2</th>\n",
       "      <td>2</td>\n",
       "      <td>0</td>\n",
       "      <td>37.610576</td>\n",
       "      <td>y_hat</td>\n",
       "    </tr>\n",
       "    <tr>\n",
       "      <th>3</th>\n",
       "      <td>3</td>\n",
       "      <td>0</td>\n",
       "      <td>25.792890</td>\n",
       "      <td>y_hat</td>\n",
       "    </tr>\n",
       "    <tr>\n",
       "      <th>4</th>\n",
       "      <td>4</td>\n",
       "      <td>0</td>\n",
       "      <td>-1.896118</td>\n",
       "      <td>y_hat</td>\n",
       "    </tr>\n",
       "    <tr>\n",
       "      <th>...</th>\n",
       "      <td>...</td>\n",
       "      <td>...</td>\n",
       "      <td>...</td>\n",
       "      <td>...</td>\n",
       "    </tr>\n",
       "    <tr>\n",
       "      <th>3627179</th>\n",
       "      <td>3251</td>\n",
       "      <td>1113</td>\n",
       "      <td>-0.002808</td>\n",
       "      <td>y_hat</td>\n",
       "    </tr>\n",
       "    <tr>\n",
       "      <th>3627180</th>\n",
       "      <td>3252</td>\n",
       "      <td>1113</td>\n",
       "      <td>-0.001675</td>\n",
       "      <td>y_hat</td>\n",
       "    </tr>\n",
       "    <tr>\n",
       "      <th>3627181</th>\n",
       "      <td>3253</td>\n",
       "      <td>1113</td>\n",
       "      <td>-0.000983</td>\n",
       "      <td>y_hat</td>\n",
       "    </tr>\n",
       "    <tr>\n",
       "      <th>3627182</th>\n",
       "      <td>3254</td>\n",
       "      <td>1113</td>\n",
       "      <td>-0.000570</td>\n",
       "      <td>y_hat</td>\n",
       "    </tr>\n",
       "    <tr>\n",
       "      <th>3627183</th>\n",
       "      <td>3255</td>\n",
       "      <td>1113</td>\n",
       "      <td>-0.000327</td>\n",
       "      <td>y_hat</td>\n",
       "    </tr>\n",
       "  </tbody>\n",
       "</table>\n",
       "<p>3627184 rows × 4 columns</p>\n",
       "</div>"
      ],
      "text/plain": [
       "         index voxel      value    hue\n",
       "0            0     0  25.486448  y_hat\n",
       "1            1     0  38.572014  y_hat\n",
       "2            2     0  37.610576  y_hat\n",
       "3            3     0  25.792890  y_hat\n",
       "4            4     0  -1.896118  y_hat\n",
       "...        ...   ...        ...    ...\n",
       "3627179   3251  1113  -0.002808  y_hat\n",
       "3627180   3252  1113  -0.001675  y_hat\n",
       "3627181   3253  1113  -0.000983  y_hat\n",
       "3627182   3254  1113  -0.000570  y_hat\n",
       "3627183   3255  1113  -0.000327  y_hat\n",
       "\n",
       "[3627184 rows x 4 columns]"
      ]
     },
     "execution_count": 38,
     "metadata": {},
     "output_type": "execute_result"
    }
   ],
   "source": [
    "df_b = pd.melt(\n",
    "    frame=pd.DataFrame(yhat_map).reset_index(),\n",
    "    id_vars='index',\n",
    "    value_vars=np.arange(yhat_map.shape[-1]), value_name='value',\n",
    "    var_name='voxel',\n",
    "    ignore_index=True\n",
    ")\n",
    "df_b['hue'] = 'y_hat'\n",
    "df_b"
   ]
  },
  {
   "cell_type": "markdown",
   "id": "b30cda9c-120d-4b5a-ac16-cdf1473d397c",
   "metadata": {},
   "source": [
    "---"
   ]
  },
  {
   "cell_type": "code",
   "execution_count": 39,
   "id": "18f1ebcf-85ec-4dcf-bf4c-1423867630d5",
   "metadata": {},
   "outputs": [
    {
     "data": {
      "text/html": [
       "<div>\n",
       "<style scoped>\n",
       "    .dataframe tbody tr th:only-of-type {\n",
       "        vertical-align: middle;\n",
       "    }\n",
       "\n",
       "    .dataframe tbody tr th {\n",
       "        vertical-align: top;\n",
       "    }\n",
       "\n",
       "    .dataframe thead th {\n",
       "        text-align: right;\n",
       "    }\n",
       "</style>\n",
       "<table border=\"1\" class=\"dataframe\">\n",
       "  <thead>\n",
       "    <tr style=\"text-align: right;\">\n",
       "      <th></th>\n",
       "      <th>index</th>\n",
       "      <th>voxel</th>\n",
       "      <th>value</th>\n",
       "      <th>hue</th>\n",
       "    </tr>\n",
       "  </thead>\n",
       "  <tbody>\n",
       "    <tr>\n",
       "      <th>0</th>\n",
       "      <td>0</td>\n",
       "      <td>0</td>\n",
       "      <td>104.670990</td>\n",
       "      <td>y_raw</td>\n",
       "    </tr>\n",
       "    <tr>\n",
       "      <th>1</th>\n",
       "      <td>1</td>\n",
       "      <td>0</td>\n",
       "      <td>113.757904</td>\n",
       "      <td>y_raw</td>\n",
       "    </tr>\n",
       "    <tr>\n",
       "      <th>2</th>\n",
       "      <td>2</td>\n",
       "      <td>0</td>\n",
       "      <td>113.929352</td>\n",
       "      <td>y_raw</td>\n",
       "    </tr>\n",
       "    <tr>\n",
       "      <th>3</th>\n",
       "      <td>3</td>\n",
       "      <td>0</td>\n",
       "      <td>110.971825</td>\n",
       "      <td>y_raw</td>\n",
       "    </tr>\n",
       "    <tr>\n",
       "      <th>4</th>\n",
       "      <td>4</td>\n",
       "      <td>0</td>\n",
       "      <td>105.956871</td>\n",
       "      <td>y_raw</td>\n",
       "    </tr>\n",
       "    <tr>\n",
       "      <th>...</th>\n",
       "      <td>...</td>\n",
       "      <td>...</td>\n",
       "      <td>...</td>\n",
       "      <td>...</td>\n",
       "    </tr>\n",
       "    <tr>\n",
       "      <th>3627179</th>\n",
       "      <td>3251</td>\n",
       "      <td>1113</td>\n",
       "      <td>-0.002808</td>\n",
       "      <td>y_hat</td>\n",
       "    </tr>\n",
       "    <tr>\n",
       "      <th>3627180</th>\n",
       "      <td>3252</td>\n",
       "      <td>1113</td>\n",
       "      <td>-0.001675</td>\n",
       "      <td>y_hat</td>\n",
       "    </tr>\n",
       "    <tr>\n",
       "      <th>3627181</th>\n",
       "      <td>3253</td>\n",
       "      <td>1113</td>\n",
       "      <td>-0.000983</td>\n",
       "      <td>y_hat</td>\n",
       "    </tr>\n",
       "    <tr>\n",
       "      <th>3627182</th>\n",
       "      <td>3254</td>\n",
       "      <td>1113</td>\n",
       "      <td>-0.000570</td>\n",
       "      <td>y_hat</td>\n",
       "    </tr>\n",
       "    <tr>\n",
       "      <th>3627183</th>\n",
       "      <td>3255</td>\n",
       "      <td>1113</td>\n",
       "      <td>-0.000327</td>\n",
       "      <td>y_hat</td>\n",
       "    </tr>\n",
       "  </tbody>\n",
       "</table>\n",
       "<p>7254368 rows × 4 columns</p>\n",
       "</div>"
      ],
      "text/plain": [
       "         index voxel       value    hue\n",
       "0            0     0  104.670990  y_raw\n",
       "1            1     0  113.757904  y_raw\n",
       "2            2     0  113.929352  y_raw\n",
       "3            3     0  110.971825  y_raw\n",
       "4            4     0  105.956871  y_raw\n",
       "...        ...   ...         ...    ...\n",
       "3627179   3251  1113   -0.002808  y_hat\n",
       "3627180   3252  1113   -0.001675  y_hat\n",
       "3627181   3253  1113   -0.000983  y_hat\n",
       "3627182   3254  1113   -0.000570  y_hat\n",
       "3627183   3255  1113   -0.000327  y_hat\n",
       "\n",
       "[7254368 rows x 4 columns]"
      ]
     },
     "execution_count": 39,
     "metadata": {},
     "output_type": "execute_result"
    }
   ],
   "source": [
    "df_y = pd.concat([df_a, df_b])\n",
    "df_y"
   ]
  },
  {
   "cell_type": "code",
   "execution_count": 40,
   "id": "a6cee04f-9d88-4852-a085-24f84abf17dc",
   "metadata": {},
   "outputs": [
    {
     "data": {
      "text/plain": [
       "<matplotlib.legend.Legend at 0x75998718ae20>"
      ]
     },
     "execution_count": 40,
     "metadata": {},
     "output_type": "execute_result"
    },
    {
     "data": {
      "image/png": "[encoded data removed]",
      "text/plain": [
       "<Figure size 1200x300 with 1 Axes>"
      ]
     },
     "metadata": {},
     "output_type": "display_data"
    }
   ],
   "source": [
    "fig, ax = plt.subplots(figsize=(12,3))\n",
    "g = sns.lineplot(\n",
    "    data=df_y,\n",
    "    x='index', y='value', hue='hue',\n",
    "    estimator='mean', errorbar='se',\n",
    "    ax=ax\n",
    ")\n",
    "g.grid()\n",
    "g.legend()"
   ]
  },
  {
   "cell_type": "code",
   "execution_count": null,
   "id": "0582e3e4-8649-4137-af0c-c465e9e9a135",
   "metadata": {},
   "outputs": [],
   "source": []
  }
 ],
 "metadata": {
  "kernelspec": {
   "display_name": "sss",
   "language": "python",
   "name": "sss"
  },
  "language_info": {
   "codemirror_mode": {
    "name": "ipython",
    "version": 3
   },
   "file_extension": ".py",
   "mimetype": "text/x-python",
   "name": "python",
   "nbconvert_exporter": "python",
   "pygments_lexer": "ipython3",
   "version": "3.9.23"
  }
 },
 "nbformat": 4,
 "nbformat_minor": 5
}
