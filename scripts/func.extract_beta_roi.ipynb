{
 "cells": [
  {
   "cell_type": "code",
   "execution_count": 1,
   "id": "8f1c2c03-097f-45a8-a1ef-8a52763e8daf",
   "metadata": {},
   "outputs": [],
   "source": [
    "import sys\n",
    "import platform\n",
    "from os.path import join, exists, abspath, dirname\n",
    "from os import getcwd, makedirs\n",
    "from glob import glob\n",
    "\n",
    "import numpy as np\n",
    "import pandas as pd\n",
    "import matplotlib.pyplot as plt\n",
    "from matplotlib import colormaps, cm, colors\n",
    "import scipy\n",
    "from sklearn.metrics import r2_score\n",
    "import seaborn as sns\n",
    "\n",
    "from tqdm import tqdm"
   ]
  },
  {
   "cell_type": "code",
   "execution_count": 2,
   "id": "ae9f5f62-689a-4276-a0cd-0c4f05a8f6f1",
   "metadata": {},
   "outputs": [],
   "source": [
    "import nibabel as nb\n",
    "from nilearn import plotting, image\n",
    "from nipype.interfaces import fsl"
   ]
  },
  {
   "cell_type": "code",
   "execution_count": 3,
   "id": "47742f37-bfce-44aa-b2ba-9a5c450f4fac",
   "metadata": {},
   "outputs": [
    {
     "data": {
      "text/plain": [
       "'/Users/sungbeenpark/github'"
      ]
     },
     "execution_count": 3,
     "metadata": {},
     "output_type": "execute_result"
    }
   ],
   "source": [
    "dir_current = getcwd().replace('\\\\','/')\n",
    "\n",
    "tmp = dir_current.split('/')\n",
    "idx = [ii for ii, s in enumerate(tmp) if s=='github'][0]\n",
    "\n",
    "dir_git = '/'.join(tmp[:idx+1])\n",
    "dir_git"
   ]
  },
  {
   "cell_type": "code",
   "execution_count": 4,
   "id": "495f3dda-caf5-4296-9182-1c9ea46cfefe",
   "metadata": {},
   "outputs": [],
   "source": [
    "dname = join(dir_git,'nitools')\n",
    "sys.path.append(dname)\n",
    "import nitools as nt"
   ]
  },
  {
   "cell_type": "code",
   "execution_count": 5,
   "id": "5385c6e4-1067-4715-954b-72c5b9252894",
   "metadata": {},
   "outputs": [],
   "source": [
    "dname = join(dir_git,'SUITPy')\n",
    "sys.path.append(dname)\n",
    "import SUITPy as suit"
   ]
  },
  {
   "cell_type": "code",
   "execution_count": 6,
   "id": "91a5a34d-398c-4fae-8034-819db87def7c",
   "metadata": {},
   "outputs": [],
   "source": [
    "dname = join(dir_git)\n",
    "sys.path.append(dname)\n",
    "import surfAnalysisPy as surf"
   ]
  },
  {
   "cell_type": "code",
   "execution_count": 7,
   "id": "27bf9705-e10d-4c52-8ccb-7e83cee776ae",
   "metadata": {},
   "outputs": [],
   "source": [
    "dname = join(dir_git,'Functional_Fusion')\n",
    "sys.path.append(dname)\n",
    "import Functional_Fusion.atlas_map as am\n",
    "import Functional_Fusion.reliability as rel"
   ]
  },
  {
   "cell_type": "code",
   "execution_count": 8,
   "id": "6f8001ea-2c76-4a7a-bc3f-aec68128aeb0",
   "metadata": {},
   "outputs": [],
   "source": [
    "dname = join(dir_git,'SeqSpatialSupp_fMRI')\n",
    "sys.path.append(dname)\n",
    "from SSS import deal_spm\n",
    "from SSS import util as su\n",
    "from SSS import plot as splt\n",
    "from SSS import image as simage\n",
    "from SSS import glmsingle as ssingle"
   ]
  },
  {
   "cell_type": "markdown",
   "id": "2e7a6a3e-ea3c-4629-892a-aa56f07c4e24",
   "metadata": {},
   "source": [
    "---"
   ]
  },
  {
   "cell_type": "code",
   "execution_count": 9,
   "id": "76039814-765a-4760-8cd1-edba6e650851",
   "metadata": {},
   "outputs": [
    {
     "data": {
      "text/plain": [
       "array(['01', '02', '03', '05', '06', '08', '09', '10', '11', '12', '13',\n",
       "       '14'], dtype='<U2')"
      ]
     },
     "execution_count": 9,
     "metadata": {},
     "output_type": "execute_result"
    }
   ],
   "source": [
    "list_sn = su.get_list_sn()\n",
    "list_sn"
   ]
  },
  {
   "cell_type": "markdown",
   "id": "59fcd140-83ad-4905-af9d-096ed84210a8",
   "metadata": {},
   "source": [
    "---"
   ]
  },
  {
   "cell_type": "code",
   "execution_count": 10,
   "id": "ed9d4d0b-5894-48af-98dc-f0b218de0d45",
   "metadata": {},
   "outputs": [],
   "source": [
    "atlasDir = su.get_dir_atlas()"
   ]
  },
  {
   "cell_type": "code",
   "execution_count": 11,
   "id": "bad93bd5-d355-4e15-9d88-6580a83bc5c3",
   "metadata": {},
   "outputs": [],
   "source": [
    "# hem = ['L', 'R']\n",
    "h = 'L'"
   ]
  },
  {
   "cell_type": "code",
   "execution_count": 12,
   "id": "ae84a9ac-4c47-40ed-8e01-4262ffddc4e6",
   "metadata": {},
   "outputs": [],
   "source": [
    "list_roi = ['S1', 'M1', 'PMd', 'PMv', 'SMA', 'V1', 'SPLa', 'SPLp']\n",
    "list_label = [1, 2, 3, 4, 5, 6, 7, 8]"
   ]
  },
  {
   "cell_type": "markdown",
   "id": "b05ce59d-c622-4a4a-8e52-a2bd1d6a3966",
   "metadata": {},
   "source": [
    "---"
   ]
  },
  {
   "cell_type": "code",
   "execution_count": 13,
   "id": "bf610471-9fcf-48b2-a354-7ef9bd91292a",
   "metadata": {},
   "outputs": [],
   "source": [
    "glm = 1"
   ]
  },
  {
   "cell_type": "markdown",
   "id": "76f05f05-bc91-4275-87cc-40eff9922768",
   "metadata": {},
   "source": [
    "---"
   ]
  },
  {
   "cell_type": "markdown",
   "id": "792198b0-a31b-488c-87a5-56fdd90c709d",
   "metadata": {},
   "source": [
    "### GLM original"
   ]
  },
  {
   "cell_type": "code",
   "execution_count": 14,
   "id": "59ccda0c-5087-45f3-9456-3cbbc57ab4e0",
   "metadata": {},
   "outputs": [
    {
     "data": {
      "text/plain": [
       "'/Volumes/Diedrichsen_data$/data/SeqSpatialSupp_fMRI/glm_1'"
      ]
     },
     "execution_count": 14,
     "metadata": {},
     "output_type": "execute_result"
    }
   ],
   "source": [
    "dir_glm = su.get_dir_glm(glm)\n",
    "dir_glm"
   ]
  },
  {
   "cell_type": "markdown",
   "id": "df09d9f6-1ba7-468f-9adc-1886dcc9f171",
   "metadata": {},
   "source": [
    "---"
   ]
  },
  {
   "cell_type": "markdown",
   "id": "493ee5db-f909-4aea-a502-e09bfb454989",
   "metadata": {},
   "source": [
    "### GLMsingle"
   ]
  },
  {
   "cell_type": "code",
   "execution_count": 16,
   "id": "96900ab2-91a0-4c6e-ab47-add1338a5a3f",
   "metadata": {},
   "outputs": [
    {
     "data": {
      "text/plain": [
       "'/Volumes/Diedrichsen_data$/data/SeqSpatialSupp_fMRI/GLMsingle/glm_1'"
      ]
     },
     "execution_count": 16,
     "metadata": {},
     "output_type": "execute_result"
    }
   ],
   "source": [
    "dir_glm = ssingle.get_dir_glmsingle(glm)\n",
    "dir_glm"
   ]
  },
  {
   "cell_type": "markdown",
   "id": "ebc081d8-1651-428e-8c54-6b6dac03f14e",
   "metadata": {},
   "source": [
    "---"
   ]
  },
  {
   "cell_type": "code",
   "execution_count": null,
   "id": "2bc4fe27-c95f-4e8a-a900-f8f950840764",
   "metadata": {},
   "outputs": [
    {
     "name": "stderr",
     "output_type": "stream",
     "text": [
      "  8%|████████▍                                                                                            | 1/12 [06:51<1:15:27, 411.60s/it]"
     ]
    }
   ],
   "source": [
    "for sn in tqdm(list_sn):\n",
    "    subj = 'S'+sn\n",
    "    reginfo = deal_spm.load_reginfo(subj=subj, dir_glm=dir_glm)\n",
    "    part_vec = reginfo.run.values.flatten()\n",
    "    if 'GLMsingle' in dir_glm:\n",
    "        cond_vec = reginfo.name.values.flatten()\n",
    "    else:\n",
    "        cond_vec = reginfo.reg.values.flatten()\n",
    "    list_nii = sorted(glob(join(dir_glm,subj,'beta_*.nii')))\n",
    "    white, pial, mask = simage.get_WPM(subj=subj, glm=glm)\n",
    "    dataset = []\n",
    "    for roi, label in zip(list_roi, list_label):\n",
    "        atlas, ainfo = am.get_atlas('fs32k_%s'%h)\n",
    "        subatlas = atlas.get_subatlas_image(\n",
    "            mask_img=join(atlasDir,'ROI.32k.%s.label.gii'%h),\n",
    "            value=label\n",
    "        )\n",
    "        amap = am.AtlasMapSurf(\n",
    "            vertex=subatlas.vertex[0],\n",
    "            white_surf=white,\n",
    "            pial_surf=pial,\n",
    "            mask_img=mask\n",
    "        )\n",
    "        \n",
    "        ## Compute the voxels in native space\n",
    "        amap.build()\n",
    "        \n",
    "        ## This extract all the relevant voxels in native space (use for RSA)\n",
    "        beta = amap.extract_data_native(list_nii)\n",
    "        idx_nan = np.isnan(beta).any(axis=0)\n",
    "        beta = beta[:, ~idx_nan]\n",
    "        dataset.append(beta)\n",
    "\n",
    "    ## save the data of hem and region:\n",
    "    ## Convert to object array to handle different shapes\n",
    "    dataset_obj = np.empty(len(dataset), dtype=object)\n",
    "    for ii, data in enumerate(dataset):\n",
    "        dataset_obj[ii] = data\n",
    "\n",
    "    np.savez(\n",
    "        file=join(dir_glm,'beta.%s.%s.%drois.npz'%(h,subj,len(list_roi))), \n",
    "        dataset=dataset_obj,\n",
    "        cond_vec=cond_vec,\n",
    "        part_vec=part_vec,\n",
    "        subj=subj\n",
    "    )"
   ]
  },
  {
   "cell_type": "code",
   "execution_count": null,
   "id": "5444e8bb-e0e8-485f-8df0-af4d0195da82",
   "metadata": {},
   "outputs": [],
   "source": []
  }
 ],
 "metadata": {
  "kernelspec": {
   "display_name": "SSS",
   "language": "python",
   "name": "sss"
  },
  "language_info": {
   "codemirror_mode": {
    "name": "ipython",
    "version": 3
   },
   "file_extension": ".py",
   "mimetype": "text/x-python",
   "name": "python",
   "nbconvert_exporter": "python",
   "pygments_lexer": "ipython3",
   "version": "3.9.21"
  }
 },
 "nbformat": 4,
 "nbformat_minor": 5
}
