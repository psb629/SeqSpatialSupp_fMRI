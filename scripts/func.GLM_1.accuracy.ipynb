{
 "cells": [
  {
   "cell_type": "code",
   "execution_count": 1,
   "id": "8f1c2c03-097f-45a8-a1ef-8a52763e8daf",
   "metadata": {},
   "outputs": [],
   "source": [
    "import sys\n",
    "from os import getcwd, makedirs\n",
    "from os.path import join, exists, abspath\n",
    "from glob import glob\n",
    "\n",
    "import numpy as np\n",
    "import pandas as pd\n",
    "import matplotlib.pyplot as plt\n",
    "from matplotlib import colormaps, cm, colors\n",
    "import scipy\n",
    "from scipy.stats import ttest_1samp, pearsonr\n",
    "from scipy.spatial.distance import squareform\n",
    "import h5py\n",
    "import seaborn as sns\n",
    "\n",
    "from tqdm import tqdm"
   ]
  },
  {
   "cell_type": "code",
   "execution_count": 2,
   "id": "676b58f7-fc99-40c3-922f-807ba293bfc7",
   "metadata": {},
   "outputs": [],
   "source": [
    "import warnings"
   ]
  },
  {
   "cell_type": "code",
   "execution_count": 3,
   "id": "ae9f5f62-689a-4276-a0cd-0c4f05a8f6f1",
   "metadata": {},
   "outputs": [],
   "source": [
    "import nibabel as nb\n",
    "from nilearn import plotting\n",
    "from nipype.interfaces import fsl"
   ]
  },
  {
   "cell_type": "code",
   "execution_count": 4,
   "id": "044b0f58-4949-456b-ad44-1697fc87ebf4",
   "metadata": {},
   "outputs": [
    {
     "data": {
      "text/plain": [
       "'/home/sungbeenpark/github'"
      ]
     },
     "execution_count": 4,
     "metadata": {},
     "output_type": "execute_result"
    }
   ],
   "source": [
    "dir_current = getcwd().replace('\\\\','/')\n",
    "\n",
    "tmp = dir_current.split('/')\n",
    "idx = [ii for ii, s in enumerate(tmp) if s=='github'][0]\n",
    "\n",
    "dir_git = '/'.join(tmp[:idx+1])\n",
    "dir_git"
   ]
  },
  {
   "cell_type": "code",
   "execution_count": 5,
   "id": "c018d2c2-66e2-4a3a-8e46-7e672513e9c2",
   "metadata": {},
   "outputs": [],
   "source": [
    "dname = join(dir_git,'nitools')\n",
    "sys.path.append(dname)\n",
    "import nitools as nt"
   ]
  },
  {
   "cell_type": "code",
   "execution_count": 6,
   "id": "291096a5-b23b-485e-9726-5f24a2823b9b",
   "metadata": {},
   "outputs": [],
   "source": [
    "dname = join(dir_git,'SUITPy')\n",
    "sys.path.append(dname)\n",
    "import SUITPy as suit"
   ]
  },
  {
   "cell_type": "code",
   "execution_count": 7,
   "id": "94de1129-b27f-4ecd-a673-1d28e712542b",
   "metadata": {},
   "outputs": [],
   "source": [
    "dname = join(dir_git)\n",
    "sys.path.append(dname)\n",
    "import surfAnalysisPy as surf"
   ]
  },
  {
   "cell_type": "code",
   "execution_count": 8,
   "id": "a67d4373-7c5f-4edc-bb1b-87ee7c02e81c",
   "metadata": {},
   "outputs": [],
   "source": [
    "dname = abspath(join(dir_git,'PcmPy'))\n",
    "sys.path.append(dname)\n",
    "import PcmPy as pcm"
   ]
  },
  {
   "cell_type": "code",
   "execution_count": 9,
   "id": "c7607aa7-4ffa-4390-b006-6654f102b768",
   "metadata": {},
   "outputs": [],
   "source": [
    "dname = join(dir_git,'SeqSpatialSupp_fMRI')\n",
    "sys.path.append(dname)\n",
    "from SSS import deal_spm\n",
    "from SSS import util as su\n",
    "from SSS import plot as splt\n",
    "from SSS import image as simage"
   ]
  },
  {
   "cell_type": "markdown",
   "id": "a98e769b-535b-4f8a-aec6-05072dbd4997",
   "metadata": {},
   "source": [
    "---"
   ]
  },
  {
   "cell_type": "markdown",
   "id": "50f77517-44cd-4068-aad6-869c0a14edff",
   "metadata": {},
   "source": [
    "### Select the HRF parameter with the highest $R^{2}$ score."
   ]
  },
  {
   "cell_type": "code",
   "execution_count": 10,
   "id": "0ac6c399-0554-456c-b8e2-ea4e5135c86d",
   "metadata": {},
   "outputs": [],
   "source": [
    "# mins = []\n",
    "# maxs = []\n",
    "# for roi in list_roi:\n",
    "#     G_hat = dict_G_hat[roi].mean(axis=0)\n",
    "#     min_ = G_hat.min()\n",
    "#     max_ = G_hat.max()\n",
    "#     mins.append(min_)\n",
    "#     maxs.append(max_)\n",
    "# plt.plot(range(8),mins)\n",
    "# plt.plot(range(8),maxs)"
   ]
  },
  {
   "cell_type": "code",
   "execution_count": 11,
   "id": "c5f56559-114e-404f-9da6-328b5c7c6745",
   "metadata": {},
   "outputs": [
    {
     "data": {
      "text/html": [
       "<div>\n",
       "<style scoped>\n",
       "    .dataframe tbody tr th:only-of-type {\n",
       "        vertical-align: middle;\n",
       "    }\n",
       "\n",
       "    .dataframe tbody tr th {\n",
       "        vertical-align: top;\n",
       "    }\n",
       "\n",
       "    .dataframe thead th {\n",
       "        text-align: right;\n",
       "    }\n",
       "</style>\n",
       "<table border=\"1\" class=\"dataframe\">\n",
       "  <thead>\n",
       "    <tr style=\"text-align: right;\">\n",
       "      <th></th>\n",
       "      <th>subj</th>\n",
       "      <th>sess</th>\n",
       "      <th>roi</th>\n",
       "      <th>param</th>\n",
       "      <th>r2</th>\n",
       "    </tr>\n",
       "  </thead>\n",
       "  <tbody>\n",
       "    <tr>\n",
       "      <th>0</th>\n",
       "      <td>1</td>\n",
       "      <td>S</td>\n",
       "      <td>S1</td>\n",
       "      <td>[4,14]</td>\n",
       "      <td>0.121725</td>\n",
       "    </tr>\n",
       "    <tr>\n",
       "      <th>1</th>\n",
       "      <td>1</td>\n",
       "      <td>R</td>\n",
       "      <td>S1</td>\n",
       "      <td>[4,14]</td>\n",
       "      <td>0.246509</td>\n",
       "    </tr>\n",
       "    <tr>\n",
       "      <th>2</th>\n",
       "      <td>2</td>\n",
       "      <td>S</td>\n",
       "      <td>S1</td>\n",
       "      <td>[4,14]</td>\n",
       "      <td>0.162380</td>\n",
       "    </tr>\n",
       "    <tr>\n",
       "      <th>3</th>\n",
       "      <td>2</td>\n",
       "      <td>R</td>\n",
       "      <td>S1</td>\n",
       "      <td>[4,14]</td>\n",
       "      <td>0.374307</td>\n",
       "    </tr>\n",
       "    <tr>\n",
       "      <th>4</th>\n",
       "      <td>3</td>\n",
       "      <td>S</td>\n",
       "      <td>S1</td>\n",
       "      <td>[4,14]</td>\n",
       "      <td>0.134179</td>\n",
       "    </tr>\n",
       "    <tr>\n",
       "      <th>...</th>\n",
       "      <td>...</td>\n",
       "      <td>...</td>\n",
       "      <td>...</td>\n",
       "      <td>...</td>\n",
       "      <td>...</td>\n",
       "    </tr>\n",
       "    <tr>\n",
       "      <th>1147</th>\n",
       "      <td>12</td>\n",
       "      <td>R</td>\n",
       "      <td>SPLp</td>\n",
       "      <td>[9,19]</td>\n",
       "      <td>0.148224</td>\n",
       "    </tr>\n",
       "    <tr>\n",
       "      <th>1148</th>\n",
       "      <td>13</td>\n",
       "      <td>S</td>\n",
       "      <td>SPLp</td>\n",
       "      <td>[9,19]</td>\n",
       "      <td>0.072790</td>\n",
       "    </tr>\n",
       "    <tr>\n",
       "      <th>1149</th>\n",
       "      <td>13</td>\n",
       "      <td>R</td>\n",
       "      <td>SPLp</td>\n",
       "      <td>[9,19]</td>\n",
       "      <td>0.124870</td>\n",
       "    </tr>\n",
       "    <tr>\n",
       "      <th>1150</th>\n",
       "      <td>14</td>\n",
       "      <td>S</td>\n",
       "      <td>SPLp</td>\n",
       "      <td>[9,19]</td>\n",
       "      <td>0.106808</td>\n",
       "    </tr>\n",
       "    <tr>\n",
       "      <th>1151</th>\n",
       "      <td>14</td>\n",
       "      <td>R</td>\n",
       "      <td>SPLp</td>\n",
       "      <td>[9,19]</td>\n",
       "      <td>0.083954</td>\n",
       "    </tr>\n",
       "  </tbody>\n",
       "</table>\n",
       "<p>1152 rows × 5 columns</p>\n",
       "</div>"
      ],
      "text/plain": [
       "      subj sess   roi   param        r2\n",
       "0        1    S    S1  [4,14]  0.121725\n",
       "1        1    R    S1  [4,14]  0.246509\n",
       "2        2    S    S1  [4,14]  0.162380\n",
       "3        2    R    S1  [4,14]  0.374307\n",
       "4        3    S    S1  [4,14]  0.134179\n",
       "...    ...  ...   ...     ...       ...\n",
       "1147    12    R  SPLp  [9,19]  0.148224\n",
       "1148    13    S  SPLp  [9,19]  0.072790\n",
       "1149    13    R  SPLp  [9,19]  0.124870\n",
       "1150    14    S  SPLp  [9,19]  0.106808\n",
       "1151    14    R  SPLp  [9,19]  0.083954\n",
       "\n",
       "[1152 rows x 5 columns]"
      ]
     },
     "execution_count": 11,
     "metadata": {},
     "output_type": "execute_result"
    }
   ],
   "source": [
    "df_r2 = pd.read_csv(\n",
    "    join(su.get_dir_result(),'mean_y_across_run/r2_score.tsv'),\n",
    "    sep='\\t', header=0\n",
    ")\n",
    "df_r2"
   ]
  },
  {
   "cell_type": "code",
   "execution_count": 12,
   "id": "f2023ad8-aa10-442b-80df-8ac4c07c38bb",
   "metadata": {},
   "outputs": [
    {
     "data": {
      "text/html": [
       "<div>\n",
       "<style scoped>\n",
       "    .dataframe tbody tr th:only-of-type {\n",
       "        vertical-align: middle;\n",
       "    }\n",
       "\n",
       "    .dataframe tbody tr th {\n",
       "        vertical-align: top;\n",
       "    }\n",
       "\n",
       "    .dataframe thead th {\n",
       "        text-align: right;\n",
       "    }\n",
       "</style>\n",
       "<table border=\"1\" class=\"dataframe\">\n",
       "  <thead>\n",
       "    <tr style=\"text-align: right;\">\n",
       "      <th></th>\n",
       "      <th>subj</th>\n",
       "      <th>roi</th>\n",
       "      <th>param</th>\n",
       "      <th>r2</th>\n",
       "    </tr>\n",
       "  </thead>\n",
       "  <tbody>\n",
       "    <tr>\n",
       "      <th>0</th>\n",
       "      <td>1</td>\n",
       "      <td>M1</td>\n",
       "      <td>[4,14]</td>\n",
       "      <td>0.303799</td>\n",
       "    </tr>\n",
       "    <tr>\n",
       "      <th>7</th>\n",
       "      <td>1</td>\n",
       "      <td>PMd</td>\n",
       "      <td>[5,15]</td>\n",
       "      <td>0.227037</td>\n",
       "    </tr>\n",
       "    <tr>\n",
       "      <th>13</th>\n",
       "      <td>1</td>\n",
       "      <td>PMv</td>\n",
       "      <td>[5,15]</td>\n",
       "      <td>0.201462</td>\n",
       "    </tr>\n",
       "    <tr>\n",
       "      <th>19</th>\n",
       "      <td>1</td>\n",
       "      <td>S1</td>\n",
       "      <td>[5,15]</td>\n",
       "      <td>0.252490</td>\n",
       "    </tr>\n",
       "    <tr>\n",
       "      <th>25</th>\n",
       "      <td>1</td>\n",
       "      <td>SMA</td>\n",
       "      <td>[5,15]</td>\n",
       "      <td>0.139793</td>\n",
       "    </tr>\n",
       "    <tr>\n",
       "      <th>...</th>\n",
       "      <td>...</td>\n",
       "      <td>...</td>\n",
       "      <td>...</td>\n",
       "      <td>...</td>\n",
       "    </tr>\n",
       "    <tr>\n",
       "      <th>546</th>\n",
       "      <td>14</td>\n",
       "      <td>S1</td>\n",
       "      <td>[4,14]</td>\n",
       "      <td>0.289173</td>\n",
       "    </tr>\n",
       "    <tr>\n",
       "      <th>552</th>\n",
       "      <td>14</td>\n",
       "      <td>SMA</td>\n",
       "      <td>[4,14]</td>\n",
       "      <td>0.143694</td>\n",
       "    </tr>\n",
       "    <tr>\n",
       "      <th>559</th>\n",
       "      <td>14</td>\n",
       "      <td>SPLa</td>\n",
       "      <td>[5,15]</td>\n",
       "      <td>0.208415</td>\n",
       "    </tr>\n",
       "    <tr>\n",
       "      <th>565</th>\n",
       "      <td>14</td>\n",
       "      <td>SPLp</td>\n",
       "      <td>[5,15]</td>\n",
       "      <td>0.163065</td>\n",
       "    </tr>\n",
       "    <tr>\n",
       "      <th>571</th>\n",
       "      <td>14</td>\n",
       "      <td>V1</td>\n",
       "      <td>[5,15]</td>\n",
       "      <td>0.082771</td>\n",
       "    </tr>\n",
       "  </tbody>\n",
       "</table>\n",
       "<p>96 rows × 4 columns</p>\n",
       "</div>"
      ],
      "text/plain": [
       "     subj   roi   param        r2\n",
       "0       1    M1  [4,14]  0.303799\n",
       "7       1   PMd  [5,15]  0.227037\n",
       "13      1   PMv  [5,15]  0.201462\n",
       "19      1    S1  [5,15]  0.252490\n",
       "25      1   SMA  [5,15]  0.139793\n",
       "..    ...   ...     ...       ...\n",
       "546    14    S1  [4,14]  0.289173\n",
       "552    14   SMA  [4,14]  0.143694\n",
       "559    14  SPLa  [5,15]  0.208415\n",
       "565    14  SPLp  [5,15]  0.163065\n",
       "571    14    V1  [5,15]  0.082771\n",
       "\n",
       "[96 rows x 4 columns]"
      ]
     },
     "execution_count": 12,
     "metadata": {},
     "output_type": "execute_result"
    }
   ],
   "source": [
    "df_tmp = df_r2.groupby(['subj','roi','param'], as_index=False).mean(['r2'])\n",
    "df_param = df_tmp[df_tmp.r2==df_tmp.groupby(['subj','roi'])['r2'].transform('max')]\n",
    "df_param.sort_values(by=['subj','roi'], ascending=[True,True])\n",
    "# df_param['subj'] = df_param.subj.astype(str).str.zfill(2)\n",
    "df_param"
   ]
  },
  {
   "cell_type": "markdown",
   "id": "0ad4bb27-906f-4368-a9a5-f8bce8bfb62e",
   "metadata": {},
   "source": [
    "---"
   ]
  },
  {
   "cell_type": "markdown",
   "id": "c80b9cec-9792-4776-baed-d667c3ff0163",
   "metadata": {},
   "source": [
    "## Load Data"
   ]
  },
  {
   "cell_type": "code",
   "execution_count": 13,
   "id": "6d208f51-7875-42ba-828f-3040cceaf3f6",
   "metadata": {},
   "outputs": [],
   "source": [
    "glm = 1"
   ]
  },
  {
   "cell_type": "code",
   "execution_count": 14,
   "id": "68e17a1f-b209-489f-8e69-2b730c3cad81",
   "metadata": {
    "scrolled": true
   },
   "outputs": [
    {
     "data": {
      "text/html": [
       "<div>\n",
       "<style scoped>\n",
       "    .dataframe tbody tr th:only-of-type {\n",
       "        vertical-align: middle;\n",
       "    }\n",
       "\n",
       "    .dataframe tbody tr th {\n",
       "        vertical-align: top;\n",
       "    }\n",
       "\n",
       "    .dataframe thead th {\n",
       "        text-align: right;\n",
       "    }\n",
       "</style>\n",
       "<table border=\"1\" class=\"dataframe\">\n",
       "  <thead>\n",
       "    <tr style=\"text-align: right;\">\n",
       "      <th></th>\n",
       "      <th>sn</th>\n",
       "      <th>run</th>\n",
       "      <th>cond</th>\n",
       "      <th>regIdx</th>\n",
       "      <th>seq</th>\n",
       "      <th>cue</th>\n",
       "      <th>reg</th>\n",
       "    </tr>\n",
       "  </thead>\n",
       "  <tbody>\n",
       "    <tr>\n",
       "      <th>0</th>\n",
       "      <td>1</td>\n",
       "      <td>1</td>\n",
       "      <td>1</td>\n",
       "      <td>1</td>\n",
       "      <td>1</td>\n",
       "      <td>L</td>\n",
       "      <td>(1,L)</td>\n",
       "    </tr>\n",
       "    <tr>\n",
       "      <th>1</th>\n",
       "      <td>1</td>\n",
       "      <td>1</td>\n",
       "      <td>2</td>\n",
       "      <td>2</td>\n",
       "      <td>1</td>\n",
       "      <td>S</td>\n",
       "      <td>(1,S)</td>\n",
       "    </tr>\n",
       "    <tr>\n",
       "      <th>2</th>\n",
       "      <td>1</td>\n",
       "      <td>1</td>\n",
       "      <td>3</td>\n",
       "      <td>3</td>\n",
       "      <td>2</td>\n",
       "      <td>L</td>\n",
       "      <td>(2,L)</td>\n",
       "    </tr>\n",
       "    <tr>\n",
       "      <th>3</th>\n",
       "      <td>1</td>\n",
       "      <td>1</td>\n",
       "      <td>4</td>\n",
       "      <td>4</td>\n",
       "      <td>2</td>\n",
       "      <td>S</td>\n",
       "      <td>(2,S)</td>\n",
       "    </tr>\n",
       "    <tr>\n",
       "      <th>4</th>\n",
       "      <td>1</td>\n",
       "      <td>1</td>\n",
       "      <td>5</td>\n",
       "      <td>5</td>\n",
       "      <td>3</td>\n",
       "      <td>L</td>\n",
       "      <td>(3,L)</td>\n",
       "    </tr>\n",
       "    <tr>\n",
       "      <th>...</th>\n",
       "      <td>...</td>\n",
       "      <td>...</td>\n",
       "      <td>...</td>\n",
       "      <td>...</td>\n",
       "      <td>...</td>\n",
       "      <td>...</td>\n",
       "      <td>...</td>\n",
       "    </tr>\n",
       "    <tr>\n",
       "      <th>59</th>\n",
       "      <td>1</td>\n",
       "      <td>8</td>\n",
       "      <td>4</td>\n",
       "      <td>60</td>\n",
       "      <td>2</td>\n",
       "      <td>S</td>\n",
       "      <td>(2,S)</td>\n",
       "    </tr>\n",
       "    <tr>\n",
       "      <th>60</th>\n",
       "      <td>1</td>\n",
       "      <td>8</td>\n",
       "      <td>5</td>\n",
       "      <td>61</td>\n",
       "      <td>3</td>\n",
       "      <td>L</td>\n",
       "      <td>(3,L)</td>\n",
       "    </tr>\n",
       "    <tr>\n",
       "      <th>61</th>\n",
       "      <td>1</td>\n",
       "      <td>8</td>\n",
       "      <td>6</td>\n",
       "      <td>62</td>\n",
       "      <td>3</td>\n",
       "      <td>S</td>\n",
       "      <td>(3,S)</td>\n",
       "    </tr>\n",
       "    <tr>\n",
       "      <th>62</th>\n",
       "      <td>1</td>\n",
       "      <td>8</td>\n",
       "      <td>7</td>\n",
       "      <td>63</td>\n",
       "      <td>4</td>\n",
       "      <td>L</td>\n",
       "      <td>(4,L)</td>\n",
       "    </tr>\n",
       "    <tr>\n",
       "      <th>63</th>\n",
       "      <td>1</td>\n",
       "      <td>8</td>\n",
       "      <td>8</td>\n",
       "      <td>64</td>\n",
       "      <td>4</td>\n",
       "      <td>S</td>\n",
       "      <td>(4,S)</td>\n",
       "    </tr>\n",
       "  </tbody>\n",
       "</table>\n",
       "<p>64 rows × 7 columns</p>\n",
       "</div>"
      ],
      "text/plain": [
       "    sn  run  cond  regIdx  seq cue    reg\n",
       "0    1    1     1       1    1   L  (1,L)\n",
       "1    1    1     2       2    1   S  (1,S)\n",
       "2    1    1     3       3    2   L  (2,L)\n",
       "3    1    1     4       4    2   S  (2,S)\n",
       "4    1    1     5       5    3   L  (3,L)\n",
       "..  ..  ...   ...     ...  ...  ..    ...\n",
       "59   1    8     4      60    2   S  (2,S)\n",
       "60   1    8     5      61    3   L  (3,L)\n",
       "61   1    8     6      62    3   S  (3,S)\n",
       "62   1    8     7      63    4   L  (4,L)\n",
       "63   1    8     8      64    4   S  (4,S)\n",
       "\n",
       "[64 rows x 7 columns]"
      ]
     },
     "execution_count": 14,
     "metadata": {},
     "output_type": "execute_result"
    }
   ],
   "source": [
    "reginfo = su.get_reginfo(subj='S01', glm=glm)\n",
    "obs_des = {\n",
    "    'cond_vec': reginfo.cond,\n",
    "    'part_vec': reginfo.run\n",
    "}\n",
    "reginfo"
   ]
  },
  {
   "cell_type": "code",
   "execution_count": 15,
   "id": "550ddb20-616c-469f-a1af-acbabc7f4694",
   "metadata": {},
   "outputs": [
    {
     "name": "stdout",
     "output_type": "stream",
     "text": [
      "['S01', 'S02', 'S03', 'S05', 'S06', 'S08', 'S09', 'S10', 'S11', 'S12', 'S13', 'S14', 'R01', 'R02', 'R03', 'R05', 'R06', 'R08', 'R09', 'R10', 'R11', 'R12', 'R13', 'R14']\n"
     ]
    }
   ],
   "source": [
    "list_nn = su.get_list_sn()\n",
    "\n",
    "list_subj = []\n",
    "for ss in ['S','R']:\n",
    "    for nn in list_nn:\n",
    "        list_subj.append(ss+nn)\n",
    "print(list_subj)"
   ]
  },
  {
   "cell_type": "code",
   "execution_count": 16,
   "id": "6a6b8236-6ecb-46cd-8a17-5bd463af5072",
   "metadata": {},
   "outputs": [
    {
     "data": {
      "text/plain": [
       "array(['S1', 'M1', 'PMd', 'PMv', 'SMA', 'V1', 'SPLa', 'SPLp'], dtype='<U4')"
      ]
     },
     "execution_count": 16,
     "metadata": {},
     "output_type": "execute_result"
    }
   ],
   "source": [
    "list_roi = simage.get_list_roi()\n",
    "list_roi"
   ]
  },
  {
   "cell_type": "markdown",
   "id": "7dd824fc-688f-458e-b9f2-bb99c743b58c",
   "metadata": {},
   "source": [
    "### Organizing data by ROI"
   ]
  },
  {
   "cell_type": "code",
   "execution_count": 17,
   "id": "519fb330-eab7-4221-98c3-8d78c1625d38",
   "metadata": {},
   "outputs": [
    {
     "name": "stderr",
     "output_type": "stream",
     "text": [
      "100%|█████████████████████████████████████████████| 8/8 [00:18<00:00,  2.34s/it]\n"
     ]
    },
    {
     "data": {
      "text/plain": [
       "dict_keys(['S1', 'M1', 'PMd', 'PMv', 'SMA', 'V1', 'SPLa', 'SPLp'])"
      ]
     },
     "execution_count": 17,
     "metadata": {},
     "output_type": "execute_result"
    }
   ],
   "source": [
    "dict_Y = {}\n",
    "for roi in tqdm(list_roi):\n",
    "    tmp = []\n",
    "    for ss, subj in enumerate(list_subj):\n",
    "        sidx = int(subj[1:])\n",
    "        param = df_param[(df_param.subj==sidx)&(df_param.roi==roi)].param.values[0]\n",
    "        beta_whiten = simage.get_prewhitened_beta(subj=subj,glm=glm,region=roi,param=param)\n",
    "        dataset = pcm.dataset.Dataset(\n",
    "            measurements=beta_whiten,\n",
    "            obs_descriptors=obs_des\n",
    "        )\n",
    "        tmp.append(dataset)\n",
    "    dict_Y[roi] = tmp\n",
    "dict_Y.keys()"
   ]
  },
  {
   "cell_type": "markdown",
   "id": "ea847094-3bac-4673-b32a-1db2d4d90899",
   "metadata": {},
   "source": [
    "---"
   ]
  },
  {
   "cell_type": "markdown",
   "id": "8ded6c29-53b3-421a-8644-c4e32c980bdf",
   "metadata": {},
   "source": [
    "## Decoding Accuracy"
   ]
  },
  {
   "cell_type": "code",
   "execution_count": 18,
   "id": "ac828835-a96c-460f-a2c5-45317c6ddfbd",
   "metadata": {},
   "outputs": [],
   "source": [
    "dir_result = su.get_dir_result()\n",
    "dir_work = join(dir_result,'GLM_%d.classification'%glm)\n",
    "\n",
    "makedirs(dir_work, exist_ok=True)"
   ]
  },
  {
   "cell_type": "code",
   "execution_count": 19,
   "id": "ef3ab0b8-7a3c-4fa7-b7c2-0a072d5dc9b8",
   "metadata": {},
   "outputs": [],
   "source": [
    "from sklearn.model_selection import LeaveOneGroupOut\n",
    "from sklearn.metrics import accuracy_score, confusion_matrix, classification_report\n",
    "from sklearn.preprocessing import StandardScaler"
   ]
  },
  {
   "cell_type": "code",
   "execution_count": 20,
   "id": "c8a0cacc-6b99-4b2f-bea2-c6a40fe0acf9",
   "metadata": {},
   "outputs": [],
   "source": [
    "nruns = 8\n",
    "samples_per_run = 8"
   ]
  },
  {
   "cell_type": "markdown",
   "id": "8bf2d478-2043-42cd-b118-4a2d3a0e13ba",
   "metadata": {},
   "source": [
    "### 1. Support Vector Machine (Sequence)"
   ]
  },
  {
   "cell_type": "code",
   "execution_count": 21,
   "id": "76ef1dc0-611a-4473-9ec4-9c2cfa76da3a",
   "metadata": {},
   "outputs": [
    {
     "name": "stdout",
     "output_type": "stream",
     "text": [
      "64 [1 1 2 2 3 3 4 4 1 1 2 2 3 3 4 4 1 1 2 2 3 3 4 4 1 1 2 2 3 3 4 4 1 1 2 2 3\n",
      " 3 4 4 1 1 2 2 3 3 4 4 1 1 2 2 3 3 4 4 1 1 2 2 3 3 4 4]\n",
      "64 [1 1 1 1 1 1 1 1 2 2 2 2 2 2 2 2 3 3 3 3 3 3 3 3 4 4 4 4 4 4 4 4 5 5 5 5 5\n",
      " 5 5 5 6 6 6 6 6 6 6 6 7 7 7 7 7 7 7 7 8 8 8 8 8 8 8 8]\n"
     ]
    }
   ],
   "source": [
    "labels = reginfo.seq.values\n",
    "groups = reginfo.run.values\n",
    "print(len(labels), labels)\n",
    "print(len(groups), groups)"
   ]
  },
  {
   "cell_type": "code",
   "execution_count": 22,
   "id": "28786d90-1b63-445f-82d6-c044820ab31f",
   "metadata": {},
   "outputs": [],
   "source": [
    "from sklearn.svm import SVC"
   ]
  },
  {
   "cell_type": "code",
   "execution_count": 23,
   "id": "af0ed05f-7c4d-409d-aaac-519a793752cc",
   "metadata": {},
   "outputs": [
    {
     "name": "stderr",
     "output_type": "stream",
     "text": [
      "100%|███████████████████████████████████████████| 24/24 [00:00<00:00, 45.81it/s]\n",
      "100%|███████████████████████████████████████████| 24/24 [00:00<00:00, 61.51it/s]\n",
      "100%|███████████████████████████████████████████| 24/24 [00:00<00:00, 36.64it/s]\n",
      "100%|███████████████████████████████████████████| 24/24 [00:00<00:00, 57.98it/s]\n",
      "100%|███████████████████████████████████████████| 24/24 [00:00<00:00, 54.65it/s]\n",
      "100%|███████████████████████████████████████████| 24/24 [00:00<00:00, 41.48it/s]\n",
      "100%|███████████████████████████████████████████| 24/24 [00:00<00:00, 43.21it/s]\n",
      "100%|███████████████████████████████████████████| 24/24 [00:00<00:00, 43.81it/s]\n"
     ]
    },
    {
     "data": {
      "text/html": [
       "<div>\n",
       "<style scoped>\n",
       "    .dataframe tbody tr th:only-of-type {\n",
       "        vertical-align: middle;\n",
       "    }\n",
       "\n",
       "    .dataframe tbody tr th {\n",
       "        vertical-align: top;\n",
       "    }\n",
       "\n",
       "    .dataframe thead th {\n",
       "        text-align: right;\n",
       "    }\n",
       "</style>\n",
       "<table border=\"1\" class=\"dataframe\">\n",
       "  <thead>\n",
       "    <tr style=\"text-align: right;\">\n",
       "      <th></th>\n",
       "      <th>roi</th>\n",
       "      <th>sess</th>\n",
       "      <th>subj</th>\n",
       "      <th>run</th>\n",
       "      <th>accuracy</th>\n",
       "    </tr>\n",
       "  </thead>\n",
       "  <tbody>\n",
       "    <tr>\n",
       "      <th>0</th>\n",
       "      <td>S1</td>\n",
       "      <td>S</td>\n",
       "      <td>01</td>\n",
       "      <td>1</td>\n",
       "      <td>0.250</td>\n",
       "    </tr>\n",
       "    <tr>\n",
       "      <th>1</th>\n",
       "      <td>S1</td>\n",
       "      <td>S</td>\n",
       "      <td>01</td>\n",
       "      <td>2</td>\n",
       "      <td>0.500</td>\n",
       "    </tr>\n",
       "    <tr>\n",
       "      <th>2</th>\n",
       "      <td>S1</td>\n",
       "      <td>S</td>\n",
       "      <td>01</td>\n",
       "      <td>3</td>\n",
       "      <td>0.250</td>\n",
       "    </tr>\n",
       "    <tr>\n",
       "      <th>3</th>\n",
       "      <td>S1</td>\n",
       "      <td>S</td>\n",
       "      <td>01</td>\n",
       "      <td>4</td>\n",
       "      <td>0.250</td>\n",
       "    </tr>\n",
       "    <tr>\n",
       "      <th>4</th>\n",
       "      <td>S1</td>\n",
       "      <td>S</td>\n",
       "      <td>01</td>\n",
       "      <td>5</td>\n",
       "      <td>0.375</td>\n",
       "    </tr>\n",
       "    <tr>\n",
       "      <th>...</th>\n",
       "      <td>...</td>\n",
       "      <td>...</td>\n",
       "      <td>...</td>\n",
       "      <td>...</td>\n",
       "      <td>...</td>\n",
       "    </tr>\n",
       "    <tr>\n",
       "      <th>1531</th>\n",
       "      <td>SPLp</td>\n",
       "      <td>R</td>\n",
       "      <td>14</td>\n",
       "      <td>4</td>\n",
       "      <td>0.500</td>\n",
       "    </tr>\n",
       "    <tr>\n",
       "      <th>1532</th>\n",
       "      <td>SPLp</td>\n",
       "      <td>R</td>\n",
       "      <td>14</td>\n",
       "      <td>5</td>\n",
       "      <td>0.500</td>\n",
       "    </tr>\n",
       "    <tr>\n",
       "      <th>1533</th>\n",
       "      <td>SPLp</td>\n",
       "      <td>R</td>\n",
       "      <td>14</td>\n",
       "      <td>6</td>\n",
       "      <td>0.750</td>\n",
       "    </tr>\n",
       "    <tr>\n",
       "      <th>1534</th>\n",
       "      <td>SPLp</td>\n",
       "      <td>R</td>\n",
       "      <td>14</td>\n",
       "      <td>7</td>\n",
       "      <td>0.125</td>\n",
       "    </tr>\n",
       "    <tr>\n",
       "      <th>1535</th>\n",
       "      <td>SPLp</td>\n",
       "      <td>R</td>\n",
       "      <td>14</td>\n",
       "      <td>8</td>\n",
       "      <td>0.125</td>\n",
       "    </tr>\n",
       "  </tbody>\n",
       "</table>\n",
       "<p>1536 rows × 5 columns</p>\n",
       "</div>"
      ],
      "text/plain": [
       "       roi sess subj  run  accuracy\n",
       "0       S1    S   01    1     0.250\n",
       "1       S1    S   01    2     0.500\n",
       "2       S1    S   01    3     0.250\n",
       "3       S1    S   01    4     0.250\n",
       "4       S1    S   01    5     0.375\n",
       "...    ...  ...  ...  ...       ...\n",
       "1531  SPLp    R   14    4     0.500\n",
       "1532  SPLp    R   14    5     0.500\n",
       "1533  SPLp    R   14    6     0.750\n",
       "1534  SPLp    R   14    7     0.125\n",
       "1535  SPLp    R   14    8     0.125\n",
       "\n",
       "[1536 rows x 5 columns]"
      ]
     },
     "execution_count": 23,
     "metadata": {},
     "output_type": "execute_result"
    }
   ],
   "source": [
    "lines = []\n",
    "for roi in list_roi:\n",
    "    for sn, subj in enumerate(tqdm(list_subj)):\n",
    "        sess = subj[0]\n",
    "        nn = subj[1:]\n",
    "        \n",
    "        X = dict_Y[roi][sn].measurements\n",
    "        nsamples, nfeatures = X.shape\n",
    "        \n",
    "        model = SVC(kernel='linear', C=1.0)\n",
    "        scaler = StandardScaler()\n",
    "        \n",
    "        logo = LeaveOneGroupOut()\n",
    "        nsplits = logo.get_n_splits(X=X, y=labels, groups=groups)\n",
    "    \n",
    "        for fold_idx, (train_idx, test_idx) in enumerate(logo.split(X, labels, groups)):\n",
    "            # print('--- Fold %d/%d ---'%(fold_idx+1,nsplits))\n",
    "        \n",
    "            X_train, X_test = X[train_idx], X[test_idx]\n",
    "            y_train, y_test = labels[train_idx], labels[test_idx]\n",
    "        \n",
    "            X_train_scaled = scaler.fit_transform(X_train)\n",
    "            X_test_scaled = scaler.transform(X_test)\n",
    "        \n",
    "            model.fit(X_train_scaled, y_train)\n",
    "        \n",
    "            y_pred = model.predict(X_test_scaled)\n",
    "        \n",
    "            accuracy = accuracy_score(y_test, y_pred)\n",
    "            lines.append(\n",
    "                {'roi':roi,'sess':sess,'subj':nn,'run':fold_idx+1,'accuracy':accuracy}\n",
    "            )\n",
    "df_svm = pd.DataFrame(lines)\n",
    "df_svm"
   ]
  },
  {
   "cell_type": "code",
   "execution_count": 24,
   "id": "db1a6eb5-28e9-44aa-875f-e15101abb12c",
   "metadata": {},
   "outputs": [
    {
     "data": {
      "image/png": "[encoded data removed]",
      "text/plain": [
       "<Figure size 1000x400 with 2 Axes>"
      ]
     },
     "metadata": {},
     "output_type": "display_data"
    }
   ],
   "source": [
    "cmap = cm.jet.resampled(8)\n",
    "data = df_svm.groupby(['roi','sess','subj'], as_index=False).mean()\n",
    "\n",
    "fig, axs = plt.subplots(ncols=2, figsize=(10,4))\n",
    "for ii, sess in enumerate(['S','R']):\n",
    "    ax = axs[ii]\n",
    "    g = sns.barplot(\n",
    "        data=data[data.sess==sess],\n",
    "        x='roi', order=list_roi,\n",
    "        y='accuracy',\n",
    "        hue='roi', hue_order=list_roi,\n",
    "        errorbar='se', capsize=0.15,\n",
    "        palette=[cmap(i) for i in range(cmap.N)],\n",
    "        ax=ax\n",
    "    )\n",
    "    g.axhline(y=0.25, color='red', linestyle='--')\n",
    "    g.set_ylim(0,1.0)\n",
    "    g.grid(axis='y')\n",
    "    g.set_ylabel('Accuracy for Seq.', fontsize=14)\n",
    "    g.set_xlabel('ROI', fontsize=14)\n",
    "    g.set_title('sess %s'%sess, fontsize=16)"
   ]
  },
  {
   "cell_type": "code",
   "execution_count": 25,
   "id": "1383b246-46f1-4cf5-bcb3-8c25e53bbd68",
   "metadata": {},
   "outputs": [
    {
     "name": "stdout",
     "output_type": "stream",
     "text": [
      "S1 S t(11)=5.1024, p=3.428e-04(***)\n",
      "S1 R t(11)=3.3242, p=6.780e-03(**)\n",
      "M1 S t(11)=2.5690, p=2.609e-02(*)\n",
      "M1 R t(11)=2.8871, p=1.478e-02(*)\n",
      "PMd S t(11)=3.7607, p=3.151e-03(**)\n",
      "PMd R t(11)=3.8694, p=2.611e-03(**)\n",
      "PMv S t(11)=7.1134, p=1.959e-05(****)\n",
      "PMv R t(11)=3.9462, p=2.287e-03(**)\n",
      "SMA S t(11)=2.4277, p=3.354e-02(*)\n",
      "SMA R t(11)=5.0513, p=3.713e-04(***)\n",
      "V1 S t(11)=4.0723, p=1.844e-03(**)\n",
      "V1 R t(11)=5.0583, p=3.672e-04(***)\n",
      "SPLa S t(11)=7.2410, p=1.663e-05(****)\n",
      "SPLa R t(11)=7.7230, p=9.117e-06(****)\n",
      "SPLp S t(11)=3.4426, p=5.500e-03(**)\n",
      "SPLp R t(11)=4.5070, p=8.909e-04(***)\n"
     ]
    },
    {
     "data": {
      "image/png": "[encoded data removed]",
      "text/plain": [
       "<Figure size 1000x400 with 2 Axes>"
      ]
     },
     "execution_count": 25,
     "metadata": {},
     "output_type": "execute_result"
    }
   ],
   "source": [
    "dy = np.diff(ax.get_ylim())*0.025\n",
    "\n",
    "for ii, roi in enumerate(list_roi):\n",
    "    for jj, sess in enumerate(['S','R']):\n",
    "        ax = axs[jj]\n",
    "        a = data[(data.roi==roi)&(data.sess==sess)]['accuracy'].astype(float)\n",
    "        res = ttest_1samp(a, popmean=0.25)\n",
    "        if res.pvalue < 0.05:\n",
    "            print(roi, sess, 't(%d)=%.4f, p=%.3e(%s)'%(res.df,res.statistic,res.pvalue,su.convert_pval_to_star(res.pvalue)))\n",
    "            x = ii\n",
    "            y = a.mean()+a.sem()\n",
    "            ax.text(\n",
    "                x=x, y=y,\n",
    "                s=su.convert_pval_to_star(res.pvalue), fontsize=10,\n",
    "                ha='center', va='bottom'\n",
    "            )\n",
    "fig"
   ]
  },
  {
   "cell_type": "markdown",
   "id": "53d9c1c1-67fc-4f1a-858f-57926cf9de4f",
   "metadata": {},
   "source": [
    "### 2. Support Vector Machine (Cue)"
   ]
  },
  {
   "cell_type": "code",
   "execution_count": 26,
   "id": "ff9e6de1-0dc3-4d38-a2f4-43faa59fbe1e",
   "metadata": {},
   "outputs": [
    {
     "name": "stdout",
     "output_type": "stream",
     "text": [
      "64 ['L' 'S' 'L' 'S' 'L' 'S' 'L' 'S' 'L' 'S' 'L' 'S' 'L' 'S' 'L' 'S' 'L' 'S'\n",
      " 'L' 'S' 'L' 'S' 'L' 'S' 'L' 'S' 'L' 'S' 'L' 'S' 'L' 'S' 'L' 'S' 'L' 'S'\n",
      " 'L' 'S' 'L' 'S' 'L' 'S' 'L' 'S' 'L' 'S' 'L' 'S' 'L' 'S' 'L' 'S' 'L' 'S'\n",
      " 'L' 'S' 'L' 'S' 'L' 'S' 'L' 'S' 'L' 'S']\n",
      "64 [1 1 1 1 1 1 1 1 2 2 2 2 2 2 2 2 3 3 3 3 3 3 3 3 4 4 4 4 4 4 4 4 5 5 5 5 5\n",
      " 5 5 5 6 6 6 6 6 6 6 6 7 7 7 7 7 7 7 7 8 8 8 8 8 8 8 8]\n"
     ]
    }
   ],
   "source": [
    "labels = reginfo.cue.values\n",
    "groups = reginfo.run.values\n",
    "print(len(labels), labels)\n",
    "print(len(groups), groups)"
   ]
  },
  {
   "cell_type": "code",
   "execution_count": 27,
   "id": "cc953e78-e999-4b6e-8f66-6436f69c72bf",
   "metadata": {},
   "outputs": [
    {
     "name": "stderr",
     "output_type": "stream",
     "text": [
      "100%|███████████████████████████████████████████| 24/24 [00:00<00:00, 51.64it/s]\n",
      "100%|███████████████████████████████████████████| 24/24 [00:00<00:00, 60.95it/s]\n",
      "100%|███████████████████████████████████████████| 24/24 [00:00<00:00, 41.67it/s]\n",
      "100%|███████████████████████████████████████████| 24/24 [00:00<00:00, 68.96it/s]\n",
      "100%|███████████████████████████████████████████| 24/24 [00:00<00:00, 58.22it/s]\n",
      "100%|███████████████████████████████████████████| 24/24 [00:00<00:00, 55.07it/s]\n",
      "100%|███████████████████████████████████████████| 24/24 [00:00<00:00, 53.98it/s]\n",
      "100%|███████████████████████████████████████████| 24/24 [00:00<00:00, 58.06it/s]\n"
     ]
    },
    {
     "data": {
      "text/html": [
       "<div>\n",
       "<style scoped>\n",
       "    .dataframe tbody tr th:only-of-type {\n",
       "        vertical-align: middle;\n",
       "    }\n",
       "\n",
       "    .dataframe tbody tr th {\n",
       "        vertical-align: top;\n",
       "    }\n",
       "\n",
       "    .dataframe thead th {\n",
       "        text-align: right;\n",
       "    }\n",
       "</style>\n",
       "<table border=\"1\" class=\"dataframe\">\n",
       "  <thead>\n",
       "    <tr style=\"text-align: right;\">\n",
       "      <th></th>\n",
       "      <th>roi</th>\n",
       "      <th>sess</th>\n",
       "      <th>subj</th>\n",
       "      <th>run</th>\n",
       "      <th>accuracy</th>\n",
       "    </tr>\n",
       "  </thead>\n",
       "  <tbody>\n",
       "    <tr>\n",
       "      <th>0</th>\n",
       "      <td>S1</td>\n",
       "      <td>S</td>\n",
       "      <td>01</td>\n",
       "      <td>1</td>\n",
       "      <td>0.625</td>\n",
       "    </tr>\n",
       "    <tr>\n",
       "      <th>1</th>\n",
       "      <td>S1</td>\n",
       "      <td>S</td>\n",
       "      <td>01</td>\n",
       "      <td>2</td>\n",
       "      <td>0.625</td>\n",
       "    </tr>\n",
       "    <tr>\n",
       "      <th>2</th>\n",
       "      <td>S1</td>\n",
       "      <td>S</td>\n",
       "      <td>01</td>\n",
       "      <td>3</td>\n",
       "      <td>0.500</td>\n",
       "    </tr>\n",
       "    <tr>\n",
       "      <th>3</th>\n",
       "      <td>S1</td>\n",
       "      <td>S</td>\n",
       "      <td>01</td>\n",
       "      <td>4</td>\n",
       "      <td>0.500</td>\n",
       "    </tr>\n",
       "    <tr>\n",
       "      <th>4</th>\n",
       "      <td>S1</td>\n",
       "      <td>S</td>\n",
       "      <td>01</td>\n",
       "      <td>5</td>\n",
       "      <td>0.500</td>\n",
       "    </tr>\n",
       "    <tr>\n",
       "      <th>...</th>\n",
       "      <td>...</td>\n",
       "      <td>...</td>\n",
       "      <td>...</td>\n",
       "      <td>...</td>\n",
       "      <td>...</td>\n",
       "    </tr>\n",
       "    <tr>\n",
       "      <th>1531</th>\n",
       "      <td>SPLp</td>\n",
       "      <td>R</td>\n",
       "      <td>14</td>\n",
       "      <td>4</td>\n",
       "      <td>1.000</td>\n",
       "    </tr>\n",
       "    <tr>\n",
       "      <th>1532</th>\n",
       "      <td>SPLp</td>\n",
       "      <td>R</td>\n",
       "      <td>14</td>\n",
       "      <td>5</td>\n",
       "      <td>0.875</td>\n",
       "    </tr>\n",
       "    <tr>\n",
       "      <th>1533</th>\n",
       "      <td>SPLp</td>\n",
       "      <td>R</td>\n",
       "      <td>14</td>\n",
       "      <td>6</td>\n",
       "      <td>1.000</td>\n",
       "    </tr>\n",
       "    <tr>\n",
       "      <th>1534</th>\n",
       "      <td>SPLp</td>\n",
       "      <td>R</td>\n",
       "      <td>14</td>\n",
       "      <td>7</td>\n",
       "      <td>1.000</td>\n",
       "    </tr>\n",
       "    <tr>\n",
       "      <th>1535</th>\n",
       "      <td>SPLp</td>\n",
       "      <td>R</td>\n",
       "      <td>14</td>\n",
       "      <td>8</td>\n",
       "      <td>1.000</td>\n",
       "    </tr>\n",
       "  </tbody>\n",
       "</table>\n",
       "<p>1536 rows × 5 columns</p>\n",
       "</div>"
      ],
      "text/plain": [
       "       roi sess subj  run  accuracy\n",
       "0       S1    S   01    1     0.625\n",
       "1       S1    S   01    2     0.625\n",
       "2       S1    S   01    3     0.500\n",
       "3       S1    S   01    4     0.500\n",
       "4       S1    S   01    5     0.500\n",
       "...    ...  ...  ...  ...       ...\n",
       "1531  SPLp    R   14    4     1.000\n",
       "1532  SPLp    R   14    5     0.875\n",
       "1533  SPLp    R   14    6     1.000\n",
       "1534  SPLp    R   14    7     1.000\n",
       "1535  SPLp    R   14    8     1.000\n",
       "\n",
       "[1536 rows x 5 columns]"
      ]
     },
     "execution_count": 27,
     "metadata": {},
     "output_type": "execute_result"
    }
   ],
   "source": [
    "lines = []\n",
    "for roi in list_roi:\n",
    "    for sn, subj in enumerate(tqdm(list_subj)):\n",
    "        sess = subj[0]\n",
    "        nn = subj[1:]\n",
    "        \n",
    "        X = dict_Y[roi][sn].measurements\n",
    "        nsamples, nfeatures = X.shape\n",
    "        \n",
    "        model = SVC(kernel='linear', C=1.0)\n",
    "        scaler = StandardScaler()\n",
    "        \n",
    "        logo = LeaveOneGroupOut()\n",
    "        nsplits = logo.get_n_splits(X=X, y=labels, groups=groups)\n",
    "    \n",
    "        for fold_idx, (train_idx, test_idx) in enumerate(logo.split(X, labels, groups)):\n",
    "            # print('--- Fold %d/%d ---'%(fold_idx+1,nsplits))\n",
    "        \n",
    "            X_train, X_test = X[train_idx], X[test_idx]\n",
    "            y_train, y_test = labels[train_idx], labels[test_idx]\n",
    "        \n",
    "            X_train_scaled = scaler.fit_transform(X_train)\n",
    "            X_test_scaled = scaler.transform(X_test)\n",
    "        \n",
    "            model.fit(X_train_scaled, y_train)\n",
    "        \n",
    "            y_pred = model.predict(X_test_scaled)\n",
    "        \n",
    "            accuracy = accuracy_score(y_test, y_pred)\n",
    "            lines.append(\n",
    "                {'roi':roi,'sess':sess,'subj':nn,'run':fold_idx+1,'accuracy':accuracy}\n",
    "            )\n",
    "df_svm = pd.DataFrame(lines)\n",
    "df_svm"
   ]
  },
  {
   "cell_type": "code",
   "execution_count": 28,
   "id": "a3b1d047-1e78-48e5-8b8d-8d2be0fbee26",
   "metadata": {},
   "outputs": [
    {
     "data": {
      "image/png": "[encoded data removed]",
      "text/plain": [
       "<Figure size 1000x400 with 2 Axes>"
      ]
     },
     "metadata": {},
     "output_type": "display_data"
    }
   ],
   "source": [
    "cmap = cm.jet.resampled(8)\n",
    "data = df_svm.groupby(['roi','sess','subj'], as_index=False).mean()\n",
    "\n",
    "fig, axs = plt.subplots(ncols=2, figsize=(10,4))\n",
    "for ii, sess in enumerate(['S','R']):\n",
    "    ax = axs[ii]\n",
    "    g = sns.barplot(\n",
    "        data=data[data.sess==sess],\n",
    "        x='roi', order=list_roi,\n",
    "        y='accuracy',\n",
    "        hue='roi', hue_order=list_roi,\n",
    "        errorbar='se', capsize=0.15,\n",
    "        palette=[cmap(i) for i in range(cmap.N)],\n",
    "        ax=ax\n",
    "    )\n",
    "    g.axhline(y=0.5, color='red', linestyle='--')\n",
    "    g.set_ylim(0,1.2)\n",
    "    g.grid(axis='y')\n",
    "    g.set_ylabel('Accuracy for Seq.', fontsize=14)\n",
    "    g.set_xlabel('ROI', fontsize=14)\n",
    "    g.set_title('sess %s'%sess, fontsize=16)"
   ]
  },
  {
   "cell_type": "code",
   "execution_count": 29,
   "id": "43570532-5613-495c-aa53-175d1b2c09fb",
   "metadata": {},
   "outputs": [
    {
     "name": "stdout",
     "output_type": "stream",
     "text": [
      "S1 S t(11)=4.9556, p=4.318e-04(***)\n",
      "S1 R t(11)=6.3239, p=5.647e-05(****)\n",
      "M1 S t(11)=5.6070, p=1.586e-04(***)\n",
      "M1 R t(11)=4.3425, p=1.170e-03(**)\n",
      "PMd S t(11)=9.9073, p=8.114e-07(****)\n",
      "PMd R t(11)=7.6023, p=1.057e-05(****)\n",
      "PMv S t(11)=11.3827, p=1.998e-07(****)\n",
      "PMv R t(11)=8.2572, p=4.829e-06(****)\n",
      "SMA S t(11)=3.6250, p=3.991e-03(**)\n",
      "SMA R t(11)=3.4778, p=5.169e-03(**)\n",
      "V1 S t(11)=32.8866, p=2.452e-12(****)\n",
      "V1 R t(11)=13.5424, p=3.326e-08(****)\n",
      "SPLa S t(11)=12.9518, p=5.289e-08(****)\n",
      "SPLa R t(11)=8.6213, p=3.186e-06(****)\n",
      "SPLp S t(11)=18.1124, p=1.544e-09(****)\n",
      "SPLp R t(11)=11.1317, p=2.508e-07(****)\n"
     ]
    },
    {
     "data": {
      "image/png": "[encoded data removed]",
      "text/plain": [
       "<Figure size 1000x400 with 2 Axes>"
      ]
     },
     "execution_count": 29,
     "metadata": {},
     "output_type": "execute_result"
    }
   ],
   "source": [
    "dy = np.diff(ax.get_ylim())*0.025\n",
    "\n",
    "for ii, roi in enumerate(list_roi):\n",
    "    for jj, sess in enumerate(['S','R']):\n",
    "        ax = axs[jj]\n",
    "        a = data[(data.roi==roi)&(data.sess==sess)]['accuracy'].astype(float)\n",
    "        res = ttest_1samp(a, popmean=0.5)\n",
    "        if res.pvalue < 0.05:\n",
    "            print(roi, sess, 't(%d)=%.4f, p=%.3e(%s)'%(res.df,res.statistic,res.pvalue,su.convert_pval_to_star(res.pvalue)))\n",
    "            x = ii\n",
    "            y = a.mean()+a.sem()\n",
    "            ax.text(\n",
    "                x=x, y=y,\n",
    "                s=su.convert_pval_to_star(res.pvalue), fontsize=10,\n",
    "                ha='center', va='bottom'\n",
    "            )\n",
    "fig"
   ]
  },
  {
   "cell_type": "markdown",
   "id": "6a2d79c3-e1f5-431a-bee6-6dd42cd250fd",
   "metadata": {},
   "source": [
    "### 3. Linear Discriminant Analysis"
   ]
  },
  {
   "cell_type": "code",
   "execution_count": 30,
   "id": "79bf5405-b89e-49cf-9ba3-329324b64dfc",
   "metadata": {},
   "outputs": [],
   "source": [
    "# fig.savefig(\n",
    "#     join(dir_work,'glm_%d.G_hat.ROIs.correlation.png'%glm),\n",
    "#     dpi=300, facecolor=[1,1,1,1],\n",
    "#     bbox_inches='tight'\n",
    "# )"
   ]
  },
  {
   "cell_type": "markdown",
   "id": "4c87a14b-dfb5-4f0a-a97c-2c6081491b59",
   "metadata": {},
   "source": [
    "---"
   ]
  }
 ],
 "metadata": {
  "kernelspec": {
   "display_name": "sss",
   "language": "python",
   "name": "sss"
  },
  "language_info": {
   "codemirror_mode": {
    "name": "ipython",
    "version": 3
   },
   "file_extension": ".py",
   "mimetype": "text/x-python",
   "name": "python",
   "nbconvert_exporter": "python",
   "pygments_lexer": "ipython3",
   "version": "3.8.20"
  }
 },
 "nbformat": 4,
 "nbformat_minor": 5
}
