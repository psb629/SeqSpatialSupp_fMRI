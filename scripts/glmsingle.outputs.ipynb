{
 "cells": [
  {
   "cell_type": "code",
   "execution_count": 1,
   "id": "8f1c2c03-097f-45a8-a1ef-8a52763e8daf",
   "metadata": {},
   "outputs": [],
   "source": [
    "import sys\n",
    "import platform\n",
    "from os.path import join, exists, abspath, dirname\n",
    "from os import getcwd, makedirs\n",
    "from glob import glob\n",
    "\n",
    "import numpy as np\n",
    "import pandas as pd\n",
    "import matplotlib.pyplot as plt\n",
    "from matplotlib import colormaps, cm, colors\n",
    "import scipy\n",
    "from scipy.stats import ttest_1samp, pearsonr\n",
    "from sklearn.metrics import r2_score\n",
    "import seaborn as sns\n",
    "\n",
    "from tqdm import tqdm"
   ]
  },
  {
   "cell_type": "code",
   "execution_count": 2,
   "id": "ae9f5f62-689a-4276-a0cd-0c4f05a8f6f1",
   "metadata": {},
   "outputs": [],
   "source": [
    "import nibabel as nb\n",
    "from nilearn import plotting, image\n",
    "from nipype.interfaces import fsl"
   ]
  },
  {
   "cell_type": "code",
   "execution_count": 3,
   "id": "47742f37-bfce-44aa-b2ba-9a5c450f4fac",
   "metadata": {},
   "outputs": [
    {
     "data": {
      "text/plain": [
       "'/home/sungbeenpark/github'"
      ]
     },
     "execution_count": 3,
     "metadata": {},
     "output_type": "execute_result"
    }
   ],
   "source": [
    "dir_current = getcwd().replace('\\\\','/')\n",
    "\n",
    "tmp = dir_current.split('/')\n",
    "idx = [ii for ii, s in enumerate(tmp) if s=='github'][0]\n",
    "\n",
    "dir_git = '/'.join(tmp[:idx+1])\n",
    "dir_git"
   ]
  },
  {
   "cell_type": "code",
   "execution_count": 4,
   "id": "495f3dda-caf5-4296-9182-1c9ea46cfefe",
   "metadata": {},
   "outputs": [],
   "source": [
    "dname = join(dir_git,'nitools')\n",
    "sys.path.append(dname)\n",
    "import nitools as nt"
   ]
  },
  {
   "cell_type": "code",
   "execution_count": 5,
   "id": "5385c6e4-1067-4715-954b-72c5b9252894",
   "metadata": {},
   "outputs": [],
   "source": [
    "dname = join(dir_git,'SUITPy')\n",
    "sys.path.append(dname)\n",
    "import SUITPy as suit"
   ]
  },
  {
   "cell_type": "code",
   "execution_count": 6,
   "id": "91a5a34d-398c-4fae-8034-819db87def7c",
   "metadata": {},
   "outputs": [],
   "source": [
    "dname = join(dir_git)\n",
    "sys.path.append(dname)\n",
    "import surfAnalysisPy as surf"
   ]
  },
  {
   "cell_type": "code",
   "execution_count": 7,
   "id": "f4e8e268-fa6a-49ff-afc2-3528d00d210a",
   "metadata": {},
   "outputs": [],
   "source": [
    "dname = join(dir_git,'Functional_Fusion')\n",
    "sys.path.append(dname)\n",
    "import Functional_Fusion.atlas_map as am\n",
    "import Functional_Fusion.reliability as rel"
   ]
  },
  {
   "cell_type": "code",
   "execution_count": 8,
   "id": "da2d91d3-c57e-41be-b171-c946442e9747",
   "metadata": {},
   "outputs": [],
   "source": [
    "dname = join(dir_git,'PcmPy')\n",
    "sys.path.append(dname)\n",
    "import PcmPy as pcm"
   ]
  },
  {
   "cell_type": "code",
   "execution_count": 9,
   "id": "6f8001ea-2c76-4a7a-bc3f-aec68128aeb0",
   "metadata": {},
   "outputs": [],
   "source": [
    "dname = join(dir_git,'SeqSpatialSupp_fMRI')\n",
    "sys.path.append(dname)\n",
    "from SSS import deal_spm\n",
    "from SSS import util as su\n",
    "from SSS import plot as splt\n",
    "from SSS import image as simage\n",
    "from SSS import glmsingle as ssingle"
   ]
  },
  {
   "cell_type": "markdown",
   "id": "2e7a6a3e-ea3c-4629-892a-aa56f07c4e24",
   "metadata": {},
   "source": [
    "---"
   ]
  },
  {
   "cell_type": "code",
   "execution_count": 10,
   "id": "ed9d4d0b-5894-48af-98dc-f0b218de0d45",
   "metadata": {},
   "outputs": [],
   "source": [
    "list_sn = su.get_list_sn()"
   ]
  },
  {
   "cell_type": "markdown",
   "id": "7a89bbda-7235-4616-94f8-29ec243c1290",
   "metadata": {},
   "source": [
    "---"
   ]
  },
  {
   "cell_type": "code",
   "execution_count": 11,
   "id": "3a2d4e81-f07e-4b7f-9f45-3250ff75b140",
   "metadata": {},
   "outputs": [],
   "source": [
    "h = 'L'\n",
    "list_roi = simage.get_list_roi()"
   ]
  },
  {
   "cell_type": "markdown",
   "id": "9c5a9720-67be-4a0b-89b8-c94d7ba3e655",
   "metadata": {},
   "source": [
    "---"
   ]
  },
  {
   "cell_type": "code",
   "execution_count": 12,
   "id": "96900ab2-91a0-4c6e-ab47-add1338a5a3f",
   "metadata": {},
   "outputs": [
    {
     "data": {
      "text/plain": [
       "'/mnt/f/SeqSpatialSupp_fMRI/GLMsingle/glm_1'"
      ]
     },
     "execution_count": 12,
     "metadata": {},
     "output_type": "execute_result"
    }
   ],
   "source": [
    "glm = 1\n",
    "dir_glm = ssingle.get_dir_glmsingle(glm)\n",
    "dir_glm"
   ]
  },
  {
   "cell_type": "markdown",
   "id": "12dccfaa-3a8c-4472-a9c5-03461b261cdf",
   "metadata": {},
   "source": [
    "---"
   ]
  },
  {
   "cell_type": "code",
   "execution_count": 13,
   "id": "e05bb3cc-b982-4cb7-b7d7-d10bea9c3f4f",
   "metadata": {},
   "outputs": [],
   "source": [
    "subj = 'S01'"
   ]
  },
  {
   "cell_type": "code",
   "execution_count": 14,
   "id": "53724deb-89db-4364-af5d-caee1c1e3aae",
   "metadata": {},
   "outputs": [
    {
     "data": {
      "text/plain": [
       "(116, 116, 57)"
      ]
     },
     "execution_count": 14,
     "metadata": {},
     "output_type": "execute_result"
    }
   ],
   "source": [
    "mask = simage.load_mask(subj=subj)\n",
    "mask.shape"
   ]
  },
  {
   "cell_type": "markdown",
   "id": "838fbb49-5c1d-4a06-87ae-4035a2e57ce1",
   "metadata": {},
   "source": [
    "---"
   ]
  },
  {
   "cell_type": "markdown",
   "id": "22e1e371-4572-4117-a12e-287e73ab3eea",
   "metadata": {},
   "source": [
    "reference: [https://glmsingle.readthedocs.io/en/latest/matlab.html](https://glmsingle.readthedocs.io/en/latest/matlab.html)"
   ]
  },
  {
   "cell_type": "markdown",
   "id": "eaf508be-02e6-4c2c-b967-f3e558a904f8",
   "metadata": {},
   "source": [
    "## Model"
   ]
  },
  {
   "cell_type": "markdown",
   "id": "1890a599-904e-4e7f-99dd-a545dbe5d753",
   "metadata": {},
   "source": [
    "### Type A (On-Off Model)\n",
    "\n",
    "A = simple ONOFF model"
   ]
  },
  {
   "cell_type": "code",
   "execution_count": 15,
   "id": "09350758-018d-4386-9a09-38e2d817f8ab",
   "metadata": {},
   "outputs": [
    {
     "data": {
      "text/plain": [
       "<KeysViewHDF5 ['#refs#', 'R2', 'R2run', 'meanvol', 'modelmd', 'residstd', 'residstdlowpass']>"
      ]
     },
     "execution_count": 15,
     "metadata": {},
     "output_type": "execute_result"
    }
   ],
   "source": [
    "model = ssingle.load_model(subj,glm,type='A')\n",
    "model.keys()"
   ]
  },
  {
   "cell_type": "markdown",
   "id": "2397a03a-e47c-4523-9d7e-2351cd325c14",
   "metadata": {},
   "source": [
    "`GLMsingle` returns model results in the output variable *results*. These results are saved to disk in files called ‘TYPEA…’, ‘TYPEB…’, and so on. There are various outputs for each of the four model types:\n",
    "\n",
    "- `modelmd` is either:\n",
    "    1. the HRF (time x 1) and ON-OFF beta weights (X x Y x Z)\n",
    "    2. the full set of single-trial beta weights (X x Y x Z x TRIALS)\n",
    "\n",
    "- `R2` is model accuracy expressed in terms of R^2 (percentage, 0-100).\n",
    "\n",
    "- `R2run` is R2 separated by run\n",
    "\n",
    "- `meanvol` is the mean of all volumes"
   ]
  },
  {
   "cell_type": "markdown",
   "id": "c6e3ee18-7473-4e2b-a594-ebe75bacca22",
   "metadata": {},
   "source": [
    "### Type B (FIT HRF)\n",
    "\n",
    "B = single-trial estimates using a tailored HRF for every voxel"
   ]
  },
  {
   "cell_type": "code",
   "execution_count": 16,
   "id": "e97513bb-debd-48b2-95c4-38a1fb7b2748",
   "metadata": {},
   "outputs": [
    {
     "data": {
      "text/plain": [
       "<KeysViewHDF5 ['FitHRFR2', 'FitHRFR2run', 'HRFindex', 'HRFindexrun', 'R2', 'R2run', 'meanvol', 'modelmd']>"
      ]
     },
     "execution_count": 16,
     "metadata": {},
     "output_type": "execute_result"
    }
   ],
   "source": [
    "model = ssingle.load_model(subj,glm,type='B')\n",
    "model.keys()"
   ]
  },
  {
   "cell_type": "markdown",
   "id": "23fe14d5-7501-482b-a386-06c2d310f984",
   "metadata": {},
   "source": [
    "- `FitHRFR2` is the R2 for each of the different HRFs in the library\n",
    "\n",
    "- `FitHRFR2run` is separated by run\n",
    "\n",
    "- `HRFindex` is the 1-index of the best HRF\n",
    "\n",
    "- `HRFindexrun` is HRFindex separated by run"
   ]
  },
  {
   "cell_type": "markdown",
   "id": "e1b5f8a3-bfab-4ce3-9720-a60e0c92f59d",
   "metadata": {},
   "source": [
    "### Type C (FIT HRF w/ GLM denoise)\n",
    "\n",
    "C = like B but with GLMdenoise regressors added into the model"
   ]
  },
  {
   "cell_type": "code",
   "execution_count": 17,
   "id": "a96dc4bc-3317-49a1-92f8-adf3b2ba1cd6",
   "metadata": {},
   "outputs": [
    {
     "data": {
      "text/plain": [
       "<KeysViewHDF5 ['#refs#', 'HRFindex', 'HRFindexrun', 'R2', 'R2run', 'glmbadness', 'meanvol', 'modelmd', 'noisepool', 'pcnum', 'pcregressors', 'pcvoxels', 'xvaltrend']>"
      ]
     },
     "execution_count": 17,
     "metadata": {},
     "output_type": "execute_result"
    }
   ],
   "source": [
    "model = ssingle.load_model(subj,glm,type='C')\n",
    "model.keys()"
   ]
  },
  {
   "cell_type": "markdown",
   "id": "24f59937-1df0-4a21-92df-3f2fb3438362",
   "metadata": {},
   "source": [
    "- `noisepool` indicates voxels selected for the noise pool\n",
    "\n",
    "- `pcregressors` indicates the full set of candidate GLMdenoise regressors that were found\n",
    "\n",
    "- `glmbadness` is the cross-validation results for GLMdenoise\n",
    "\n",
    "- `pcvoxels` is the set of voxels used to summarize GLMdenoise cross-validation results\n",
    "\n",
    "- `xvaltrend` is the summary GLMdenoise cross-validation result on which pcnum selection is done\n",
    "\n",
    "- `pcnum` is the number of PCs that were selected for the final model"
   ]
  },
  {
   "cell_type": "markdown",
   "id": "71070818-8d58-45eb-bddc-ca4d60933a01",
   "metadata": {},
   "source": [
    "### Type D (FIT HRF w/ GLM denoise & Ridge Regression)\n",
    "\n",
    "D = like C but with ridge regression regularization (tailored to each voxel)"
   ]
  },
  {
   "cell_type": "code",
   "execution_count": 18,
   "id": "96a14a03-10db-40eb-be70-42b7ec9acb38",
   "metadata": {},
   "outputs": [
    {
     "data": {
      "text/plain": [
       "<KeysViewHDF5 ['#refs#', 'FRACvalue', 'HRFindex', 'HRFindexrun', 'R2', 'R2run', 'glmbadness', 'meanvol', 'modelmd', 'noisepool', 'pcnum', 'pcregressors', 'pcvoxels', 'rrbadness', 'scaleoffset', 'xvaltrend']>"
      ]
     },
     "execution_count": 18,
     "metadata": {},
     "output_type": "execute_result"
    }
   ],
   "source": [
    "model = ssingle.load_model(subj,glm,type='D')\n",
    "model.keys()"
   ]
  },
  {
   "cell_type": "markdown",
   "id": "156da2a0-5abf-4df6-ada1-79ed43e56dc7",
   "metadata": {},
   "source": [
    "- `FRACvalue` is the fractional ridge regression regularization level chosen for each voxel\n",
    "\n",
    "- `rrbadness` is the cross-validation results for the ridge regression\n",
    "\n",
    "- `scaleoffset` is the scale and offset applied to RR estimates to best match the unregularized result\n",
    "\n",
    "Note that not all outputs exist for every model type."
   ]
  },
  {
   "cell_type": "markdown",
   "id": "8973a7ea-f4d6-41e4-b666-7387bd0124ac",
   "metadata": {},
   "source": [
    "---"
   ]
  },
  {
   "cell_type": "markdown",
   "id": "8ff04c65-36e7-4d88-b6f9-2988da4dcfb7",
   "metadata": {},
   "source": [
    "## Design Matrix"
   ]
  },
  {
   "cell_type": "code",
   "execution_count": 19,
   "id": "14e0cdce-655e-47a7-9060-bc233f2b0680",
   "metadata": {},
   "outputs": [
    {
     "data": {
      "text/plain": [
       "<KeysViewHDF5 ['#refs#', 'condcounts', 'condinruns', 'design', 'designSINGLE', 'endbuffers', 'numtrialrun', 'opt', 'stimdur', 'stimorder', 'tr']>"
      ]
     },
     "execution_count": 19,
     "metadata": {},
     "output_type": "execute_result"
    }
   ],
   "source": [
    "designinfo = ssingle.load_designinfo(subj, glm)\n",
    "designinfo.keys()"
   ]
  },
  {
   "cell_type": "markdown",
   "id": "fee48e48-ce21-462a-9a18-12b2332031e6",
   "metadata": {},
   "source": [
    "`GLMsingle` also returns design-related results in the output variable *resultsdesign*. These results are saved to disk to a file called ‘DESIGNINFO…’. The outputs include:\n",
    "\n",
    "- `design` is as specified by the user (with possibly some minor regularization)\n",
    "\n",
    "- `stimdur` is as specified by the user\n",
    "\n",
    "- `tr` is as specified by the user\n",
    "\n",
    "- `opt` is as specified by the user (with possibly some minor regularization)\n",
    "\n",
    "- `designSINGLE` is a single-trial design matrix corresponding to *design*\n",
    "\n",
    "- `stimorder` is a row vector indicating which condition (1-indexed) each trial (in chronological order) belongs to\n",
    "\n",
    "- `numtrialrun` is a row vector with the number of trials in each run\n",
    "\n",
    "- `condcounts` is a row vector with the number of trials associated with each condition\n",
    "\n",
    "- `condinruns` is a row vector with the number of runs that each condition shows up in\n",
    "\n",
    "- `endbuffers` is a row vector with the number of seconds after the last trial onset in each run"
   ]
  },
  {
   "cell_type": "markdown",
   "id": "edaa0aa5-491d-463e-bd72-a27da43fbacc",
   "metadata": {},
   "source": [
    "---"
   ]
  },
  {
   "cell_type": "markdown",
   "id": "d081098a-0b1b-4141-a617-5c4e5974d008",
   "metadata": {},
   "source": [
    "## FIR"
   ]
  },
  {
   "cell_type": "code",
   "execution_count": 20,
   "id": "c7c3a093-f331-4931-a838-bf9795c6a00a",
   "metadata": {},
   "outputs": [
    {
     "data": {
      "text/plain": [
       "<KeysViewHDF5 ['firR2', 'firavg', 'firgrandavg', 'firtcs']>"
      ]
     },
     "execution_count": 20,
     "metadata": {},
     "output_type": "execute_result"
    }
   ],
   "source": [
    "FIR = ssingle.load_FIR(subj, glm)\n",
    "FIR.keys()"
   ]
  },
  {
   "cell_type": "markdown",
   "id": "e4b74c76-1df9-4209-9657-a964cca9aad0",
   "metadata": {},
   "source": [
    "`GLMsingle` also returns diagnostic FIR-related results — these are saved to disk to a file called ‘RUNWISEFIR…’. The outputs include:\n",
    "\n",
    "- `firR2` is the R2 of the FIR model for each run (X x Y x Z x run).\n",
    "\n",
    "- `firtcs` is the estimated FIR timecourse for each run (X x Y x Z x 1 x time x run). Note that the first time point is coincident with trial onset and the time points are at the sampling rate corresponding to *tr*.\n",
    "\n",
    "- `firavg` is the estimated FIR timecourse in each run (time x run). These are obtained by calculating the median timecourse across the “best” voxels (see opt.firpct).\n",
    "\n",
    "- `firgrandavg` is the average of *firavg* across runs (time x 1)."
   ]
  },
  {
   "cell_type": "markdown",
   "id": "0881931d-abc7-4e75-b918-29d14d59e1cf",
   "metadata": {},
   "source": [
    "---"
   ]
  },
  {
   "cell_type": "code",
   "execution_count": 38,
   "id": "690c166c-068a-47cb-90f8-2ce321953c7c",
   "metadata": {},
   "outputs": [
    {
     "name": "stdout",
     "output_type": "stream",
     "text": [
      "(8, 57, 116, 116)\n",
      "(116, 116, 57, 8)\n"
     ]
    }
   ],
   "source": [
    "#Find a voxel with highest variance explained of the ON-OFF model\n",
    "R2 = model['R2run'][:]\n",
    "print(R2.shape)\n",
    "R2 = R2.transpose(3,2,1,0)\n",
    "print(R2.shape)"
   ]
  },
  {
   "cell_type": "code",
   "execution_count": 34,
   "id": "3ff5d946-9021-4d71-a827-002b3a08fd2b",
   "metadata": {},
   "outputs": [],
   "source": [
    "residstd = model['residstd'][:].transpose(2,1,0)"
   ]
  },
  {
   "cell_type": "code",
   "execution_count": 44,
   "id": "f115bbb0-ac42-4d70-98b5-60c38b224cf0",
   "metadata": {},
   "outputs": [
    {
     "data": {
      "text/plain": [
       "<Axes: ylabel='Count'>"
      ]
     },
     "execution_count": 44,
     "metadata": {},
     "output_type": "execute_result"
    },
    {
     "data": {
      "image/png": "[encoded data removed]",
      "text/plain": [
       "<Figure size 640x480 with 1 Axes>"
      ]
     },
     "metadata": {},
     "output_type": "display_data"
    }
   ],
   "source": [
    "tmp = residstd.flatten()\n",
    "sns.histplot(tmp[tmp>0])"
   ]
  },
  {
   "cell_type": "code",
   "execution_count": 42,
   "id": "37ce992e-8641-4f0f-89ba-f5375fa92576",
   "metadata": {},
   "outputs": [],
   "source": [
    "# plotting.view_img(\n",
    "#     nb.Nifti1Image(residstd, affine=mask.affine, header=mask.header),\n",
    "#     vmin=0, vmax=10,\n",
    "#     symmetric_cmap=False, cmap=cm.Reds\n",
    "# )"
   ]
  },
  {
   "cell_type": "markdown",
   "id": "688a3000-8d2e-4766-94d7-766769061c67",
   "metadata": {},
   "source": [
    "---"
   ]
  },
  {
   "cell_type": "code",
   "execution_count": null,
   "id": "dd1b7c5d-187d-4273-b2c0-e43e975bef35",
   "metadata": {},
   "outputs": [],
   "source": []
  }
 ],
 "metadata": {
  "kernelspec": {
   "display_name": "sss",
   "language": "python",
   "name": "sss"
  },
  "language_info": {
   "codemirror_mode": {
    "name": "ipython",
    "version": 3
   },
   "file_extension": ".py",
   "mimetype": "text/x-python",
   "name": "python",
   "nbconvert_exporter": "python",
   "pygments_lexer": "ipython3",
   "version": "3.8.20"
  }
 },
 "nbformat": 4,
 "nbformat_minor": 5
}
