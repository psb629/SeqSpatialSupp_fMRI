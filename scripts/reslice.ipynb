{
 "cells": [
  {
   "cell_type": "code",
   "execution_count": 1,
   "id": "8f1c2c03-097f-45a8-a1ef-8a52763e8daf",
   "metadata": {},
   "outputs": [],
   "source": [
    "import sys\n",
    "from os.path import join, exists, abspath\n",
    "from os import getcwd\n",
    "from glob import glob\n",
    "\n",
    "import numpy as np\n",
    "import pandas as pd\n",
    "import matplotlib.pyplot as plt\n",
    "from matplotlib import colormaps, cm, colors\n",
    "import scipy\n",
    "import h5py\n",
    "import seaborn as sns\n",
    "\n",
    "from tqdm import tqdm"
   ]
  },
  {
   "cell_type": "code",
   "execution_count": 2,
   "id": "ae9f5f62-689a-4276-a0cd-0c4f05a8f6f1",
   "metadata": {},
   "outputs": [],
   "source": [
    "import nibabel as nb\n",
    "from nilearn import plotting\n",
    "from nipype.interfaces import fsl"
   ]
  },
  {
   "cell_type": "code",
   "execution_count": 3,
   "id": "47742f37-bfce-44aa-b2ba-9a5c450f4fac",
   "metadata": {},
   "outputs": [
    {
     "data": {
      "text/plain": [
       "'/home/sungbeenpark/github'"
      ]
     },
     "execution_count": 3,
     "metadata": {},
     "output_type": "execute_result"
    }
   ],
   "source": [
    "dir_current = getcwd().replace('\\\\','/')\n",
    "\n",
    "tmp = dir_current.split('/')\n",
    "idx = [ii for ii, s in enumerate(tmp) if s=='github'][0]\n",
    "\n",
    "dir_git = '/'.join(tmp[:idx+1])\n",
    "dir_git"
   ]
  },
  {
   "cell_type": "code",
   "execution_count": 4,
   "id": "291096a5-b23b-485e-9726-5f24a2823b9b",
   "metadata": {},
   "outputs": [
    {
     "name": "stdout",
     "output_type": "stream",
     "text": [
      "added the path, /home/sungbeenpark/github/nitools\n"
     ]
    }
   ],
   "source": [
    "path_module = abspath(join(dir_git,'nitools'))\n",
    "if exists(path_module):\n",
    "    print('added the path, %s'%path_module)\n",
    "    if path_module not in sys.path:\n",
    "        sys.path.append(path_module)\n",
    "\n",
    "import nitools as nt"
   ]
  },
  {
   "cell_type": "code",
   "execution_count": 5,
   "id": "4ac4b902-129b-4816-a79d-b1b7776099e0",
   "metadata": {},
   "outputs": [
    {
     "name": "stdout",
     "output_type": "stream",
     "text": [
      "added the path, /home/sungbeenpark/github/SUITPy\n"
     ]
    }
   ],
   "source": [
    "path_module = abspath(join(dir_git,'SUITPy'))\n",
    "if exists(path_module):\n",
    "    print('added the path, %s'%path_module)\n",
    "    if path_module not in sys.path:\n",
    "        sys.path.append(path_module)\n",
    "\n",
    "import SUITPy as suit"
   ]
  },
  {
   "cell_type": "code",
   "execution_count": 6,
   "id": "02a2c6c7-5fe0-4c52-ba5b-3ed535720931",
   "metadata": {},
   "outputs": [
    {
     "name": "stdout",
     "output_type": "stream",
     "text": [
      "added the path, /home/sungbeenpark/github\n"
     ]
    }
   ],
   "source": [
    "path_module = abspath(dir_git)\n",
    "if exists(path_module):\n",
    "    print('added the path, %s'%path_module)\n",
    "    if path_module not in sys.path:\n",
    "        sys.path.append(path_module)\n",
    "\n",
    "import surfAnalysisPy as surf"
   ]
  },
  {
   "cell_type": "markdown",
   "id": "2e7a6a3e-ea3c-4629-892a-aa56f07c4e24",
   "metadata": {},
   "source": [
    "---"
   ]
  },
  {
   "cell_type": "code",
   "execution_count": 32,
   "id": "3e1f86b2-32c2-401f-9b84-92b0cc6c6b84",
   "metadata": {},
   "outputs": [
    {
     "data": {
      "text/plain": [
       "True"
      ]
     },
     "execution_count": 32,
     "metadata": {},
     "output_type": "execute_result"
    }
   ],
   "source": [
    "subj = 'S09'\n",
    "dir_work = join('/mnt/f/SeqSpatialSupp_fMRI/freesurf',subj,'surf')\n",
    "fname = join(dir_work, 'rh.sphere.reg.surf.gii')\n",
    "exists(fname)"
   ]
  },
  {
   "cell_type": "code",
   "execution_count": 30,
   "id": "5c90e116-3ea9-4929-88fc-ee4b46288f51",
   "metadata": {},
   "outputs": [
    {
     "name": "stdout",
     "output_type": "stream",
     "text": [
      "[<GiftiDataArray pointset[125539, 3]>, <GiftiDataArray triangle[251074, 3]>]\n"
     ]
    }
   ],
   "source": [
    "surf = nb.load(fname)\n",
    "print(surf.darrays)\n",
    "data = surf.darrays[0]"
   ]
  },
  {
   "cell_type": "code",
   "execution_count": 15,
   "id": "be293181-91d0-4fcb-8389-a148af11a4da",
   "metadata": {},
   "outputs": [
    {
     "data": {
      "text/plain": [
       "array([[1, 0, 0, 0],\n",
       "       [0, 1, 0, 0],\n",
       "       [0, 0, 1, 0],\n",
       "       [0, 0, 0, 1]])"
      ]
     },
     "execution_count": 15,
     "metadata": {},
     "output_type": "execute_result"
    }
   ],
   "source": [
    "M = np.array([[1,0,0,0],[0,1,0,0],[0,0,1,0],[0,0,0,1]])\n",
    "M"
   ]
  },
  {
   "cell_type": "code",
   "execution_count": 21,
   "id": "08a8e6a7-ded5-4cea-8410-454c154567ff",
   "metadata": {},
   "outputs": [
    {
     "data": {
      "text/plain": [
       "(125539, 4)"
      ]
     },
     "execution_count": 21,
     "metadata": {},
     "output_type": "execute_result"
    }
   ],
   "source": [
    "verts = np.hstack(\n",
    "    [data.data, np.ones((data.data.shape[0],1))]\n",
    ") @ M.T\n",
    "verts.shape"
   ]
  },
  {
   "cell_type": "code",
   "execution_count": 34,
   "id": "76e35b4b-2e54-40a2-8834-d2cfc422067f",
   "metadata": {},
   "outputs": [],
   "source": [
    "surf.data = verts[:,:3]\n",
    "fname = join(dir_work,subj)\n",
    "nb.save(surf, join(dir_work,'B.gii'))"
   ]
  },
  {
   "cell_type": "code",
   "execution_count": null,
   "id": "a060c467-aa7e-47f2-a509-51fa3c2d55ab",
   "metadata": {},
   "outputs": [],
   "source": []
  }
 ],
 "metadata": {
  "kernelspec": {
   "display_name": "sss",
   "language": "python",
   "name": "sss"
  },
  "language_info": {
   "codemirror_mode": {
    "name": "ipython",
    "version": 3
   },
   "file_extension": ".py",
   "mimetype": "text/x-python",
   "name": "python",
   "nbconvert_exporter": "python",
   "pygments_lexer": "ipython3",
   "version": "3.8.20"
  }
 },
 "nbformat": 4,
 "nbformat_minor": 5
}
