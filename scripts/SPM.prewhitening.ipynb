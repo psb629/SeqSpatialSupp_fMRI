{
 "cells": [
  {
   "cell_type": "code",
   "execution_count": 1,
   "id": "8f1c2c03-097f-45a8-a1ef-8a52763e8daf",
   "metadata": {},
   "outputs": [],
   "source": [
    "import sys\n",
    "import platform\n",
    "from os.path import join, exists, abspath, dirname\n",
    "from os import getcwd, makedirs\n",
    "from glob import glob\n",
    "\n",
    "import numpy as np\n",
    "import pandas as pd\n",
    "import matplotlib.pyplot as plt\n",
    "from matplotlib import colormaps, cm, colors\n",
    "import scipy\n",
    "from sklearn.metrics import r2_score\n",
    "import seaborn as sns\n",
    "\n",
    "from tqdm import tqdm"
   ]
  },
  {
   "cell_type": "code",
   "execution_count": 2,
   "id": "ae9f5f62-689a-4276-a0cd-0c4f05a8f6f1",
   "metadata": {},
   "outputs": [],
   "source": [
    "import nibabel as nb\n",
    "from nilearn import plotting, image\n",
    "from nipype.interfaces import fsl"
   ]
  },
  {
   "cell_type": "code",
   "execution_count": 3,
   "id": "47742f37-bfce-44aa-b2ba-9a5c450f4fac",
   "metadata": {},
   "outputs": [
    {
     "data": {
      "text/plain": [
       "'/Users/sungbeenpark/github'"
      ]
     },
     "execution_count": 3,
     "metadata": {},
     "output_type": "execute_result"
    }
   ],
   "source": [
    "dir_current = getcwd().replace('\\\\','/')\n",
    "\n",
    "tmp = dir_current.split('/')\n",
    "idx = [ii for ii, s in enumerate(tmp) if s=='github'][0]\n",
    "\n",
    "dir_git = '/'.join(tmp[:idx+1])\n",
    "dir_git"
   ]
  },
  {
   "cell_type": "code",
   "execution_count": 4,
   "id": "495f3dda-caf5-4296-9182-1c9ea46cfefe",
   "metadata": {},
   "outputs": [],
   "source": [
    "dname = join(dir_git,'nitools')\n",
    "sys.path.append(dname)\n",
    "import nitools as nt"
   ]
  },
  {
   "cell_type": "code",
   "execution_count": 5,
   "id": "5385c6e4-1067-4715-954b-72c5b9252894",
   "metadata": {},
   "outputs": [],
   "source": [
    "dname = join(dir_git,'SUITPy')\n",
    "sys.path.append(dname)\n",
    "import SUITPy as suit"
   ]
  },
  {
   "cell_type": "code",
   "execution_count": 6,
   "id": "91a5a34d-398c-4fae-8034-819db87def7c",
   "metadata": {},
   "outputs": [],
   "source": [
    "dname = join(dir_git)\n",
    "sys.path.append(dname)\n",
    "import surfAnalysisPy as surf"
   ]
  },
  {
   "cell_type": "code",
   "execution_count": 7,
   "id": "6f8001ea-2c76-4a7a-bc3f-aec68128aeb0",
   "metadata": {},
   "outputs": [],
   "source": [
    "dname = join(dir_git,'SeqSpatialSupp_fMRI')\n",
    "sys.path.append(dname)\n",
    "from SSS import deal_spm\n",
    "from SSS import util as su\n",
    "from SSS import plot as splt\n",
    "from SSS import image as simage\n",
    "from SSS import glmsingle as ssingle"
   ]
  },
  {
   "cell_type": "markdown",
   "id": "2e7a6a3e-ea3c-4629-892a-aa56f07c4e24",
   "metadata": {},
   "source": [
    "---"
   ]
  },
  {
   "cell_type": "code",
   "execution_count": 8,
   "id": "f3b4cc11-f4ce-4515-a725-012cdfaf5cf1",
   "metadata": {},
   "outputs": [],
   "source": [
    "list_sn = su.get_list_sn()\n",
    "list_roi = simage.get_list_roi()\n",
    "list_run = su.get_list_run()"
   ]
  },
  {
   "cell_type": "markdown",
   "id": "29bb713b-646b-427e-baf8-e18e1d76469b",
   "metadata": {},
   "source": [
    "---"
   ]
  },
  {
   "cell_type": "code",
   "execution_count": 9,
   "id": "5aacf892-8098-4ff2-9e41-6d2ab3da1066",
   "metadata": {},
   "outputs": [],
   "source": [
    "border, brdr = simage.get_border(join(dir_git,'surfAnalysisPy'))\n",
    "hem = 'L'"
   ]
  },
  {
   "cell_type": "markdown",
   "id": "ccccee50-9bca-4f08-b580-e38b33aba35a",
   "metadata": {},
   "source": [
    "---"
   ]
  },
  {
   "cell_type": "code",
   "execution_count": 10,
   "id": "882b012d-c05d-4920-b456-532585e6d6dc",
   "metadata": {},
   "outputs": [],
   "source": [
    "glm = 1\n",
    "dir_glm = join(su.get_dir_glm(glm))"
   ]
  },
  {
   "cell_type": "markdown",
   "id": "f78b1d7f-97d5-43f8-a613-0f6fbebae7d8",
   "metadata": {},
   "source": [
    "---"
   ]
  },
  {
   "cell_type": "code",
   "execution_count": 34,
   "id": "1b926734-2d48-43aa-a6ef-b31cdb8bada9",
   "metadata": {},
   "outputs": [
    {
     "name": "stderr",
     "output_type": "stream",
     "text": [
      "100%|█████████████████████████████████████████████████████████████████████████| 12/12 [03:15<00:00, 16.29s/it]\n"
     ]
    }
   ],
   "source": [
    "for ii, sn in enumerate(tqdm(list_sn)):\n",
    "    subj = 'S'+sn\n",
    "    dir_work = join(dir_glm,subj)\n",
    "    \n",
    "    reginfo = deal_spm.load_reginfo(subj,dir_glm)\n",
    "    \n",
    "    mask = simage.load_mask(subj,glm)\n",
    "    affine = mask.affine\n",
    "    header = mask.header\n",
    "    \n",
    "    fnames = [join(dir_work,'beta_%04d.nii'%(idx+1)) for idx in reginfo.index]\n",
    "    \n",
    "    ResMS = nb.load(join(dir_work,'ResMS.nii'))\n",
    "    for fname in fnames:\n",
    "        beta = nb.load(fname)\n",
    "        beta_new = beta.get_fdata()/(np.sqrt(ResMS.get_fdata())+1.e-14)\n",
    "        \n",
    "        img = nb.Nifti1Image(beta_new, affine, header)\n",
    "        fname_new = fname.split('/')[-1].split('.')[0] + '.prewhiten.nii'\n",
    "        nb.save(img, join(dir_work,fname_new))"
   ]
  },
  {
   "cell_type": "markdown",
   "id": "ada87fcd-639d-441e-9815-1090ba7751ad",
   "metadata": {},
   "source": [
    "---"
   ]
  },
  {
   "cell_type": "code",
   "execution_count": null,
   "id": "19190ace-d45f-4638-8007-b84c359f304c",
   "metadata": {},
   "outputs": [],
   "source": []
  }
 ],
 "metadata": {
  "kernelspec": {
   "display_name": "sss",
   "language": "python",
   "name": "sss"
  },
  "language_info": {
   "codemirror_mode": {
    "name": "ipython",
    "version": 3
   },
   "file_extension": ".py",
   "mimetype": "text/x-python",
   "name": "python",
   "nbconvert_exporter": "python",
   "pygments_lexer": "ipython3",
   "version": "3.9.23"
  }
 },
 "nbformat": 4,
 "nbformat_minor": 5
}
