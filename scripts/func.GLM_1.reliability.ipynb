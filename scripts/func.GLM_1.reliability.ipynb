{
 "cells": [
  {
   "cell_type": "code",
   "execution_count": 1,
   "id": "8f1c2c03-097f-45a8-a1ef-8a52763e8daf",
   "metadata": {},
   "outputs": [],
   "source": [
    "import sys\n",
    "from os.path import join, exists, abspath\n",
    "from os import getcwd\n",
    "from glob import glob\n",
    "\n",
    "import numpy as np\n",
    "import pandas as pd\n",
    "import matplotlib.pyplot as plt\n",
    "from matplotlib import colormaps, cm, colors\n",
    "import matplotlib.patches as patches\n",
    "from mpl_toolkits.axes_grid1.inset_locator import zoomed_inset_axes, mark_inset\n",
    "import scipy\n",
    "import h5py\n",
    "import seaborn as sns\n",
    "\n",
    "from tqdm import tqdm"
   ]
  },
  {
   "cell_type": "code",
   "execution_count": 2,
   "id": "ae9f5f62-689a-4276-a0cd-0c4f05a8f6f1",
   "metadata": {},
   "outputs": [],
   "source": [
    "import nibabel as nb\n",
    "from nilearn import plotting"
   ]
  },
  {
   "cell_type": "code",
   "execution_count": 3,
   "id": "47742f37-bfce-44aa-b2ba-9a5c450f4fac",
   "metadata": {},
   "outputs": [
    {
     "data": {
      "text/plain": [
       "'/Users/sungbeenpark/github'"
      ]
     },
     "execution_count": 3,
     "metadata": {},
     "output_type": "execute_result"
    }
   ],
   "source": [
    "dir_current = getcwd().replace('\\\\','/')\n",
    "\n",
    "tmp = dir_current.split('/')\n",
    "idx = [ii for ii, s in enumerate(tmp) if s=='github'][0]\n",
    "\n",
    "dir_git = '/'.join(tmp[:idx+1])\n",
    "dir_git"
   ]
  },
  {
   "cell_type": "code",
   "execution_count": 4,
   "id": "291096a5-b23b-485e-9726-5f24a2823b9b",
   "metadata": {},
   "outputs": [],
   "source": [
    "dname = join(dir_git,'nitools')\n",
    "sys.path.append(dname)\n",
    "import nitools as nt"
   ]
  },
  {
   "cell_type": "code",
   "execution_count": 5,
   "id": "4ac4b902-129b-4816-a79d-b1b7776099e0",
   "metadata": {},
   "outputs": [],
   "source": [
    "dname = join(dir_git,'SUITPy')\n",
    "sys.path.append(dname)\n",
    "import SUITPy as suit"
   ]
  },
  {
   "cell_type": "code",
   "execution_count": 6,
   "id": "02a2c6c7-5fe0-4c52-ba5b-3ed535720931",
   "metadata": {},
   "outputs": [],
   "source": [
    "dname = join(dir_git)\n",
    "sys.path.append(dname)\n",
    "import surfAnalysisPy as surf"
   ]
  },
  {
   "cell_type": "code",
   "execution_count": 7,
   "id": "0b2a4089-f2d7-4c78-b18d-38f549398854",
   "metadata": {},
   "outputs": [],
   "source": [
    "dname = join(dir_git,'src')\n",
    "sys.path.append(dname)\n",
    "import rsatoolbox as rsa"
   ]
  },
  {
   "cell_type": "code",
   "execution_count": 9,
   "id": "4eaf1c01-501d-424a-8eab-587087f9bb55",
   "metadata": {},
   "outputs": [],
   "source": [
    "dname = join(dir_git,'Functional_Fusion')\n",
    "sys.path.append(dname)\n",
    "import Functional_Fusion.atlas_map as am\n",
    "import Functional_Fusion.reliability as rel"
   ]
  },
  {
   "cell_type": "code",
   "execution_count": 8,
   "id": "e50a3eb3-359e-4e3d-81eb-88236d6cdc3a",
   "metadata": {},
   "outputs": [],
   "source": [
    "dname = join(dir_git,'SeqSpatialSupp_fMRI')\n",
    "sys.path.append(dname)\n",
    "from SSS import deal_spm\n",
    "from SSS import util as su\n",
    "from SSS import plot as splt\n",
    "from SSS import image as simage"
   ]
  },
  {
   "cell_type": "markdown",
   "id": "2e7a6a3e-ea3c-4629-892a-aa56f07c4e24",
   "metadata": {},
   "source": [
    "---"
   ]
  },
  {
   "cell_type": "code",
   "execution_count": 10,
   "id": "c6271583-7d4c-4a93-a19d-75b9341cac5d",
   "metadata": {},
   "outputs": [],
   "source": [
    "glm = 1\n",
    "dir_glm = su.get_dir_glm(glm)"
   ]
  },
  {
   "cell_type": "markdown",
   "id": "5c2817b9-815e-4121-a79a-fc93689b3221",
   "metadata": {},
   "source": [
    "---"
   ]
  },
  {
   "cell_type": "code",
   "execution_count": 11,
   "id": "a69ea7e3-4eb4-466a-8f20-8b93eaaf93e0",
   "metadata": {},
   "outputs": [],
   "source": [
    "list_nn = su.get_list_sn()"
   ]
  },
  {
   "cell_type": "code",
   "execution_count": 12,
   "id": "94cbca10-b113-40c2-a087-1d0dec78220e",
   "metadata": {},
   "outputs": [],
   "source": [
    "h = 'L'\n",
    "list_roi = simage.get_list_roi()"
   ]
  },
  {
   "cell_type": "markdown",
   "id": "a1f09cc7-8cd5-42bc-bfbd-1dd7afde136c",
   "metadata": {},
   "source": [
    "---"
   ]
  },
  {
   "cell_type": "code",
   "execution_count": null,
   "id": "24a317d9-faa0-443a-b017-4bf1b4b6c9d5",
   "metadata": {},
   "outputs": [],
   "source": []
  },
  {
   "cell_type": "markdown",
   "id": "2fde913f-5914-424c-864d-eb0fd32a1a8a",
   "metadata": {},
   "source": [
    "---"
   ]
  }
 ],
 "metadata": {
  "kernelspec": {
   "display_name": "SSS",
   "language": "python",
   "name": "sss"
  },
  "language_info": {
   "codemirror_mode": {
    "name": "ipython",
    "version": 3
   },
   "file_extension": ".py",
   "mimetype": "text/x-python",
   "name": "python",
   "nbconvert_exporter": "python",
   "pygments_lexer": "ipython3",
   "version": "3.9.21"
  }
 },
 "nbformat": 4,
 "nbformat_minor": 5
}
