{
 "cells": [
  {
   "cell_type": "code",
   "execution_count": 1,
   "id": "8f1c2c03-097f-45a8-a1ef-8a52763e8daf",
   "metadata": {},
   "outputs": [],
   "source": [
    "import sys\n",
    "import platform\n",
    "from os.path import join, exists, abspath, dirname\n",
    "from os import getcwd, makedirs\n",
    "from glob import glob\n",
    "\n",
    "import numpy as np\n",
    "import pandas as pd\n",
    "import matplotlib.pyplot as plt\n",
    "from matplotlib import colormaps, cm, colors\n",
    "import scipy\n",
    "from scipy.stats import ttest_1samp, pearsonr\n",
    "from scipy.io import loadmat\n",
    "from sklearn.metrics import r2_score\n",
    "import seaborn as sns\n",
    "import h5py\n",
    "\n",
    "from tqdm import tqdm"
   ]
  },
  {
   "cell_type": "code",
   "execution_count": 2,
   "id": "ae9f5f62-689a-4276-a0cd-0c4f05a8f6f1",
   "metadata": {},
   "outputs": [],
   "source": [
    "import nibabel as nb\n",
    "from nilearn import plotting, image\n",
    "from nipype.interfaces import fsl"
   ]
  },
  {
   "cell_type": "code",
   "execution_count": 3,
   "id": "47742f37-bfce-44aa-b2ba-9a5c450f4fac",
   "metadata": {},
   "outputs": [
    {
     "data": {
      "text/plain": [
       "'/home/sungbeenpark/github'"
      ]
     },
     "execution_count": 3,
     "metadata": {},
     "output_type": "execute_result"
    }
   ],
   "source": [
    "dir_current = getcwd().replace('\\\\','/')\n",
    "\n",
    "tmp = dir_current.split('/')\n",
    "idx = [ii for ii, s in enumerate(tmp) if s=='github'][0]\n",
    "\n",
    "dir_git = '/'.join(tmp[:idx+1])\n",
    "dir_git"
   ]
  },
  {
   "cell_type": "code",
   "execution_count": 4,
   "id": "495f3dda-caf5-4296-9182-1c9ea46cfefe",
   "metadata": {},
   "outputs": [],
   "source": [
    "dname = join(dir_git,'nitools')\n",
    "sys.path.append(dname)\n",
    "import nitools as nt"
   ]
  },
  {
   "cell_type": "code",
   "execution_count": 5,
   "id": "5385c6e4-1067-4715-954b-72c5b9252894",
   "metadata": {},
   "outputs": [],
   "source": [
    "dname = join(dir_git,'SUITPy')\n",
    "sys.path.append(dname)\n",
    "import SUITPy as suit"
   ]
  },
  {
   "cell_type": "code",
   "execution_count": 6,
   "id": "91a5a34d-398c-4fae-8034-819db87def7c",
   "metadata": {},
   "outputs": [],
   "source": [
    "dname = join(dir_git)\n",
    "sys.path.append(dname)\n",
    "import surfAnalysisPy as surf"
   ]
  },
  {
   "cell_type": "code",
   "execution_count": 7,
   "id": "f4e8e268-fa6a-49ff-afc2-3528d00d210a",
   "metadata": {},
   "outputs": [],
   "source": [
    "dname = join(dir_git,'Functional_Fusion')\n",
    "sys.path.append(dname)\n",
    "import Functional_Fusion.atlas_map as am\n",
    "import Functional_Fusion.reliability as rel"
   ]
  },
  {
   "cell_type": "code",
   "execution_count": 8,
   "id": "da2d91d3-c57e-41be-b171-c946442e9747",
   "metadata": {},
   "outputs": [],
   "source": [
    "dname = join(dir_git,'fracridge')\n",
    "sys.path.append(dname)\n",
    "from fracridge import fracridge"
   ]
  },
  {
   "cell_type": "code",
   "execution_count": 9,
   "id": "15b82932-dded-4d27-a8b8-c5fdfb081aca",
   "metadata": {},
   "outputs": [],
   "source": [
    "dname = join(dir_git,'GLMsingle')\n",
    "sys.path.append(dname)\n",
    "import glmsingle\n",
    "from glmsingle.glmsingle import getcanonicalhrflibrary\n",
    "from glmsingle.utils.squish import squish"
   ]
  },
  {
   "cell_type": "code",
   "execution_count": 10,
   "id": "27b3d160-4cfc-45ab-9a83-b5973c132a7d",
   "metadata": {},
   "outputs": [],
   "source": [
    "dname = join(dir_git,'GLMsingle')\n",
    "sys.path.append(dname)\n",
    "import glmsingle\n",
    "from glmsingle.glmsingle import getcanonicalhrflibrary\n",
    "from glmsingle.utils.squish import squish"
   ]
  },
  {
   "cell_type": "code",
   "execution_count": 11,
   "id": "6f8001ea-2c76-4a7a-bc3f-aec68128aeb0",
   "metadata": {},
   "outputs": [],
   "source": [
    "dname = join(dir_git,'SeqSpatialSupp_fMRI')\n",
    "sys.path.append(dname)\n",
    "from SSS import deal_spm\n",
    "from SSS import util as su\n",
    "from SSS import plot as splt\n",
    "from SSS import image as simage\n",
    "from SSS import glmsingle as ssingle"
   ]
  },
  {
   "cell_type": "markdown",
   "id": "2e7a6a3e-ea3c-4629-892a-aa56f07c4e24",
   "metadata": {},
   "source": [
    "---"
   ]
  },
  {
   "cell_type": "code",
   "execution_count": 12,
   "id": "96900ab2-91a0-4c6e-ab47-add1338a5a3f",
   "metadata": {},
   "outputs": [
    {
     "data": {
      "text/plain": [
       "'/mnt/f/SeqSpatialSupp_fMRI/GLMsingle/glm_1'"
      ]
     },
     "execution_count": 12,
     "metadata": {},
     "output_type": "execute_result"
    }
   ],
   "source": [
    "glm = 1\n",
    "dir_glm = ssingle.get_dir_glmsingle(glm)\n",
    "dir_glm"
   ]
  },
  {
   "cell_type": "markdown",
   "id": "a4c3cfb2-9389-4e36-8b53-9b8d0dbe8e9c",
   "metadata": {},
   "source": [
    "---"
   ]
  },
  {
   "cell_type": "code",
   "execution_count": 13,
   "id": "fa62ae68-ab93-4426-b6ce-37496b90fb5c",
   "metadata": {},
   "outputs": [],
   "source": [
    "subj = 'S01'"
   ]
  },
  {
   "cell_type": "code",
   "execution_count": 14,
   "id": "022baef0-074c-4737-b486-74c584eb8257",
   "metadata": {},
   "outputs": [
    {
     "data": {
      "text/plain": [
       "<KeysViewHDF5 ['#refs#', 'condcounts', 'condinruns', 'design', 'designSINGLE', 'endbuffers', 'numtrialrun', 'opt', 'stimdur', 'stimorder', 'tr']>"
      ]
     },
     "execution_count": 14,
     "metadata": {},
     "output_type": "execute_result"
    }
   ],
   "source": [
    "fname = join(dir_glm, subj,'DESIGNINFO.mat')\n",
    "DESIGNINFO = h5py.File(fname)\n",
    "DESIGNINFO.keys()"
   ]
  },
  {
   "cell_type": "code",
   "execution_count": 15,
   "id": "26e17682-f4c1-428e-b08e-930e7ae7ae90",
   "metadata": {},
   "outputs": [
    {
     "data": {
      "text/plain": [
       "(8, 1)"
      ]
     },
     "execution_count": 15,
     "metadata": {},
     "output_type": "execute_result"
    }
   ],
   "source": [
    "designSINGLE = DESIGNINFO['designSINGLE']\n",
    "designSINGLE.shape"
   ]
  },
  {
   "cell_type": "code",
   "execution_count": 16,
   "id": "e4fd94fa-47b9-4344-a674-2c7fa0c891f1",
   "metadata": {},
   "outputs": [
    {
     "name": "stdout",
     "output_type": "stream",
     "text": [
      "2.0 1.0\n"
     ]
    }
   ],
   "source": [
    "stimdur = DESIGNINFO['stimdur'][:].flatten()[0]\n",
    "tr = DESIGNINFO['tr'][:].flatten()[0]\n",
    "print(stimdur, tr)"
   ]
  },
  {
   "cell_type": "markdown",
   "id": "a3278698-d2eb-4119-bfab-55024a531f5e",
   "metadata": {},
   "source": [
    "---"
   ]
  },
  {
   "cell_type": "code",
   "execution_count": 17,
   "id": "f6b2337e-233b-4881-a545-85848a2e780b",
   "metadata": {},
   "outputs": [
    {
     "data": {
      "text/plain": [
       "<KeysViewHDF5 ['#refs#', 'FRACvalue', 'HRFindex', 'HRFindexrun', 'R2', 'R2run', 'glmbadness', 'meanvol', 'modelmd', 'noisepool', 'pcnum', 'pcregressors', 'pcvoxels', 'rrbadness', 'scaleoffset', 'xvaltrend']>"
      ]
     },
     "execution_count": 17,
     "metadata": {},
     "output_type": "execute_result"
    }
   ],
   "source": [
    "fname = join(dir_glm, subj, 'TYPED_FITHRF_GLMDENOISE_RR.mat')\n",
    "GLMsingle = h5py.File(fname)\n",
    "GLMsingle.keys()"
   ]
  },
  {
   "cell_type": "code",
   "execution_count": 18,
   "id": "dfa9d8c9-c183-4c1c-ab8c-f206c1e752e7",
   "metadata": {},
   "outputs": [
    {
     "data": {
      "text/plain": [
       "(57, 116, 116)"
      ]
     },
     "execution_count": 18,
     "metadata": {},
     "output_type": "execute_result"
    }
   ],
   "source": [
    "#Find a voxel with highest variance explained of the ON-OFF model\n",
    "R2 = GLMsingle['R2'][:]\n",
    "R2.shape"
   ]
  },
  {
   "cell_type": "code",
   "execution_count": 19,
   "id": "7504da1b-c8ed-4a38-ac4f-c69a0c5244c4",
   "metadata": {},
   "outputs": [
    {
     "data": {
      "text/plain": [
       "(37, 68, 82)"
      ]
     },
     "execution_count": 19,
     "metadata": {},
     "output_type": "execute_result"
    }
   ],
   "source": [
    "idx = np.unravel_index(np.nanargmax(R2[:].flatten()),np.shape(R2))\n",
    "idx"
   ]
  },
  {
   "cell_type": "code",
   "execution_count": 20,
   "id": "a0c70b9f-75b0-4047-9bd2-4cbaa76b6989",
   "metadata": {},
   "outputs": [
    {
     "data": {
      "text/plain": [
       "(544, 57, 116, 116)"
      ]
     },
     "execution_count": 20,
     "metadata": {},
     "output_type": "execute_result"
    }
   ],
   "source": [
    "# Find voxel's betas\n",
    "betas = GLMsingle['modelmd'][:]\n",
    "betas.shape"
   ]
  },
  {
   "cell_type": "code",
   "execution_count": 21,
   "id": "9cc0aa97-6544-4918-b8e9-8e45b816a370",
   "metadata": {},
   "outputs": [
    {
     "name": "stdout",
     "output_type": "stream",
     "text": [
      "(52, 20)\n",
      "20.0\n",
      "5688.0537\n"
     ]
    }
   ],
   "source": [
    "#find hrf estimated by GLMsingle\n",
    "hrflib = getcanonicalhrflibrary(stimdur,tr).transpose()\n",
    "print(hrflib.shape)\n",
    "hrfii = squish(GLMsingle['HRFindex'],3)[np.nanargmax(R2.flatten())]\n",
    "print(hrfii)\n",
    "meansignal = squish(GLMsingle['meanvol'],3)[np.nanargmax(R2.flatten())]\n",
    "print(meansignal)"
   ]
  },
  {
   "cell_type": "markdown",
   "id": "86cff3c0-e792-450e-9c8e-1fba487381a8",
   "metadata": {},
   "source": [
    "---"
   ]
  },
  {
   "cell_type": "code",
   "execution_count": 39,
   "id": "bd8e9b42-d0e7-472a-80d3-45909000b75c",
   "metadata": {},
   "outputs": [
    {
     "data": {
      "text/plain": [
       "<HDF5 object reference>"
      ]
     },
     "execution_count": 39,
     "metadata": {},
     "output_type": "execute_result"
    }
   ],
   "source": [
    "ref = designSINGLE[1,0]\n",
    "ref"
   ]
  },
  {
   "cell_type": "code",
   "execution_count": 45,
   "id": "2b56109a-b4b5-4e25-bb2a-c728c310062f",
   "metadata": {},
   "outputs": [
    {
     "data": {
      "text/plain": [
       "(544, 407)"
      ]
     },
     "execution_count": 45,
     "metadata": {},
     "output_type": "execute_result"
    }
   ],
   "source": [
    "Xs = DESIGNINFO[ref][:]\n",
    "Xs.shape"
   ]
  },
  {
   "cell_type": "markdown",
   "id": "db6e38c8-f873-47a7-9efb-2567d35a083e",
   "metadata": {},
   "source": [
    "---"
   ]
  },
  {
   "cell_type": "code",
   "execution_count": null,
   "id": "ed9d4d0b-5894-48af-98dc-f0b218de0d45",
   "metadata": {},
   "outputs": [],
   "source": [
    "list_sn = su.get_list_sn()"
   ]
  },
  {
   "cell_type": "code",
   "execution_count": null,
   "id": "b3bf484e-d432-49a4-85ac-e8a552b1020c",
   "metadata": {},
   "outputs": [],
   "source": [
    "glm = 1\n",
    "for nn in tqdm(list_sn):\n",
    "    subj = 'S'+nn\n",
    "    ssingle.calc_y_hat(subj=subj, glm=glm)"
   ]
  },
  {
   "cell_type": "markdown",
   "id": "7a89bbda-7235-4616-94f8-29ec243c1290",
   "metadata": {},
   "source": [
    "---"
   ]
  },
  {
   "cell_type": "code",
   "execution_count": null,
   "id": "81eaf5fa-2215-4ab7-be14-6472541acf19",
   "metadata": {},
   "outputs": [],
   "source": [
    "list_run = su.get_list_run()"
   ]
  },
  {
   "cell_type": "markdown",
   "id": "9c5a9720-67be-4a0b-89b8-c94d7ba3e655",
   "metadata": {},
   "source": [
    "---"
   ]
  },
  {
   "cell_type": "code",
   "execution_count": null,
   "id": "ff5bacd2-1851-4ff5-a4c3-ebfa49c375d7",
   "metadata": {},
   "outputs": [],
   "source": [
    "Xs = ssingle.get_designSINGLE(subj,glm,run=1)\n",
    "Xs.shape"
   ]
  },
  {
   "cell_type": "code",
   "execution_count": null,
   "id": "0d972890-13b3-42df-abff-d16908a41828",
   "metadata": {},
   "outputs": [],
   "source": [
    "subj = 'S01'\n",
    "run = 'r01'\n",
    "\n",
    "dir_work = join(dir_glm, subj)\n",
    "fname = join(dir_work,'%s.Yhat.%s.nii'%(subj,run))\n",
    "fname = join(dir_work,'tmap_(1,S).nii')\n",
    "img = nb.load(fname)"
   ]
  },
  {
   "cell_type": "code",
   "execution_count": null,
   "id": "d7ad5afd-777a-47c1-8051-46504dbf1a0a",
   "metadata": {},
   "outputs": [],
   "source": [
    "plotting.view_img(\n",
    "    # stat_map_img=image.index_img(img, index=10)\n",
    "    stat_map_img=img\n",
    ")"
   ]
  },
  {
   "cell_type": "markdown",
   "id": "5d1bda27-49f5-4d0e-8afc-c48ef2958b22",
   "metadata": {},
   "source": [
    "---"
   ]
  },
  {
   "cell_type": "code",
   "execution_count": null,
   "id": "ab928104-98b8-40d7-9dc3-2b6185b22ce0",
   "metadata": {},
   "outputs": [],
   "source": [
    "run = 1"
   ]
  },
  {
   "cell_type": "code",
   "execution_count": null,
   "id": "002a5126-ee1c-4057-aad2-49dbb86f969c",
   "metadata": {},
   "outputs": [],
   "source": [
    "y_raw, affine, header = ssingle.get_y_raw(subj=subj, glm=glm, run=run)\n",
    "\n",
    "## check the validation\n",
    "assert y_raw.shape[-1] == T, f'T mismatch: X has {T} rows, y has {y_raw.shape[-1]} timepoints'\n",
    "\n",
    "## Flattened in 2D for vectorized operations\n",
    "Y_2d = y_raw.reshape(*spatial_shape, T).reshape(V, T).T  # (T, V)\n",
    "del y_raw"
   ]
  },
  {
   "cell_type": "code",
   "execution_count": null,
   "id": "f8a94b65-f5dd-4b1d-9420-5dabbda81981",
   "metadata": {},
   "outputs": [],
   "source": [
    "## get y_res\n",
    "R = Y_2d - Y_hat  # (T, V)"
   ]
  },
  {
   "cell_type": "code",
   "execution_count": null,
   "id": "3c77d6ea-e5cf-4aa4-a87e-58b3b928d69a",
   "metadata": {},
   "outputs": [],
   "source": [
    "voxel = 400000\n",
    "plt.plot(np.arange(T),Y_2d[:,voxel])\n",
    "plt.plot(np.arange(T),Y_hat[:,voxel])\n",
    "# plt.plot(np.arange(T),R[:,voxel])"
   ]
  },
  {
   "cell_type": "code",
   "execution_count": null,
   "id": "ce84aad4-d11d-4069-9475-d3fdfa7341ef",
   "metadata": {},
   "outputs": [],
   "source": []
  }
 ],
 "metadata": {
  "kernelspec": {
   "display_name": "sss",
   "language": "python",
   "name": "sss"
  },
  "language_info": {
   "codemirror_mode": {
    "name": "ipython",
    "version": 3
   },
   "file_extension": ".py",
   "mimetype": "text/x-python",
   "name": "python",
   "nbconvert_exporter": "python",
   "pygments_lexer": "ipython3",
   "version": "3.8.20"
  }
 },
 "nbformat": 4,
 "nbformat_minor": 5
}
