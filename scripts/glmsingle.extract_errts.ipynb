{
 "cells": [
  {
   "cell_type": "code",
   "execution_count": 1,
   "id": "8f1c2c03-097f-45a8-a1ef-8a52763e8daf",
   "metadata": {},
   "outputs": [],
   "source": [
    "import sys\n",
    "import platform\n",
    "from os.path import join, exists, abspath, dirname\n",
    "from os import getcwd, makedirs\n",
    "from glob import glob\n",
    "\n",
    "import numpy as np\n",
    "import pandas as pd\n",
    "import matplotlib.pyplot as plt\n",
    "from matplotlib import colormaps, cm, colors\n",
    "import scipy\n",
    "from scipy.stats import ttest_1samp, pearsonr\n",
    "from scipy.io import loadmat\n",
    "from sklearn.metrics import r2_score\n",
    "import seaborn as sns\n",
    "import h5py\n",
    "\n",
    "from tqdm import tqdm"
   ]
  },
  {
   "cell_type": "code",
   "execution_count": 2,
   "id": "ae9f5f62-689a-4276-a0cd-0c4f05a8f6f1",
   "metadata": {},
   "outputs": [],
   "source": [
    "import nibabel as nb\n",
    "from nilearn import plotting, image\n",
    "from nipype.interfaces import fsl"
   ]
  },
  {
   "cell_type": "code",
   "execution_count": 3,
   "id": "47742f37-bfce-44aa-b2ba-9a5c450f4fac",
   "metadata": {},
   "outputs": [
    {
     "data": {
      "text/plain": [
       "'/home/sungbeenpark/github'"
      ]
     },
     "execution_count": 3,
     "metadata": {},
     "output_type": "execute_result"
    }
   ],
   "source": [
    "dir_current = getcwd().replace('\\\\','/')\n",
    "\n",
    "tmp = dir_current.split('/')\n",
    "idx = [ii for ii, s in enumerate(tmp) if s=='github'][0]\n",
    "\n",
    "dir_git = '/'.join(tmp[:idx+1])\n",
    "dir_git"
   ]
  },
  {
   "cell_type": "code",
   "execution_count": 4,
   "id": "495f3dda-caf5-4296-9182-1c9ea46cfefe",
   "metadata": {},
   "outputs": [],
   "source": [
    "dname = join(dir_git,'nitools')\n",
    "sys.path.append(dname)\n",
    "import nitools as nt"
   ]
  },
  {
   "cell_type": "code",
   "execution_count": 5,
   "id": "5385c6e4-1067-4715-954b-72c5b9252894",
   "metadata": {},
   "outputs": [],
   "source": [
    "dname = join(dir_git,'SUITPy')\n",
    "sys.path.append(dname)\n",
    "import SUITPy as suit"
   ]
  },
  {
   "cell_type": "code",
   "execution_count": 6,
   "id": "91a5a34d-398c-4fae-8034-819db87def7c",
   "metadata": {},
   "outputs": [],
   "source": [
    "dname = join(dir_git)\n",
    "sys.path.append(dname)\n",
    "import surfAnalysisPy as surf"
   ]
  },
  {
   "cell_type": "code",
   "execution_count": 7,
   "id": "f4e8e268-fa6a-49ff-afc2-3528d00d210a",
   "metadata": {},
   "outputs": [],
   "source": [
    "dname = join(dir_git,'Functional_Fusion')\n",
    "sys.path.append(dname)\n",
    "import Functional_Fusion.atlas_map as am\n",
    "import Functional_Fusion.reliability as rel"
   ]
  },
  {
   "cell_type": "code",
   "execution_count": 8,
   "id": "da2d91d3-c57e-41be-b171-c946442e9747",
   "metadata": {},
   "outputs": [],
   "source": [
    "dname = join(dir_git,'PcmPy')\n",
    "sys.path.append(dname)\n",
    "import PcmPy as pcm"
   ]
  },
  {
   "cell_type": "code",
   "execution_count": 9,
   "id": "6f8001ea-2c76-4a7a-bc3f-aec68128aeb0",
   "metadata": {},
   "outputs": [],
   "source": [
    "dname = join(dir_git,'SeqSpatialSupp_fMRI')\n",
    "sys.path.append(dname)\n",
    "from SSS import deal_spm\n",
    "from SSS import util as su\n",
    "from SSS import plot as splt\n",
    "from SSS import image as simage\n",
    "from SSS import glmsingle as ssingle"
   ]
  },
  {
   "cell_type": "markdown",
   "id": "2e7a6a3e-ea3c-4629-892a-aa56f07c4e24",
   "metadata": {},
   "source": [
    "---"
   ]
  },
  {
   "cell_type": "code",
   "execution_count": 10,
   "id": "81eaf5fa-2215-4ab7-be14-6472541acf19",
   "metadata": {},
   "outputs": [],
   "source": [
    "list_run = su.get_list_run()"
   ]
  },
  {
   "cell_type": "code",
   "execution_count": 11,
   "id": "ed9d4d0b-5894-48af-98dc-f0b218de0d45",
   "metadata": {},
   "outputs": [],
   "source": [
    "list_sn = su.get_list_sn()"
   ]
  },
  {
   "cell_type": "markdown",
   "id": "7a89bbda-7235-4616-94f8-29ec243c1290",
   "metadata": {},
   "source": [
    "---"
   ]
  },
  {
   "cell_type": "code",
   "execution_count": 12,
   "id": "3a2d4e81-f07e-4b7f-9f45-3250ff75b140",
   "metadata": {},
   "outputs": [],
   "source": [
    "h = 'L'\n",
    "list_roi = simage.get_list_roi()"
   ]
  },
  {
   "cell_type": "markdown",
   "id": "9c5a9720-67be-4a0b-89b8-c94d7ba3e655",
   "metadata": {},
   "source": [
    "---"
   ]
  },
  {
   "cell_type": "code",
   "execution_count": 13,
   "id": "96900ab2-91a0-4c6e-ab47-add1338a5a3f",
   "metadata": {},
   "outputs": [
    {
     "data": {
      "text/plain": [
       "'/mnt/f/SeqSpatialSupp_fMRI/GLMsingle/glm_1'"
      ]
     },
     "execution_count": 13,
     "metadata": {},
     "output_type": "execute_result"
    }
   ],
   "source": [
    "glm = 1\n",
    "dir_glm = ssingle.get_dir_glmsingle(glm)\n",
    "dir_glm"
   ]
  },
  {
   "cell_type": "code",
   "execution_count": 14,
   "id": "0d972890-13b3-42df-abff-d16908a41828",
   "metadata": {},
   "outputs": [],
   "source": [
    "subj = 'S01'"
   ]
  },
  {
   "cell_type": "code",
   "execution_count": 15,
   "id": "a659d062-1966-4c51-a9a6-f50aa4f9641d",
   "metadata": {},
   "outputs": [],
   "source": [
    "Xs = ssingle.get_designSINGLE(subj=subj, glm=glm, run=1)\n",
    "T, P = Xs.shape"
   ]
  },
  {
   "cell_type": "markdown",
   "id": "12dccfaa-3a8c-4472-a9c5-03461b261cdf",
   "metadata": {},
   "source": [
    "---"
   ]
  },
  {
   "cell_type": "code",
   "execution_count": 20,
   "id": "4f24c463-d1a2-4d7c-9209-f1e6e60df8ae",
   "metadata": {},
   "outputs": [
    {
     "data": {
      "text/plain": [
       "(116, 116, 57)"
      ]
     },
     "execution_count": 20,
     "metadata": {},
     "output_type": "execute_result"
    }
   ],
   "source": [
    "mask, affine, header = simage.load_mask(subj, glm)\n",
    "spatial_shape = mask.shape\n",
    "V = np.prod(spatial_shape)\n",
    "spatial_shape"
   ]
  },
  {
   "cell_type": "code",
   "execution_count": null,
   "id": "89a864be-dcc1-488a-bd46-6b9800959671",
   "metadata": {},
   "outputs": [],
   "source": [
    "betas = np.ones((*spatial_shape, P)) * np.nan\n",
    "for ii, fname in enumerate(tqdm(sorted(glob(join(dir_glm,subj,'beta_*.nii'))))):\n",
    "    beta = nb.load(fname).get_fdata()\n",
    "    betas[...,ii] = beta\n",
    "    \n",
    "## check the validation\n",
    "assert betas.shape[-1] == P, f'P mismatch: X has {P} cols, beta has {betas.shape[-1]} regressors'"
   ]
  },
  {
   "cell_type": "code",
   "execution_count": 22,
   "id": "e6e0bdab-739e-49f9-880e-b1e48831fb20",
   "metadata": {},
   "outputs": [],
   "source": [
    "## Flattened in 2D for vectorized operations\n",
    "B_2d = betas.reshape(*spatial_shape, P).reshape(V, P)  # (V, P)\n",
    "del betas"
   ]
  },
  {
   "cell_type": "code",
   "execution_count": 23,
   "id": "25541599-29e4-4c10-9c45-182db44e3fd5",
   "metadata": {},
   "outputs": [],
   "source": [
    "## get y_hat\n",
    "Y_hat = Xs @ B_2d.T  # (T, V)\n",
    "\n",
    "yhat_4d = Y_hat.T.reshape(*spatial_shape, T)\n",
    "output = join(su.get_dir_result(),'%s_Yhat.nii'%subj)\n",
    "nb.save(nb.Nifti1Image(yhat_4d, affine=affine, header=header), output)"
   ]
  },
  {
   "cell_type": "markdown",
   "id": "83ccca63-fd9c-4b4a-af1d-4701149101e6",
   "metadata": {},
   "source": [
    "---"
   ]
  },
  {
   "cell_type": "code",
   "execution_count": null,
   "id": "ab928104-98b8-40d7-9dc3-2b6185b22ce0",
   "metadata": {},
   "outputs": [],
   "source": [
    "run = 1"
   ]
  },
  {
   "cell_type": "code",
   "execution_count": 19,
   "id": "002a5126-ee1c-4057-aad2-49dbb86f969c",
   "metadata": {},
   "outputs": [],
   "source": [
    "y_raw, affine, header = ssingle.get_y_raw(subj=subj, glm=glm, run=run)\n",
    "\n",
    "## check the validation\n",
    "assert y_raw.shape[-1] == T, f'T mismatch: X has {T} rows, y has {y_raw.shape[-1]} timepoints'\n",
    "\n",
    "## Flattened in 2D for vectorized operations\n",
    "Y_2d = y_raw.reshape(*spatial_shape, T).reshape(V, T).T  # (T, V)\n",
    "del y_raw"
   ]
  },
  {
   "cell_type": "code",
   "execution_count": null,
   "id": "f8a94b65-f5dd-4b1d-9420-5dabbda81981",
   "metadata": {},
   "outputs": [],
   "source": [
    "## get y_res\n",
    "R = Y_2d - Y_hat  # (T, V)"
   ]
  },
  {
   "cell_type": "code",
   "execution_count": null,
   "id": "3c77d6ea-e5cf-4aa4-a87e-58b3b928d69a",
   "metadata": {},
   "outputs": [],
   "source": [
    "voxel = 400000\n",
    "plt.plot(np.arange(T),Y_2d[:,voxel])\n",
    "plt.plot(np.arange(T),Y_hat[:,voxel])\n",
    "# plt.plot(np.arange(T),R[:,voxel])"
   ]
  },
  {
   "cell_type": "code",
   "execution_count": null,
   "id": "ce84aad4-d11d-4069-9475-d3fdfa7341ef",
   "metadata": {},
   "outputs": [],
   "source": []
  }
 ],
 "metadata": {
  "kernelspec": {
   "display_name": "sss",
   "language": "python",
   "name": "sss"
  },
  "language_info": {
   "codemirror_mode": {
    "name": "ipython",
    "version": 3
   },
   "file_extension": ".py",
   "mimetype": "text/x-python",
   "name": "python",
   "nbconvert_exporter": "python",
   "pygments_lexer": "ipython3",
   "version": "3.8.20"
  }
 },
 "nbformat": 4,
 "nbformat_minor": 5
}
